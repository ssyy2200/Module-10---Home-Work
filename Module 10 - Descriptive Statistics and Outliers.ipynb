{
 "cells": [
  {
   "cell_type": "markdown",
   "id": "a912cedd",
   "metadata": {},
   "source": [
    "# Module 10: Descriptive Statistics and Outliers\n",
    "***\n",
    "\n",
    "## What are statistics?\n",
    "\n",
    "Statistics deal with collecting informative data, interpreting these data, and drawing conclusions about the data. Statistics are used across multiple disciplines and fuel business and policy decisions.\n",
    "\n",
    "## Two types of statistics\n",
    "***\n",
    "#### Descriptive Statistics\n",
    "Descriptive statistics use numeric and graphical techniques to summarize the characteristics of a set of data and to identify patterns within the dataset. Descriptive statistics also include graphically summarizing data and presenting the information in a meaningful (easy to interpret) way. \n",
    "\n",
    "#### Inferential Statistics\n",
    "Inferential statistics use samples of data to make generalizations about a larger set of data (or a larger population). Inferential statistics use data to make estimates, decisions, and predictions about patterns and trends identified within a set of data. Inferential statistics are used to make conclusions beyond your immediate set of data. "
   ]
  },
  {
   "cell_type": "markdown",
   "id": "e9e11e6c",
   "metadata": {},
   "source": [
    "## Import Libraries and Data"
   ]
  },
  {
   "cell_type": "code",
   "execution_count": 54,
   "id": "aec4bc2e",
   "metadata": {},
   "outputs": [
    {
     "data": {
      "text/html": [
       "<div>\n",
       "<style scoped>\n",
       "    .dataframe tbody tr th:only-of-type {\n",
       "        vertical-align: middle;\n",
       "    }\n",
       "\n",
       "    .dataframe tbody tr th {\n",
       "        vertical-align: top;\n",
       "    }\n",
       "\n",
       "    .dataframe thead th {\n",
       "        text-align: right;\n",
       "    }\n",
       "</style>\n",
       "<table border=\"1\" class=\"dataframe\">\n",
       "  <thead>\n",
       "    <tr style=\"text-align: right;\">\n",
       "      <th></th>\n",
       "      <th>Fname</th>\n",
       "      <th>Lname</th>\n",
       "      <th>Position</th>\n",
       "      <th>Gender</th>\n",
       "      <th>Hours Worked</th>\n",
       "      <th>SalesTraining</th>\n",
       "      <th>Years Experience</th>\n",
       "      <th>Cars Sold</th>\n",
       "    </tr>\n",
       "  </thead>\n",
       "  <tbody>\n",
       "    <tr>\n",
       "      <th>0</th>\n",
       "      <td>Jackie</td>\n",
       "      <td>Jackson</td>\n",
       "      <td>Trainee</td>\n",
       "      <td>F</td>\n",
       "      <td>32</td>\n",
       "      <td>Y</td>\n",
       "      <td>1</td>\n",
       "      <td>3</td>\n",
       "    </tr>\n",
       "    <tr>\n",
       "      <th>1</th>\n",
       "      <td>Mary</td>\n",
       "      <td>Patterson</td>\n",
       "      <td>Trainee</td>\n",
       "      <td>F</td>\n",
       "      <td>43</td>\n",
       "      <td>N</td>\n",
       "      <td>1</td>\n",
       "      <td>6</td>\n",
       "    </tr>\n",
       "    <tr>\n",
       "      <th>2</th>\n",
       "      <td>Tanya</td>\n",
       "      <td>Adams</td>\n",
       "      <td>Trainee</td>\n",
       "      <td>F</td>\n",
       "      <td>28</td>\n",
       "      <td>Y</td>\n",
       "      <td>1</td>\n",
       "      <td>2</td>\n",
       "    </tr>\n",
       "    <tr>\n",
       "      <th>3</th>\n",
       "      <td>Tanya</td>\n",
       "      <td>Henderson</td>\n",
       "      <td>Trainee</td>\n",
       "      <td>F</td>\n",
       "      <td>24</td>\n",
       "      <td>Y</td>\n",
       "      <td>1</td>\n",
       "      <td>5</td>\n",
       "    </tr>\n",
       "    <tr>\n",
       "      <th>4</th>\n",
       "      <td>Walter</td>\n",
       "      <td>Franklin</td>\n",
       "      <td>Trainee</td>\n",
       "      <td>M</td>\n",
       "      <td>25</td>\n",
       "      <td>Y</td>\n",
       "      <td>1</td>\n",
       "      <td>4</td>\n",
       "    </tr>\n",
       "  </tbody>\n",
       "</table>\n",
       "</div>"
      ],
      "text/plain": [
       "    Fname      Lname Position Gender  Hours Worked SalesTraining  \\\n",
       "0  Jackie    Jackson  Trainee      F            32             Y   \n",
       "1    Mary  Patterson  Trainee      F            43             N   \n",
       "2   Tanya      Adams  Trainee      F            28             Y   \n",
       "3   Tanya  Henderson  Trainee      F            24             Y   \n",
       "4  Walter   Franklin  Trainee      M            25             Y   \n",
       "\n",
       "   Years Experience  Cars Sold  \n",
       "0                 1          3  \n",
       "1                 1          6  \n",
       "2                 1          2  \n",
       "3                 1          5  \n",
       "4                 1          4  "
      ]
     },
     "execution_count": 54,
     "metadata": {},
     "output_type": "execute_result"
    }
   ],
   "source": [
    "import pandas as pd\n",
    "import numpy as np\n",
    "import scipy.stats as stats ## new library alert! ##\n",
    "\n",
    "## SciPy is used for scientific and mathematic computing; it provides functions for stats, \n",
    "# data manipulation, and data visualization\n",
    "\n",
    "df = pd.read_excel(\"axisdata.xlsx\")\n",
    "\n",
    "df.head()"
   ]
  },
  {
   "cell_type": "markdown",
   "id": "74df32f8",
   "metadata": {},
   "source": [
    "## Qualitative vs Quantitative Data\n",
    "***\n",
    "\n",
    "#### Quantitative Data\n",
    "Data that are recorded on a numeric scale (i.e. age, weight, salary, number of empty seats on a plane, credit score etc). Quantitative variables are also called <b>numeric</b> variables. \n",
    "\n",
    "#### Qualitative Data\n",
    "Data that cannot be measured on a numeric scale (i.e. eye color, type of car, blood type, race etc). These data can only be classified into one group of categories. Qualitative variables are also called <b>categorical</b> variables. Qualitative data also includes text and string data. "
   ]
  },
  {
   "cell_type": "code",
   "execution_count": 55,
   "id": "3d59351d",
   "metadata": {},
   "outputs": [
    {
     "data": {
      "text/html": [
       "<div>\n",
       "<style scoped>\n",
       "    .dataframe tbody tr th:only-of-type {\n",
       "        vertical-align: middle;\n",
       "    }\n",
       "\n",
       "    .dataframe tbody tr th {\n",
       "        vertical-align: top;\n",
       "    }\n",
       "\n",
       "    .dataframe thead th {\n",
       "        text-align: right;\n",
       "    }\n",
       "</style>\n",
       "<table border=\"1\" class=\"dataframe\">\n",
       "  <thead>\n",
       "    <tr style=\"text-align: right;\">\n",
       "      <th></th>\n",
       "      <th>Fname</th>\n",
       "      <th>Lname</th>\n",
       "      <th>Position</th>\n",
       "      <th>Gender</th>\n",
       "      <th>Hours Worked</th>\n",
       "      <th>SalesTraining</th>\n",
       "      <th>Years Experience</th>\n",
       "      <th>Cars Sold</th>\n",
       "    </tr>\n",
       "  </thead>\n",
       "  <tbody>\n",
       "    <tr>\n",
       "      <th>0</th>\n",
       "      <td>Jackie</td>\n",
       "      <td>Jackson</td>\n",
       "      <td>Trainee</td>\n",
       "      <td>F</td>\n",
       "      <td>32</td>\n",
       "      <td>Y</td>\n",
       "      <td>1</td>\n",
       "      <td>3</td>\n",
       "    </tr>\n",
       "    <tr>\n",
       "      <th>1</th>\n",
       "      <td>Mary</td>\n",
       "      <td>Patterson</td>\n",
       "      <td>Trainee</td>\n",
       "      <td>F</td>\n",
       "      <td>43</td>\n",
       "      <td>N</td>\n",
       "      <td>1</td>\n",
       "      <td>6</td>\n",
       "    </tr>\n",
       "    <tr>\n",
       "      <th>2</th>\n",
       "      <td>Tanya</td>\n",
       "      <td>Adams</td>\n",
       "      <td>Trainee</td>\n",
       "      <td>F</td>\n",
       "      <td>28</td>\n",
       "      <td>Y</td>\n",
       "      <td>1</td>\n",
       "      <td>2</td>\n",
       "    </tr>\n",
       "    <tr>\n",
       "      <th>3</th>\n",
       "      <td>Tanya</td>\n",
       "      <td>Henderson</td>\n",
       "      <td>Trainee</td>\n",
       "      <td>F</td>\n",
       "      <td>24</td>\n",
       "      <td>Y</td>\n",
       "      <td>1</td>\n",
       "      <td>5</td>\n",
       "    </tr>\n",
       "    <tr>\n",
       "      <th>4</th>\n",
       "      <td>Walter</td>\n",
       "      <td>Franklin</td>\n",
       "      <td>Trainee</td>\n",
       "      <td>M</td>\n",
       "      <td>25</td>\n",
       "      <td>Y</td>\n",
       "      <td>1</td>\n",
       "      <td>4</td>\n",
       "    </tr>\n",
       "  </tbody>\n",
       "</table>\n",
       "</div>"
      ],
      "text/plain": [
       "    Fname      Lname Position Gender  Hours Worked SalesTraining  \\\n",
       "0  Jackie    Jackson  Trainee      F            32             Y   \n",
       "1    Mary  Patterson  Trainee      F            43             N   \n",
       "2   Tanya      Adams  Trainee      F            28             Y   \n",
       "3   Tanya  Henderson  Trainee      F            24             Y   \n",
       "4  Walter   Franklin  Trainee      M            25             Y   \n",
       "\n",
       "   Years Experience  Cars Sold  \n",
       "0                 1          3  \n",
       "1                 1          6  \n",
       "2                 1          2  \n",
       "3                 1          5  \n",
       "4                 1          4  "
      ]
     },
     "execution_count": 55,
     "metadata": {},
     "output_type": "execute_result"
    }
   ],
   "source": [
    "## Which variables are qualitative and which variables are quantitative?\n",
    "\n",
    "df.head()"
   ]
  },
  {
   "cell_type": "markdown",
   "id": "50d91d6d",
   "metadata": {},
   "source": [
    "## Describing Qualitative Data\n",
    "***\n",
    "\n",
    "Qualitative data is best summarized by frequency tables. \n",
    "\n",
    "Frequency tables summarize categorical data into a table showing each category, number of observations that fall within each category, and the relative frequency of each category. \n",
    "\n",
    "Relative frequency is the number of specific observations out of the total number of observations, or the percentage of the total sample that fall within a specific group. Both representations of categorical data give insight into how common specific categories are within a set of data. \n",
    "\n",
    "<b>Bar charts</b> are ideal for graphically representing qualitative data as they visually show the frequency of observations across various groups. \n",
    "\n",
    "#### GRAPHIC SHOULD READ N = 150 !!!\n",
    "\n",
    "<img src=\"FreqTable.png\">"
   ]
  },
  {
   "cell_type": "code",
   "execution_count": 56,
   "id": "3e690da0",
   "metadata": {},
   "outputs": [
    {
     "data": {
      "text/plain": [
       "M    510\n",
       "F    489\n",
       "Name: Gender, dtype: int64"
      ]
     },
     "execution_count": 56,
     "metadata": {},
     "output_type": "execute_result"
    }
   ],
   "source": [
    "## Frequencies \n",
    "\n",
    "df[\"Gender\"].value_counts()"
   ]
  },
  {
   "cell_type": "code",
   "execution_count": 57,
   "id": "16935be4",
   "metadata": {},
   "outputs": [
    {
     "data": {
      "text/plain": [
       "M    0.510511\n",
       "F    0.489489\n",
       "Name: Gender, dtype: float64"
      ]
     },
     "execution_count": 57,
     "metadata": {},
     "output_type": "execute_result"
    }
   ],
   "source": [
    "## Relative Frequencies \n",
    "\n",
    "df[\"Gender\"].value_counts(normalize=True)"
   ]
  },
  {
   "cell_type": "code",
   "execution_count": 61,
   "id": "cf057364",
   "metadata": {},
   "outputs": [
    {
     "data": {
      "text/html": [
       "<div>\n",
       "<style scoped>\n",
       "    .dataframe tbody tr th:only-of-type {\n",
       "        vertical-align: middle;\n",
       "    }\n",
       "\n",
       "    .dataframe tbody tr th {\n",
       "        vertical-align: top;\n",
       "    }\n",
       "\n",
       "    .dataframe thead th {\n",
       "        text-align: right;\n",
       "    }\n",
       "</style>\n",
       "<table border=\"1\" class=\"dataframe\">\n",
       "  <thead>\n",
       "    <tr style=\"text-align: right;\">\n",
       "      <th>SalesTraining</th>\n",
       "      <th>N</th>\n",
       "      <th>Y</th>\n",
       "    </tr>\n",
       "    <tr>\n",
       "      <th>Gender</th>\n",
       "      <th></th>\n",
       "      <th></th>\n",
       "    </tr>\n",
       "  </thead>\n",
       "  <tbody>\n",
       "    <tr>\n",
       "      <th>F</th>\n",
       "      <td>212</td>\n",
       "      <td>277</td>\n",
       "    </tr>\n",
       "    <tr>\n",
       "      <th>M</th>\n",
       "      <td>201</td>\n",
       "      <td>309</td>\n",
       "    </tr>\n",
       "  </tbody>\n",
       "</table>\n",
       "</div>"
      ],
      "text/plain": [
       "SalesTraining    N    Y\n",
       "Gender                 \n",
       "F              212  277\n",
       "M              201  309"
      ]
     },
     "execution_count": 61,
     "metadata": {},
     "output_type": "execute_result"
    }
   ],
   "source": [
    "## Multi-variable Frequencies \n",
    "\n",
    "pd.crosstab(df[\"Gender\"], df[\"SalesTraining\"], margins=False, normalize=False)"
   ]
  },
  {
   "cell_type": "markdown",
   "id": "a409e75f",
   "metadata": {},
   "source": [
    "# { Exercise 1 }\n",
    "\n",
    "    1. Import the \"pokemon.csv\" file; name the dataset 'poke'. Preview the first 5 rows. \n",
    "    2. Determine the frequencies of unique pokemon types (variable name: Type 1) in this dataset\n",
    "    3. Determine the relative frequencies of the unique pokemon types (variable name: Type 1) in this dataset\n",
    "    4. Create a crosstabs table that shows the frequency of pokemon stage (variable name: Stage) and legendary status (variable name: Legendary). "
   ]
  },
  {
   "cell_type": "code",
   "execution_count": 6,
   "id": "14a6a3d0",
   "metadata": {},
   "outputs": [],
   "source": [
    "## always start with importing the libraries you need! ## \n",
    "\n",
    "import pandas as pd\n",
    "\n",
    "## new library ##\n",
    "\n",
    "import numpy as np"
   ]
  },
  {
   "cell_type": "code",
   "execution_count": 67,
   "id": "a41a6da6",
   "metadata": {},
   "outputs": [
    {
     "data": {
      "text/html": [
       "<div>\n",
       "<style scoped>\n",
       "    .dataframe tbody tr th:only-of-type {\n",
       "        vertical-align: middle;\n",
       "    }\n",
       "\n",
       "    .dataframe tbody tr th {\n",
       "        vertical-align: top;\n",
       "    }\n",
       "\n",
       "    .dataframe thead th {\n",
       "        text-align: right;\n",
       "    }\n",
       "</style>\n",
       "<table border=\"1\" class=\"dataframe\">\n",
       "  <thead>\n",
       "    <tr style=\"text-align: right;\">\n",
       "      <th></th>\n",
       "      <th>Num</th>\n",
       "      <th>Name</th>\n",
       "      <th>Type 1</th>\n",
       "      <th>Type 2</th>\n",
       "      <th>Total</th>\n",
       "      <th>HP</th>\n",
       "      <th>Attack</th>\n",
       "      <th>Defense</th>\n",
       "      <th>SpAtk</th>\n",
       "      <th>SpDef</th>\n",
       "      <th>Speed</th>\n",
       "      <th>Stage</th>\n",
       "      <th>Legendary</th>\n",
       "    </tr>\n",
       "  </thead>\n",
       "  <tbody>\n",
       "    <tr>\n",
       "      <th>0</th>\n",
       "      <td>1</td>\n",
       "      <td>Bulbasaur</td>\n",
       "      <td>Grass</td>\n",
       "      <td>Poison</td>\n",
       "      <td>318</td>\n",
       "      <td>45</td>\n",
       "      <td>49</td>\n",
       "      <td>49</td>\n",
       "      <td>65</td>\n",
       "      <td>65</td>\n",
       "      <td>45</td>\n",
       "      <td>1</td>\n",
       "      <td>False</td>\n",
       "    </tr>\n",
       "    <tr>\n",
       "      <th>1</th>\n",
       "      <td>2</td>\n",
       "      <td>Ivysaur</td>\n",
       "      <td>Grass</td>\n",
       "      <td>Poison</td>\n",
       "      <td>405</td>\n",
       "      <td>60</td>\n",
       "      <td>62</td>\n",
       "      <td>63</td>\n",
       "      <td>80</td>\n",
       "      <td>80</td>\n",
       "      <td>60</td>\n",
       "      <td>2</td>\n",
       "      <td>False</td>\n",
       "    </tr>\n",
       "    <tr>\n",
       "      <th>2</th>\n",
       "      <td>3</td>\n",
       "      <td>Venusaur</td>\n",
       "      <td>Grass</td>\n",
       "      <td>Poison</td>\n",
       "      <td>525</td>\n",
       "      <td>80</td>\n",
       "      <td>82</td>\n",
       "      <td>83</td>\n",
       "      <td>100</td>\n",
       "      <td>100</td>\n",
       "      <td>80</td>\n",
       "      <td>3</td>\n",
       "      <td>False</td>\n",
       "    </tr>\n",
       "    <tr>\n",
       "      <th>3</th>\n",
       "      <td>4</td>\n",
       "      <td>Charmander</td>\n",
       "      <td>Fire</td>\n",
       "      <td>NaN</td>\n",
       "      <td>309</td>\n",
       "      <td>39</td>\n",
       "      <td>52</td>\n",
       "      <td>43</td>\n",
       "      <td>60</td>\n",
       "      <td>50</td>\n",
       "      <td>65</td>\n",
       "      <td>1</td>\n",
       "      <td>False</td>\n",
       "    </tr>\n",
       "    <tr>\n",
       "      <th>4</th>\n",
       "      <td>5</td>\n",
       "      <td>Charmeleon</td>\n",
       "      <td>Fire</td>\n",
       "      <td>NaN</td>\n",
       "      <td>405</td>\n",
       "      <td>58</td>\n",
       "      <td>64</td>\n",
       "      <td>58</td>\n",
       "      <td>80</td>\n",
       "      <td>65</td>\n",
       "      <td>80</td>\n",
       "      <td>2</td>\n",
       "      <td>False</td>\n",
       "    </tr>\n",
       "  </tbody>\n",
       "</table>\n",
       "</div>"
      ],
      "text/plain": [
       "   Num        Name Type 1  Type 2  Total  HP  Attack  Defense  SpAtk  SpDef  \\\n",
       "0    1   Bulbasaur  Grass  Poison    318  45      49       49     65     65   \n",
       "1    2     Ivysaur  Grass  Poison    405  60      62       63     80     80   \n",
       "2    3    Venusaur  Grass  Poison    525  80      82       83    100    100   \n",
       "3    4  Charmander   Fire     NaN    309  39      52       43     60     50   \n",
       "4    5  Charmeleon   Fire     NaN    405  58      64       58     80     65   \n",
       "\n",
       "   Speed  Stage  Legendary  \n",
       "0     45      1      False  \n",
       "1     60      2      False  \n",
       "2     80      3      False  \n",
       "3     65      1      False  \n",
       "4     80      2      False  "
      ]
     },
     "execution_count": 67,
     "metadata": {},
     "output_type": "execute_result"
    }
   ],
   "source": [
    "## similar process with slightly different code\n",
    "\n",
    "poke = pd.read_csv(\"pokemon.csv\")\n",
    "\n",
    "poke.head()"
   ]
  },
  {
   "cell_type": "code",
   "execution_count": 8,
   "id": "edf11f24",
   "metadata": {},
   "outputs": [
    {
     "data": {
      "text/plain": [
       "Water       28\n",
       "Normal      22\n",
       "Poison      14\n",
       "Grass       12\n",
       "Fire        12\n",
       "Bug         12\n",
       "Electric     9\n",
       "Rock         9\n",
       "Ground       8\n",
       "Psychic      8\n",
       "Fighting     7\n",
       "Ghost        3\n",
       "Dragon       3\n",
       "Fairy        2\n",
       "Ice          2\n",
       "Name: Type 1, dtype: int64"
      ]
     },
     "execution_count": 8,
     "metadata": {},
     "output_type": "execute_result"
    }
   ],
   "source": [
    "poke[\"Type 1\"].value_counts()"
   ]
  },
  {
   "cell_type": "code",
   "execution_count": 9,
   "id": "f8b7d438",
   "metadata": {},
   "outputs": [
    {
     "data": {
      "text/plain": [
       "Water       0.185430\n",
       "Normal      0.145695\n",
       "Poison      0.092715\n",
       "Grass       0.079470\n",
       "Fire        0.079470\n",
       "Bug         0.079470\n",
       "Electric    0.059603\n",
       "Rock        0.059603\n",
       "Ground      0.052980\n",
       "Psychic     0.052980\n",
       "Fighting    0.046358\n",
       "Ghost       0.019868\n",
       "Dragon      0.019868\n",
       "Fairy       0.013245\n",
       "Ice         0.013245\n",
       "Name: Type 1, dtype: float64"
      ]
     },
     "execution_count": 9,
     "metadata": {},
     "output_type": "execute_result"
    }
   ],
   "source": [
    "poke[\"Type 1\"].value_counts(normalize = True)"
   ]
  },
  {
   "cell_type": "code",
   "execution_count": 10,
   "id": "a2008fee",
   "metadata": {},
   "outputs": [
    {
     "data": {
      "text/html": [
       "<div>\n",
       "<style scoped>\n",
       "    .dataframe tbody tr th:only-of-type {\n",
       "        vertical-align: middle;\n",
       "    }\n",
       "\n",
       "    .dataframe tbody tr th {\n",
       "        vertical-align: top;\n",
       "    }\n",
       "\n",
       "    .dataframe thead th {\n",
       "        text-align: right;\n",
       "    }\n",
       "</style>\n",
       "<table border=\"1\" class=\"dataframe\">\n",
       "  <thead>\n",
       "    <tr style=\"text-align: right;\">\n",
       "      <th>Stage</th>\n",
       "      <th>1</th>\n",
       "      <th>2</th>\n",
       "      <th>3</th>\n",
       "      <th>All</th>\n",
       "    </tr>\n",
       "    <tr>\n",
       "      <th>Legendary</th>\n",
       "      <th></th>\n",
       "      <th></th>\n",
       "      <th></th>\n",
       "      <th></th>\n",
       "    </tr>\n",
       "  </thead>\n",
       "  <tbody>\n",
       "    <tr>\n",
       "      <th>False</th>\n",
       "      <td>75</td>\n",
       "      <td>56</td>\n",
       "      <td>16</td>\n",
       "      <td>147</td>\n",
       "    </tr>\n",
       "    <tr>\n",
       "      <th>True</th>\n",
       "      <td>4</td>\n",
       "      <td>0</td>\n",
       "      <td>0</td>\n",
       "      <td>4</td>\n",
       "    </tr>\n",
       "    <tr>\n",
       "      <th>All</th>\n",
       "      <td>79</td>\n",
       "      <td>56</td>\n",
       "      <td>16</td>\n",
       "      <td>151</td>\n",
       "    </tr>\n",
       "  </tbody>\n",
       "</table>\n",
       "</div>"
      ],
      "text/plain": [
       "Stage       1   2   3  All\n",
       "Legendary                 \n",
       "False      75  56  16  147\n",
       "True        4   0   0    4\n",
       "All        79  56  16  151"
      ]
     },
     "execution_count": 10,
     "metadata": {},
     "output_type": "execute_result"
    }
   ],
   "source": [
    "pd.crosstab(poke[\"Legendary\"], poke[\"Stage\"], margins = True, normalize = False)"
   ]
  },
  {
   "cell_type": "markdown",
   "id": "06401fbf",
   "metadata": {},
   "source": [
    "## Describing Quantitative Data\n",
    "\n",
    "There are many more techniques for describing quantitative data compared to qualitative. When summarizing quantitative data, the objective is to get a sense of how the data is clustered and the variation in numeric values. \n",
    "\n",
    "***\n",
    "\n",
    "### Measures of Central Tendency\n",
    "\n",
    "Measures of Central Tendency are estimates of what a \"typical\" value/data point is within your set of data. A measure of central tendency is a number around which an entire sample of data is spread. We can describe this central position using several statistics, including the mean (average), the median, and the mode. \n",
    "\n",
    "Measures of central tendency can be visualized with a frequency distribution (histogram). A frequency distribution is a description of values and how often each value occurs within your dataset. When you graph a frequency distribution a pattern/shape should give insight into which values occured the most/least. \n",
    "\n",
    "<img src=\"NormalDist.jpg\">\n",
    "\n",
    "***\n",
    "\n",
    "#### Mean\n",
    "\n",
    "The mean, which is the most commonly known and used measure of central tendency, is the arithmetic average of a set of numeric values. The mean is calculated by adding all the values together and dividing by the total number of values in the set of values. In specific sets of data, the mean is the central point in the frequency distribution aka the hump. "
   ]
  },
  {
   "cell_type": "code",
   "execution_count": 11,
   "id": "9875c190",
   "metadata": {},
   "outputs": [
    {
     "data": {
      "text/plain": [
       "33.727727727727725"
      ]
     },
     "execution_count": 11,
     "metadata": {},
     "output_type": "execute_result"
    }
   ],
   "source": [
    "## Calculate the Mean of a column \n",
    "\n",
    "df[\"Hours Worked\"].mean()"
   ]
  },
  {
   "cell_type": "markdown",
   "id": "b2722e86",
   "metadata": {},
   "source": [
    "#### Median \n",
    "\n",
    "The median is the value which divides the data into two equal parts when the data is arranged from least to greatest. The median will be the middle value if the number of values is odd, otherwise, it will be the average of the two middle values if the number of values is even. "
   ]
  },
  {
   "cell_type": "code",
   "execution_count": 62,
   "id": "24bffb75",
   "metadata": {},
   "outputs": [
    {
     "data": {
      "text/plain": [
       "34.0"
      ]
     },
     "execution_count": 62,
     "metadata": {},
     "output_type": "execute_result"
    }
   ],
   "source": [
    "## Calculate the Median of a column \n",
    "\n",
    "df[\"Hours Worked\"].median()"
   ]
  },
  {
   "cell_type": "markdown",
   "id": "47a9f4a9",
   "metadata": {},
   "source": [
    "#### Mode \n",
    "\n",
    "The mode is the value that appears most frequently in a sample of data, or the value that has the highest frequency. It is possible for a set of data to have no mode, and it is possible for a set of data to have multiple modes. "
   ]
  },
  {
   "cell_type": "code",
   "execution_count": 13,
   "id": "62704419",
   "metadata": {},
   "outputs": [
    {
     "data": {
      "text/plain": [
       "0    38\n",
       "Name: Hours Worked, dtype: int64"
      ]
     },
     "execution_count": 13,
     "metadata": {},
     "output_type": "execute_result"
    }
   ],
   "source": [
    "## Calculate the Mode of a column \n",
    "\n",
    "df[\"Hours Worked\"].mode()"
   ]
  },
  {
   "cell_type": "markdown",
   "id": "238561a5",
   "metadata": {},
   "source": [
    "# { Exercise 2 }\n",
    "\n",
    "    1. Using the pokemon dataset ('poke'), calculate the mean attack value (Attack) in the dataset.  \n",
    "    2. Determine the median defense value (Defense). Write a single sentence on what your findings mean. \n",
    "    3. Determine the mode of the speed (Speed) column. Write a single sentence on what your findings mean. "
   ]
  },
  {
   "cell_type": "code",
   "execution_count": 68,
   "id": "4279bb85",
   "metadata": {},
   "outputs": [
    {
     "data": {
      "text/plain": [
       "72.54966887417218"
      ]
     },
     "execution_count": 68,
     "metadata": {},
     "output_type": "execute_result"
    }
   ],
   "source": [
    "## the average value in the Attack Column\n",
    "\n",
    "poke[\"Attack\"].mean()"
   ]
  },
  {
   "cell_type": "code",
   "execution_count": 64,
   "id": "970ef683",
   "metadata": {},
   "outputs": [
    {
     "data": {
      "text/plain": [
       "65.0"
      ]
     },
     "execution_count": 64,
     "metadata": {},
     "output_type": "execute_result"
    }
   ],
   "source": [
    "## the middle value when arranged orderly in the Defence Column\n",
    "\n",
    "poke[\"Defense\"].median()"
   ]
  },
  {
   "cell_type": "code",
   "execution_count": 65,
   "id": "15fec227",
   "metadata": {},
   "outputs": [
    {
     "data": {
      "text/plain": [
       "0    70\n",
       "1    90\n",
       "Name: Speed, dtype: int64"
      ]
     },
     "execution_count": 65,
     "metadata": {},
     "output_type": "execute_result"
    }
   ],
   "source": [
    "## the most frequent valus in the Speed Column\n",
    "poke[\"Speed\"].mode()"
   ]
  },
  {
   "cell_type": "code",
   "execution_count": null,
   "id": "ebf997da",
   "metadata": {},
   "outputs": [],
   "source": []
  },
  {
   "cell_type": "markdown",
   "id": "bd766711",
   "metadata": {},
   "source": [
    "### Data Distribution and Measurement Sensitivity\n",
    "***\n",
    "\n",
    "### Normally distributed data vs. non-normally distributed data\n",
    "\n",
    "Several statistics are suited for data that follows a <b>normal distribution</b>. When visualized, normally distributed data lies in a symmetrical pattern (bell-shape) where the majority of the data surrounds the mean with decreasing amounts evenly distributed to the left and the right. \n",
    "\n",
    "While this is the ideal, real-world data is not always normally distributed. Non-normal distribution is possible and there are several statistics that can still be used with non-normally distributed data. It is important to determine how your data is distributed before you embark on certain statistics. \n",
    "\n",
    "#### Distribution and Measure of Central Tendency\n",
    "\n",
    "The shape of the data helps to determine which measure of central tendency should be reported. Some statistics are very sensitive to non-normal distributions, while others are more resilient. Three of the most common shapes to learn are symmetric, left-skewed, and right-skewed. <b>Skew</b> is simply a measure of the asymmetry of the distribution. <b>In the below images, while not shown, the values are increasing from left to right.</b> \n",
    "\n",
    "#### Symmetric Data\n",
    "* mean, median, and mode are all the same here\n",
    "* no skewness is apparent\n",
    "* the distribution is described as symmetric\n",
    "\n",
    "<img src=\"Symmetrical.jpg\">\n",
    "\n",
    "***\n",
    "\n",
    "#### Left-skewed Data\n",
    "* mean < median\n",
    "* long tail on the left\n",
    "\n",
    "<img src=\"LeftSkew.jpg\">\n",
    "\n",
    "***\n",
    "\n",
    "#### Right-skewed Data\n",
    "* mean > median\n",
    "* long tail on the right\n",
    "\n",
    "<img src=\"RightSkew.jpg\">\n",
    "\n",
    "***\n",
    "\n",
    "### Considerations for Shape\n",
    "\n",
    "When your data is skewed in either direction, you should consider the best measure of central tendency to report. The median is best used when you have skewed data. This is because the median is less affected by extreme values. \n",
    "\n",
    "If your data is skewed, this could be an indication that your data has extreme high or low values that are contributing to the skewness. Later in this lesson, we will talk about how to handle extreme values. "
   ]
  },
  {
   "cell_type": "code",
   "execution_count": null,
   "id": "2d58a707",
   "metadata": {},
   "outputs": [],
   "source": []
  },
  {
   "cell_type": "code",
   "execution_count": null,
   "id": "2427e6e8",
   "metadata": {},
   "outputs": [],
   "source": []
  },
  {
   "cell_type": "markdown",
   "id": "7141c9ea",
   "metadata": {},
   "source": [
    "### Measures of Variability (or Spread)\n",
    "\n",
    "Measures of Variability, or spread, describe the amount of dispersion in your data sample. In other words, measures of variability, describe how spread out values are. For example, in a sample of 100 students, the average test score is 75. However, not all students will have gotten a 75 - their scores will be spread out above and below the average, some will be higher and some lower. To describe the spread of our data, we can use several statistics, including range, standard deviation, percentiles, and quartiles.\n",
    "\n",
    "***\n",
    "\n",
    "#### Range\n",
    "\n",
    "The range is the difference between the lowest and highest value in a set of data. For example, if the maximum value is 10 and the minimum value is 2, the range is 8. The larger the range, the larger the difference between the highest and lowest values. "
   ]
  },
  {
   "cell_type": "code",
   "execution_count": 14,
   "id": "8e051a04",
   "metadata": {},
   "outputs": [
    {
     "name": "stdout",
     "output_type": "stream",
     "text": [
      "28\n"
     ]
    }
   ],
   "source": [
    "## Calculate the range of values in a column\n",
    "\n",
    "hrs_range = df['Hours Worked'].max() - df['Hours Worked'].min()\n",
    "\n",
    "print(hrs_range)"
   ]
  },
  {
   "cell_type": "markdown",
   "id": "268202ff",
   "metadata": {},
   "source": [
    "#### Standard Deviation (SD)\n",
    "\n",
    "The SD is a measurement of the average distance between each data value and the mean. You can consider SD as a measure of how spread out the data is from the mean. A low SD indicates that the data points are clustered around the mean, while a high SD indicates the data points are spread out over a wider range of values. \n",
    "\n",
    "<img src=\"https://d20khd7ddkh5ls.cloudfront.net/high_low_standard_deviation.png\">"
   ]
  },
  {
   "cell_type": "code",
   "execution_count": 15,
   "id": "4c6d3b46",
   "metadata": {},
   "outputs": [
    {
     "name": "stdout",
     "output_type": "stream",
     "text": [
      "Mean hours worked by all employees: 33.727727727727725\n"
     ]
    },
    {
     "data": {
      "text/plain": [
       "8.223453795492198"
      ]
     },
     "execution_count": 15,
     "metadata": {},
     "output_type": "execute_result"
    }
   ],
   "source": [
    "## Calculate the Standard Deviation of values in a column\n",
    "\n",
    "print(\"Mean hours worked by all employees:\", df[\"Hours Worked\"].mean())\n",
    "\n",
    "df[\"Hours Worked\"].std()"
   ]
  },
  {
   "cell_type": "markdown",
   "id": "fdd0c97b",
   "metadata": {},
   "source": [
    "#### Percentiles\n",
    "\n",
    "Percentiles give insight into the relation of one data point to other data points within the same dataset. When the data values are arranged from lowest to highest, percentiles represent the position of a value within the list of values. For example, if a value is at the 50th percentile - 50% of the data falls below the value, and 50% fall above the value. If a value is at the 85th percentile - 85% of the data falls below the value, and 15% fall above the value. "
   ]
  },
  {
   "cell_type": "code",
   "execution_count": 16,
   "id": "03f15bee",
   "metadata": {},
   "outputs": [
    {
     "data": {
      "text/plain": [
       "44.0"
      ]
     },
     "execution_count": 16,
     "metadata": {},
     "output_type": "execute_result"
    }
   ],
   "source": [
    "## Calculate percentiles of values in a column\n",
    "## To determine the value that falls at a specific percentile\n",
    "## np.percentile(data/column, percentile value)\n",
    "\n",
    "np.percentile(df['Hours Worked'], 85)\n",
    "\n",
    "## Determine which value falls at the 85th percentile? \n",
    "## 85% of the values in Hours Worked are below this value, 15% are above this value. "
   ]
  },
  {
   "cell_type": "markdown",
   "id": "404b48bb",
   "metadata": {},
   "source": [
    "#### Quartiles \n",
    "\n",
    "Quartiles are values that divide a set of data into equal quarters (when the data is ordered from lowest to highest). There are <b>three</b> quartile values that divide the data into four parts (see below). \n",
    "\n",
    "<img src=\"quar.png\">\n",
    "\n",
    "* The first quartile (Q1) is at the 25th percentile (25% below, 75% above)\n",
    "* The second quartile (Q2) is at the 50th percentile (50% below, 50% above, median)\n",
    "* The third quartile (Q3) is at the 75th percentile (75% below, 25% above)\n",
    "\n",
    "<b>Quartiles can be used to calculate the Interquartile Range (IQR) - which can be used to handle outliers in your dataset.</b>"
   ]
  },
  {
   "cell_type": "code",
   "execution_count": 17,
   "id": "5a401565",
   "metadata": {},
   "outputs": [
    {
     "data": {
      "text/plain": [
       "27.0"
      ]
     },
     "execution_count": 17,
     "metadata": {},
     "output_type": "execute_result"
    }
   ],
   "source": [
    "## Determine the three quartiles of a set of data\n",
    "## A quantile is a series of values, or cut points, that divide a set of data into equal parts \n",
    "## A 'quartile' is a specical kind of quantile that divides the data into four equal parts\n",
    "\n",
    "df['Hours Worked'].quantile(.25) \n",
    "\n",
    "#Q1 = .25\n",
    "#Q2 = .50\n",
    "#Q3 = .75"
   ]
  },
  {
   "cell_type": "markdown",
   "id": "70809067",
   "metadata": {},
   "source": [
    "#### All of the Above \n",
    "\n",
    "The describe function is perfect for outputting multiple descriptive statistics at once. This will save you multiple steps if you want to look at one or several quantitative variables. "
   ]
  },
  {
   "cell_type": "code",
   "execution_count": 18,
   "id": "c6c02bf7",
   "metadata": {},
   "outputs": [
    {
     "data": {
      "text/html": [
       "<div>\n",
       "<style scoped>\n",
       "    .dataframe tbody tr th:only-of-type {\n",
       "        vertical-align: middle;\n",
       "    }\n",
       "\n",
       "    .dataframe tbody tr th {\n",
       "        vertical-align: top;\n",
       "    }\n",
       "\n",
       "    .dataframe thead th {\n",
       "        text-align: right;\n",
       "    }\n",
       "</style>\n",
       "<table border=\"1\" class=\"dataframe\">\n",
       "  <thead>\n",
       "    <tr style=\"text-align: right;\">\n",
       "      <th></th>\n",
       "      <th>Hours Worked</th>\n",
       "      <th>Years Experience</th>\n",
       "      <th>Cars Sold</th>\n",
       "    </tr>\n",
       "  </thead>\n",
       "  <tbody>\n",
       "    <tr>\n",
       "      <th>count</th>\n",
       "      <td>999.000000</td>\n",
       "      <td>999.000000</td>\n",
       "      <td>999.000000</td>\n",
       "    </tr>\n",
       "    <tr>\n",
       "      <th>mean</th>\n",
       "      <td>33.727728</td>\n",
       "      <td>3.026026</td>\n",
       "      <td>3.922923</td>\n",
       "    </tr>\n",
       "    <tr>\n",
       "      <th>std</th>\n",
       "      <td>8.223454</td>\n",
       "      <td>1.394709</td>\n",
       "      <td>1.527000</td>\n",
       "    </tr>\n",
       "    <tr>\n",
       "      <th>min</th>\n",
       "      <td>20.000000</td>\n",
       "      <td>1.000000</td>\n",
       "      <td>1.000000</td>\n",
       "    </tr>\n",
       "    <tr>\n",
       "      <th>25%</th>\n",
       "      <td>27.000000</td>\n",
       "      <td>2.000000</td>\n",
       "      <td>3.000000</td>\n",
       "    </tr>\n",
       "    <tr>\n",
       "      <th>50%</th>\n",
       "      <td>34.000000</td>\n",
       "      <td>3.000000</td>\n",
       "      <td>4.000000</td>\n",
       "    </tr>\n",
       "    <tr>\n",
       "      <th>75%</th>\n",
       "      <td>41.000000</td>\n",
       "      <td>4.000000</td>\n",
       "      <td>5.000000</td>\n",
       "    </tr>\n",
       "    <tr>\n",
       "      <th>max</th>\n",
       "      <td>48.000000</td>\n",
       "      <td>5.000000</td>\n",
       "      <td>7.000000</td>\n",
       "    </tr>\n",
       "  </tbody>\n",
       "</table>\n",
       "</div>"
      ],
      "text/plain": [
       "       Hours Worked  Years Experience   Cars Sold\n",
       "count    999.000000        999.000000  999.000000\n",
       "mean      33.727728          3.026026    3.922923\n",
       "std        8.223454          1.394709    1.527000\n",
       "min       20.000000          1.000000    1.000000\n",
       "25%       27.000000          2.000000    3.000000\n",
       "50%       34.000000          3.000000    4.000000\n",
       "75%       41.000000          4.000000    5.000000\n",
       "max       48.000000          5.000000    7.000000"
      ]
     },
     "execution_count": 18,
     "metadata": {},
     "output_type": "execute_result"
    }
   ],
   "source": [
    "## Use the describe function to view multiple statistics at the same time\n",
    "\n",
    "df.describe()"
   ]
  },
  {
   "cell_type": "code",
   "execution_count": 19,
   "id": "8d7fc4f7",
   "metadata": {},
   "outputs": [
    {
     "data": {
      "text/plain": [
       "count    999.000000\n",
       "mean      33.727728\n",
       "std        8.223454\n",
       "min       20.000000\n",
       "25%       27.000000\n",
       "50%       34.000000\n",
       "75%       41.000000\n",
       "max       48.000000\n",
       "Name: Hours Worked, dtype: float64"
      ]
     },
     "execution_count": 19,
     "metadata": {},
     "output_type": "execute_result"
    }
   ],
   "source": [
    "## Use the describe function to isolate information for a single column\n",
    "\n",
    "df['Hours Worked'].describe()"
   ]
  },
  {
   "cell_type": "markdown",
   "id": "6fef3e31",
   "metadata": {},
   "source": [
    "# { Exercise 3 }\n",
    "\n",
    "    1. Using the pokemon dataset ('poke'), calculate the range for the HP column. \n",
    "    2. What is the mean and the standard deviation for the special attack (SpAtk) column?\n",
    "    3. For the Attack column, determine which value falls at the 80th percentile? Which value falls at the 15th percentile? For each of these values, write a single sentence describing what this means. \n",
    "    4. Calculate the second quartile (or the median) for the special defense (SpDef) column. Then, calculate the median of the same column using the method shown above. Are the values the same? "
   ]
  },
  {
   "cell_type": "code",
   "execution_count": 69,
   "id": "8eaf258a",
   "metadata": {
    "scrolled": true
   },
   "outputs": [
    {
     "data": {
      "text/html": [
       "<div>\n",
       "<style scoped>\n",
       "    .dataframe tbody tr th:only-of-type {\n",
       "        vertical-align: middle;\n",
       "    }\n",
       "\n",
       "    .dataframe tbody tr th {\n",
       "        vertical-align: top;\n",
       "    }\n",
       "\n",
       "    .dataframe thead th {\n",
       "        text-align: right;\n",
       "    }\n",
       "</style>\n",
       "<table border=\"1\" class=\"dataframe\">\n",
       "  <thead>\n",
       "    <tr style=\"text-align: right;\">\n",
       "      <th></th>\n",
       "      <th>Num</th>\n",
       "      <th>Total</th>\n",
       "      <th>HP</th>\n",
       "      <th>Attack</th>\n",
       "      <th>Defense</th>\n",
       "      <th>SpAtk</th>\n",
       "      <th>SpDef</th>\n",
       "      <th>Speed</th>\n",
       "      <th>Stage</th>\n",
       "    </tr>\n",
       "  </thead>\n",
       "  <tbody>\n",
       "    <tr>\n",
       "      <th>count</th>\n",
       "      <td>151.000000</td>\n",
       "      <td>151.00000</td>\n",
       "      <td>151.000000</td>\n",
       "      <td>151.000000</td>\n",
       "      <td>151.000000</td>\n",
       "      <td>151.000000</td>\n",
       "      <td>151.000000</td>\n",
       "      <td>151.000000</td>\n",
       "      <td>151.000000</td>\n",
       "    </tr>\n",
       "    <tr>\n",
       "      <th>mean</th>\n",
       "      <td>76.000000</td>\n",
       "      <td>407.07947</td>\n",
       "      <td>64.211921</td>\n",
       "      <td>72.549669</td>\n",
       "      <td>68.225166</td>\n",
       "      <td>67.139073</td>\n",
       "      <td>66.019868</td>\n",
       "      <td>68.933775</td>\n",
       "      <td>1.582781</td>\n",
       "    </tr>\n",
       "    <tr>\n",
       "      <th>std</th>\n",
       "      <td>43.734045</td>\n",
       "      <td>99.74384</td>\n",
       "      <td>28.590117</td>\n",
       "      <td>26.596162</td>\n",
       "      <td>26.916704</td>\n",
       "      <td>28.534199</td>\n",
       "      <td>24.197926</td>\n",
       "      <td>26.746880</td>\n",
       "      <td>0.676832</td>\n",
       "    </tr>\n",
       "    <tr>\n",
       "      <th>min</th>\n",
       "      <td>1.000000</td>\n",
       "      <td>195.00000</td>\n",
       "      <td>10.000000</td>\n",
       "      <td>5.000000</td>\n",
       "      <td>5.000000</td>\n",
       "      <td>15.000000</td>\n",
       "      <td>20.000000</td>\n",
       "      <td>15.000000</td>\n",
       "      <td>1.000000</td>\n",
       "    </tr>\n",
       "    <tr>\n",
       "      <th>25%</th>\n",
       "      <td>38.500000</td>\n",
       "      <td>320.00000</td>\n",
       "      <td>45.000000</td>\n",
       "      <td>51.000000</td>\n",
       "      <td>50.000000</td>\n",
       "      <td>45.000000</td>\n",
       "      <td>49.000000</td>\n",
       "      <td>46.500000</td>\n",
       "      <td>1.000000</td>\n",
       "    </tr>\n",
       "    <tr>\n",
       "      <th>50%</th>\n",
       "      <td>76.000000</td>\n",
       "      <td>405.00000</td>\n",
       "      <td>60.000000</td>\n",
       "      <td>70.000000</td>\n",
       "      <td>65.000000</td>\n",
       "      <td>65.000000</td>\n",
       "      <td>65.000000</td>\n",
       "      <td>70.000000</td>\n",
       "      <td>1.000000</td>\n",
       "    </tr>\n",
       "    <tr>\n",
       "      <th>75%</th>\n",
       "      <td>113.500000</td>\n",
       "      <td>490.00000</td>\n",
       "      <td>80.000000</td>\n",
       "      <td>90.000000</td>\n",
       "      <td>84.000000</td>\n",
       "      <td>87.500000</td>\n",
       "      <td>80.000000</td>\n",
       "      <td>90.000000</td>\n",
       "      <td>2.000000</td>\n",
       "    </tr>\n",
       "    <tr>\n",
       "      <th>max</th>\n",
       "      <td>151.000000</td>\n",
       "      <td>680.00000</td>\n",
       "      <td>250.000000</td>\n",
       "      <td>134.000000</td>\n",
       "      <td>180.000000</td>\n",
       "      <td>154.000000</td>\n",
       "      <td>125.000000</td>\n",
       "      <td>140.000000</td>\n",
       "      <td>3.000000</td>\n",
       "    </tr>\n",
       "  </tbody>\n",
       "</table>\n",
       "</div>"
      ],
      "text/plain": [
       "              Num      Total          HP      Attack     Defense       SpAtk  \\\n",
       "count  151.000000  151.00000  151.000000  151.000000  151.000000  151.000000   \n",
       "mean    76.000000  407.07947   64.211921   72.549669   68.225166   67.139073   \n",
       "std     43.734045   99.74384   28.590117   26.596162   26.916704   28.534199   \n",
       "min      1.000000  195.00000   10.000000    5.000000    5.000000   15.000000   \n",
       "25%     38.500000  320.00000   45.000000   51.000000   50.000000   45.000000   \n",
       "50%     76.000000  405.00000   60.000000   70.000000   65.000000   65.000000   \n",
       "75%    113.500000  490.00000   80.000000   90.000000   84.000000   87.500000   \n",
       "max    151.000000  680.00000  250.000000  134.000000  180.000000  154.000000   \n",
       "\n",
       "            SpDef       Speed       Stage  \n",
       "count  151.000000  151.000000  151.000000  \n",
       "mean    66.019868   68.933775    1.582781  \n",
       "std     24.197926   26.746880    0.676832  \n",
       "min     20.000000   15.000000    1.000000  \n",
       "25%     49.000000   46.500000    1.000000  \n",
       "50%     65.000000   70.000000    1.000000  \n",
       "75%     80.000000   90.000000    2.000000  \n",
       "max    125.000000  140.000000    3.000000  "
      ]
     },
     "execution_count": 69,
     "metadata": {},
     "output_type": "execute_result"
    }
   ],
   "source": [
    "poke = pd.read_csv(\"pokemon.csv\")\n",
    "\n",
    "poke.describe()\n"
   ]
  },
  {
   "cell_type": "code",
   "execution_count": 21,
   "id": "a7aed6b0",
   "metadata": {},
   "outputs": [
    {
     "name": "stdout",
     "output_type": "stream",
     "text": [
      "240\n"
     ]
    }
   ],
   "source": [
    "HP_range = poke['HP'].max() - poke['HP'].min()\n",
    "\n",
    "print(HP_range)"
   ]
  },
  {
   "cell_type": "code",
   "execution_count": 22,
   "id": "cd5cca48",
   "metadata": {},
   "outputs": [
    {
     "data": {
      "text/plain": [
       "67.13907284768212"
      ]
     },
     "execution_count": 22,
     "metadata": {},
     "output_type": "execute_result"
    }
   ],
   "source": [
    "poke['SpAtk'].mean() "
   ]
  },
  {
   "cell_type": "code",
   "execution_count": 23,
   "id": "ca9b1cda",
   "metadata": {},
   "outputs": [
    {
     "data": {
      "text/plain": [
       "28.53419930191353"
      ]
     },
     "execution_count": 23,
     "metadata": {},
     "output_type": "execute_result"
    }
   ],
   "source": [
    "poke['SpAtk'].std()"
   ]
  },
  {
   "cell_type": "code",
   "execution_count": 24,
   "id": "8f1a0c43",
   "metadata": {},
   "outputs": [
    {
     "data": {
      "text/plain": [
       "95.0"
      ]
     },
     "execution_count": 24,
     "metadata": {},
     "output_type": "execute_result"
    }
   ],
   "source": [
    "np.percentile(poke['Attack'], 80)"
   ]
  },
  {
   "cell_type": "code",
   "execution_count": 25,
   "id": "5b2ee968",
   "metadata": {},
   "outputs": [
    {
     "data": {
      "text/plain": [
       "45.0"
      ]
     },
     "execution_count": 25,
     "metadata": {},
     "output_type": "execute_result"
    }
   ],
   "source": [
    "np.percentile(poke['Attack'], 15)"
   ]
  },
  {
   "cell_type": "code",
   "execution_count": 71,
   "id": "ffcbd800",
   "metadata": {},
   "outputs": [
    {
     "data": {
      "text/plain": [
       "65.0"
      ]
     },
     "execution_count": 71,
     "metadata": {},
     "output_type": "execute_result"
    }
   ],
   "source": [
    "## Determine the three quartiles of a set of data\n",
    "## A quantile is a series of values, or cut points, that divide a set of data into equal parts \n",
    "## A 'quartile' is a specical kind of quantile that divides the data into four equal parts\n",
    "\n",
    "poke['SpDef'].quantile(.50) \n",
    "\n",
    "#Q1 = .25\n",
    "#Q2 = .50\n",
    "#Q3 = .75"
   ]
  },
  {
   "cell_type": "code",
   "execution_count": 72,
   "id": "4f2e4ad8",
   "metadata": {},
   "outputs": [
    {
     "data": {
      "text/plain": [
       "65.0"
      ]
     },
     "execution_count": 72,
     "metadata": {},
     "output_type": "execute_result"
    }
   ],
   "source": [
    "## the middle value when arranged orderly in the Defence Column\n",
    "## Here we conclude the Q2 = .50, is also the median value of the dataset pokemon\n",
    "\n",
    "poke[\"Defense\"].median()"
   ]
  },
  {
   "cell_type": "markdown",
   "id": "e1d602cd",
   "metadata": {},
   "source": [
    "## Handling and Removing Outliers\n",
    "\n",
    "***\n",
    "\n",
    "Outliers are data points that differ significantly from other data points. Outliers are an important feature of a dataset that should be identified and addressed because extreme values can influence the results of your statistics. \n",
    "\n",
    "   * In a sample of 5 students, their ages are 25, 22, 97, 23, 21 - 97 is an outlier because the value differs significantly from the remaining data.\n",
    "   * Without removing outlier, the mean is: 37.6 and the median is: 23\n",
    "   * When removing the outlier, the mean is: 22.75 and the median is: 22.5\n",
    "\n",
    "Determining which values are extreme can be challenging when you have a larger dataset. There are several methods that can be used to strategically determine which values are outliers, we will cover two separate methods below. "
   ]
  },
  {
   "cell_type": "code",
   "execution_count": 26,
   "id": "5100993b",
   "metadata": {},
   "outputs": [
    {
     "data": {
      "text/html": [
       "<div>\n",
       "<style scoped>\n",
       "    .dataframe tbody tr th:only-of-type {\n",
       "        vertical-align: middle;\n",
       "    }\n",
       "\n",
       "    .dataframe tbody tr th {\n",
       "        vertical-align: top;\n",
       "    }\n",
       "\n",
       "    .dataframe thead th {\n",
       "        text-align: right;\n",
       "    }\n",
       "</style>\n",
       "<table border=\"1\" class=\"dataframe\">\n",
       "  <thead>\n",
       "    <tr style=\"text-align: right;\">\n",
       "      <th></th>\n",
       "      <th>Employee</th>\n",
       "      <th>YearsExperience</th>\n",
       "      <th>Salary</th>\n",
       "      <th>Age</th>\n",
       "      <th>Gender</th>\n",
       "      <th>RemoteStatus</th>\n",
       "      <th>Region</th>\n",
       "      <th>CompanyCar</th>\n",
       "      <th>Shift</th>\n",
       "      <th>PerformanceReviewScore</th>\n",
       "    </tr>\n",
       "  </thead>\n",
       "  <tbody>\n",
       "    <tr>\n",
       "      <th>0</th>\n",
       "      <td>Richard</td>\n",
       "      <td>5.1</td>\n",
       "      <td>66029</td>\n",
       "      <td>41</td>\n",
       "      <td>Female</td>\n",
       "      <td>0</td>\n",
       "      <td>Central</td>\n",
       "      <td>Y</td>\n",
       "      <td>2</td>\n",
       "      <td>98.3</td>\n",
       "    </tr>\n",
       "    <tr>\n",
       "      <th>1</th>\n",
       "      <td>Nick</td>\n",
       "      <td>5.9</td>\n",
       "      <td>8136300</td>\n",
       "      <td>39</td>\n",
       "      <td>Female</td>\n",
       "      <td>0</td>\n",
       "      <td>Central</td>\n",
       "      <td>Y</td>\n",
       "      <td>3</td>\n",
       "      <td>105.7</td>\n",
       "    </tr>\n",
       "    <tr>\n",
       "      <th>2</th>\n",
       "      <td>Morgan</td>\n",
       "      <td>9.5</td>\n",
       "      <td>116969</td>\n",
       "      <td>50</td>\n",
       "      <td>Female</td>\n",
       "      <td>1</td>\n",
       "      <td>Central</td>\n",
       "      <td>N</td>\n",
       "      <td>1</td>\n",
       "      <td>145.0</td>\n",
       "    </tr>\n",
       "    <tr>\n",
       "      <th>3</th>\n",
       "      <td>Susan</td>\n",
       "      <td>3.2</td>\n",
       "      <td>64445</td>\n",
       "      <td>27</td>\n",
       "      <td>Male</td>\n",
       "      <td>0</td>\n",
       "      <td>Central</td>\n",
       "      <td>Y</td>\n",
       "      <td>3</td>\n",
       "      <td>75.1</td>\n",
       "    </tr>\n",
       "    <tr>\n",
       "      <th>4</th>\n",
       "      <td>Matthew</td>\n",
       "      <td>8.2</td>\n",
       "      <td>113812</td>\n",
       "      <td>47</td>\n",
       "      <td>Female</td>\n",
       "      <td>1</td>\n",
       "      <td>Central</td>\n",
       "      <td>N</td>\n",
       "      <td>2</td>\n",
       "      <td>131.1</td>\n",
       "    </tr>\n",
       "  </tbody>\n",
       "</table>\n",
       "</div>"
      ],
      "text/plain": [
       "  Employee  YearsExperience   Salary  Age  Gender  RemoteStatus   Region  \\\n",
       "0  Richard              5.1    66029   41  Female             0  Central   \n",
       "1     Nick              5.9  8136300   39  Female             0  Central   \n",
       "2   Morgan              9.5   116969   50  Female             1  Central   \n",
       "3    Susan              3.2    64445   27    Male             0  Central   \n",
       "4  Matthew              8.2   113812   47  Female             1  Central   \n",
       "\n",
       "  CompanyCar  Shift  PerformanceReviewScore  \n",
       "0          Y      2                    98.3  \n",
       "1          Y      3                   105.7  \n",
       "2          N      1                   145.0  \n",
       "3          Y      3                    75.1  \n",
       "4          N      2                   131.1  "
      ]
     },
     "execution_count": 26,
     "metadata": {},
     "output_type": "execute_result"
    }
   ],
   "source": [
    "df = pd.read_csv(\"SalaryData.csv\")\n",
    "df.head()"
   ]
  },
  {
   "cell_type": "markdown",
   "id": "4e2bbacb",
   "metadata": {},
   "source": [
    "## Method 1 : Using z-scores to detect and remove outliers\n",
    "\n",
    "In statistics, the <font color=salmon><b>Empirical Rule</b></font> estimates how data, following a normal distribution, will spread around the mean. According to this rule, basically all data values will fall within 3 SD's above or below the mean. The Empirical Rule is also known as the <font color=salmon><b>68-95-99.7 Rule</b></font> because according to this rule, your data will typically fall into the following pattern:\n",
    "\n",
    "* 68% of the data falls within one SD of the mean\n",
    "\n",
    "* 95% of the data falls within two SD's of the mean\n",
    "\n",
    "* 99.7% of the data falls within three SD's of the mean\n",
    "\n",
    "<img src=\"SD Bell Curve.jpeg\">\n",
    "\n",
    "#### Empirical Rule Example:\n",
    "\n",
    "The average weight of an American man is 175 lbs with a SD of 10 lbs. According to the Empirical Rule, we can assume: \n",
    "\n",
    "* 68% of American men are between 165 and 185 lbs (or +/- 10 lbs from the mean, or 1 SD)\n",
    "* 95% of American men are between 155 and 195 lbs (or +/- 20 lbs from the mean, or 2 SD's)\n",
    "* 99.7% of American men are between 145 and 205 lbs (or +/- 30 lbs from the mean, or 3 SD's)\n",
    "* Typically, data values that fall outside of this range are considered outliers\n",
    "_______________________ \n",
    "A <font color=salmon><b>z-score</b></font>, also known as a standard score, measures the distance of a value from the mean. In other words, the z-score tells you how many SD's a given value is from the mean. Values that fall above the mean will have a positive (+) z-score, while values that fall below the mean will have a negative (-) z-score. Values that are far from the mean will be considered outliers. You can define a value as an outlier if the z-score greater than +/- 3. \n",
    "_______________________ \n",
    "\n",
    "#### Steps for Detecting and Removing Outliers with z-scores\n",
    "* Import the scipy library to make use of the z-score function\n",
    "* Calculate the z-score for each value within a specific column in your dataset\n",
    "* Transform the z-score to the absolute value of the z-score (number without the +/- sign; this will make our code simpler)\n",
    "* Add the z-scores to your dataset as a new column\n",
    "* Remove all rows that have a z-score greater than 3"
   ]
  },
  {
   "cell_type": "code",
   "execution_count": 27,
   "id": "c44567cf",
   "metadata": {},
   "outputs": [
    {
     "name": "stdout",
     "output_type": "stream",
     "text": [
      "(30, 10)\n"
     ]
    }
   ],
   "source": [
    "## Create a copy of your dataset to filter outliers\n",
    "dfz = df.copy()\n",
    "\n",
    "## Check original shape of the dataset\n",
    "print(dfz.shape)"
   ]
  },
  {
   "cell_type": "code",
   "execution_count": 28,
   "id": "61292858",
   "metadata": {},
   "outputs": [
    {
     "data": {
      "text/html": [
       "<div>\n",
       "<style scoped>\n",
       "    .dataframe tbody tr th:only-of-type {\n",
       "        vertical-align: middle;\n",
       "    }\n",
       "\n",
       "    .dataframe tbody tr th {\n",
       "        vertical-align: top;\n",
       "    }\n",
       "\n",
       "    .dataframe thead th {\n",
       "        text-align: right;\n",
       "    }\n",
       "</style>\n",
       "<table border=\"1\" class=\"dataframe\">\n",
       "  <thead>\n",
       "    <tr style=\"text-align: right;\">\n",
       "      <th></th>\n",
       "      <th>Employee</th>\n",
       "      <th>YearsExperience</th>\n",
       "      <th>Salary</th>\n",
       "      <th>Age</th>\n",
       "      <th>Gender</th>\n",
       "      <th>RemoteStatus</th>\n",
       "      <th>Region</th>\n",
       "      <th>CompanyCar</th>\n",
       "      <th>Shift</th>\n",
       "      <th>PerformanceReviewScore</th>\n",
       "      <th>zscore_Salary</th>\n",
       "    </tr>\n",
       "  </thead>\n",
       "  <tbody>\n",
       "    <tr>\n",
       "      <th>0</th>\n",
       "      <td>Richard</td>\n",
       "      <td>5.1</td>\n",
       "      <td>66029</td>\n",
       "      <td>41</td>\n",
       "      <td>Female</td>\n",
       "      <td>0</td>\n",
       "      <td>Central</td>\n",
       "      <td>Y</td>\n",
       "      <td>2</td>\n",
       "      <td>98.3</td>\n",
       "      <td>0.269844</td>\n",
       "    </tr>\n",
       "    <tr>\n",
       "      <th>1</th>\n",
       "      <td>Nick</td>\n",
       "      <td>5.9</td>\n",
       "      <td>8136300</td>\n",
       "      <td>39</td>\n",
       "      <td>Female</td>\n",
       "      <td>0</td>\n",
       "      <td>Central</td>\n",
       "      <td>Y</td>\n",
       "      <td>3</td>\n",
       "      <td>105.7</td>\n",
       "      <td>3.343557</td>\n",
       "    </tr>\n",
       "    <tr>\n",
       "      <th>2</th>\n",
       "      <td>Morgan</td>\n",
       "      <td>9.5</td>\n",
       "      <td>116969</td>\n",
       "      <td>50</td>\n",
       "      <td>Female</td>\n",
       "      <td>1</td>\n",
       "      <td>Central</td>\n",
       "      <td>N</td>\n",
       "      <td>1</td>\n",
       "      <td>145.0</td>\n",
       "      <td>0.247036</td>\n",
       "    </tr>\n",
       "    <tr>\n",
       "      <th>3</th>\n",
       "      <td>Susan</td>\n",
       "      <td>3.2</td>\n",
       "      <td>64445</td>\n",
       "      <td>27</td>\n",
       "      <td>Male</td>\n",
       "      <td>0</td>\n",
       "      <td>Central</td>\n",
       "      <td>Y</td>\n",
       "      <td>3</td>\n",
       "      <td>75.1</td>\n",
       "      <td>0.270553</td>\n",
       "    </tr>\n",
       "    <tr>\n",
       "      <th>4</th>\n",
       "      <td>Matthew</td>\n",
       "      <td>8.2</td>\n",
       "      <td>113812</td>\n",
       "      <td>47</td>\n",
       "      <td>Female</td>\n",
       "      <td>1</td>\n",
       "      <td>Central</td>\n",
       "      <td>N</td>\n",
       "      <td>2</td>\n",
       "      <td>131.1</td>\n",
       "      <td>0.248449</td>\n",
       "    </tr>\n",
       "  </tbody>\n",
       "</table>\n",
       "</div>"
      ],
      "text/plain": [
       "  Employee  YearsExperience   Salary  Age  Gender  RemoteStatus   Region  \\\n",
       "0  Richard              5.1    66029   41  Female             0  Central   \n",
       "1     Nick              5.9  8136300   39  Female             0  Central   \n",
       "2   Morgan              9.5   116969   50  Female             1  Central   \n",
       "3    Susan              3.2    64445   27    Male             0  Central   \n",
       "4  Matthew              8.2   113812   47  Female             1  Central   \n",
       "\n",
       "  CompanyCar  Shift  PerformanceReviewScore  zscore_Salary  \n",
       "0          Y      2                    98.3       0.269844  \n",
       "1          Y      3                   105.7       3.343557  \n",
       "2          N      1                   145.0       0.247036  \n",
       "3          Y      3                    75.1       0.270553  \n",
       "4          N      2                   131.1       0.248449  "
      ]
     },
     "execution_count": 28,
     "metadata": {},
     "output_type": "execute_result"
    }
   ],
   "source": [
    "## Create a new column to contain the z-scores for the employee salary\n",
    "## Set the new column equal to the absolute value of the z-scores\n",
    "## To calculate z-score -- stats.zscore(data/column name)\n",
    "## To determine absolute value of z-score -- np.abs(data/function/options)\n",
    "\n",
    "dfz[\"zscore_Salary\"] = np.abs(stats.zscore(dfz[\"Salary\"]))\n",
    "\n",
    "## Preview new column; optional\n",
    "dfz.head()"
   ]
  },
  {
   "cell_type": "code",
   "execution_count": 29,
   "id": "e61532ef",
   "metadata": {},
   "outputs": [
    {
     "name": "stdout",
     "output_type": "stream",
     "text": [
      "Int64Index([1, 28], dtype='int64')\n"
     ]
    }
   ],
   "source": [
    "## Determine the index locations for the rows with zscores that are greater than \"3\"\n",
    "z_outliers = dfz.loc[dfz[\"zscore_Salary\"] > 3].index\n",
    "\n",
    "## Preview list of index values\n",
    "print(z_outliers)"
   ]
  },
  {
   "cell_type": "code",
   "execution_count": 30,
   "id": "0efe5df5",
   "metadata": {},
   "outputs": [
    {
     "data": {
      "text/html": [
       "<div>\n",
       "<style scoped>\n",
       "    .dataframe tbody tr th:only-of-type {\n",
       "        vertical-align: middle;\n",
       "    }\n",
       "\n",
       "    .dataframe tbody tr th {\n",
       "        vertical-align: top;\n",
       "    }\n",
       "\n",
       "    .dataframe thead th {\n",
       "        text-align: right;\n",
       "    }\n",
       "</style>\n",
       "<table border=\"1\" class=\"dataframe\">\n",
       "  <thead>\n",
       "    <tr style=\"text-align: right;\">\n",
       "      <th></th>\n",
       "      <th>Employee</th>\n",
       "      <th>YearsExperience</th>\n",
       "      <th>Salary</th>\n",
       "      <th>Age</th>\n",
       "      <th>Gender</th>\n",
       "      <th>RemoteStatus</th>\n",
       "      <th>Region</th>\n",
       "      <th>CompanyCar</th>\n",
       "      <th>Shift</th>\n",
       "      <th>PerformanceReviewScore</th>\n",
       "      <th>zscore_Salary</th>\n",
       "    </tr>\n",
       "  </thead>\n",
       "  <tbody>\n",
       "    <tr>\n",
       "      <th>1</th>\n",
       "      <td>Nick</td>\n",
       "      <td>5.9</td>\n",
       "      <td>8136300</td>\n",
       "      <td>39</td>\n",
       "      <td>Female</td>\n",
       "      <td>0</td>\n",
       "      <td>Central</td>\n",
       "      <td>Y</td>\n",
       "      <td>3</td>\n",
       "      <td>105.7</td>\n",
       "      <td>3.343557</td>\n",
       "    </tr>\n",
       "    <tr>\n",
       "      <th>28</th>\n",
       "      <td>Bill</td>\n",
       "      <td>7.1</td>\n",
       "      <td>9827300</td>\n",
       "      <td>36</td>\n",
       "      <td>Female</td>\n",
       "      <td>0</td>\n",
       "      <td>East</td>\n",
       "      <td>Y</td>\n",
       "      <td>3</td>\n",
       "      <td>116.8</td>\n",
       "      <td>4.100689</td>\n",
       "    </tr>\n",
       "  </tbody>\n",
       "</table>\n",
       "</div>"
      ],
      "text/plain": [
       "   Employee  YearsExperience   Salary  Age  Gender  RemoteStatus   Region  \\\n",
       "1      Nick              5.9  8136300   39  Female             0  Central   \n",
       "28     Bill              7.1  9827300   36  Female             0     East   \n",
       "\n",
       "   CompanyCar  Shift  PerformanceReviewScore  zscore_Salary  \n",
       "1           Y      3                   105.7       3.343557  \n",
       "28          Y      3                   116.8       4.100689  "
      ]
     },
     "execution_count": 30,
     "metadata": {},
     "output_type": "execute_result"
    }
   ],
   "source": [
    "## What information can we find at these index locations?\n",
    "\n",
    "dfz.iloc[[1, 28]]"
   ]
  },
  {
   "cell_type": "code",
   "execution_count": 31,
   "id": "7e5df5c5",
   "metadata": {},
   "outputs": [
    {
     "name": "stdout",
     "output_type": "stream",
     "text": [
      "(28, 11)\n"
     ]
    }
   ],
   "source": [
    "## Drop rows with above index values\n",
    "dfz = dfz.drop(z_outliers)\n",
    "\n",
    "## Re-check the shape of the dataframe, how many rows were dropped?\n",
    "print(dfz.shape)"
   ]
  },
  {
   "cell_type": "code",
   "execution_count": 75,
   "id": "4b9dc599",
   "metadata": {},
   "outputs": [
    {
     "data": {
      "text/html": [
       "<div>\n",
       "<style scoped>\n",
       "    .dataframe tbody tr th:only-of-type {\n",
       "        vertical-align: middle;\n",
       "    }\n",
       "\n",
       "    .dataframe tbody tr th {\n",
       "        vertical-align: top;\n",
       "    }\n",
       "\n",
       "    .dataframe thead th {\n",
       "        text-align: right;\n",
       "    }\n",
       "</style>\n",
       "<table border=\"1\" class=\"dataframe\">\n",
       "  <thead>\n",
       "    <tr style=\"text-align: right;\">\n",
       "      <th></th>\n",
       "      <th>Employee</th>\n",
       "      <th>YearsExperience</th>\n",
       "      <th>Salary</th>\n",
       "      <th>Age</th>\n",
       "      <th>Gender</th>\n",
       "      <th>RemoteStatus</th>\n",
       "      <th>Region</th>\n",
       "      <th>CompanyCar</th>\n",
       "      <th>Shift</th>\n",
       "      <th>PerformanceReviewScore</th>\n",
       "      <th>zscore_Salary</th>\n",
       "    </tr>\n",
       "  </thead>\n",
       "  <tbody>\n",
       "    <tr>\n",
       "      <th>0</th>\n",
       "      <td>Richard</td>\n",
       "      <td>5.1</td>\n",
       "      <td>66029</td>\n",
       "      <td>41</td>\n",
       "      <td>Female</td>\n",
       "      <td>0</td>\n",
       "      <td>Central</td>\n",
       "      <td>Y</td>\n",
       "      <td>2</td>\n",
       "      <td>98.3</td>\n",
       "      <td>0.269844</td>\n",
       "    </tr>\n",
       "    <tr>\n",
       "      <th>2</th>\n",
       "      <td>Morgan</td>\n",
       "      <td>9.5</td>\n",
       "      <td>116969</td>\n",
       "      <td>50</td>\n",
       "      <td>Female</td>\n",
       "      <td>1</td>\n",
       "      <td>Central</td>\n",
       "      <td>N</td>\n",
       "      <td>1</td>\n",
       "      <td>145.0</td>\n",
       "      <td>0.247036</td>\n",
       "    </tr>\n",
       "    <tr>\n",
       "      <th>3</th>\n",
       "      <td>Susan</td>\n",
       "      <td>3.2</td>\n",
       "      <td>64445</td>\n",
       "      <td>27</td>\n",
       "      <td>Male</td>\n",
       "      <td>0</td>\n",
       "      <td>Central</td>\n",
       "      <td>Y</td>\n",
       "      <td>3</td>\n",
       "      <td>75.1</td>\n",
       "      <td>0.270553</td>\n",
       "    </tr>\n",
       "    <tr>\n",
       "      <th>4</th>\n",
       "      <td>Matthew</td>\n",
       "      <td>8.2</td>\n",
       "      <td>113812</td>\n",
       "      <td>47</td>\n",
       "      <td>Female</td>\n",
       "      <td>1</td>\n",
       "      <td>Central</td>\n",
       "      <td>N</td>\n",
       "      <td>2</td>\n",
       "      <td>131.1</td>\n",
       "      <td>0.248449</td>\n",
       "    </tr>\n",
       "    <tr>\n",
       "      <th>5</th>\n",
       "      <td>Richard</td>\n",
       "      <td>10.3</td>\n",
       "      <td>160</td>\n",
       "      <td>47</td>\n",
       "      <td>Male</td>\n",
       "      <td>1</td>\n",
       "      <td>Central</td>\n",
       "      <td>N</td>\n",
       "      <td>3</td>\n",
       "      <td>152.1</td>\n",
       "      <td>0.299336</td>\n",
       "    </tr>\n",
       "  </tbody>\n",
       "</table>\n",
       "</div>"
      ],
      "text/plain": [
       "  Employee  YearsExperience  Salary  Age  Gender  RemoteStatus   Region  \\\n",
       "0  Richard              5.1   66029   41  Female             0  Central   \n",
       "2   Morgan              9.5  116969   50  Female             1  Central   \n",
       "3    Susan              3.2   64445   27    Male             0  Central   \n",
       "4  Matthew              8.2  113812   47  Female             1  Central   \n",
       "5  Richard             10.3     160   47    Male             1  Central   \n",
       "\n",
       "  CompanyCar  Shift  PerformanceReviewScore  zscore_Salary  \n",
       "0          Y      2                    98.3       0.269844  \n",
       "2          N      1                   145.0       0.247036  \n",
       "3          Y      3                    75.1       0.270553  \n",
       "4          N      2                   131.1       0.248449  \n",
       "5          N      3                   152.1       0.299336  "
      ]
     },
     "execution_count": 75,
     "metadata": {},
     "output_type": "execute_result"
    }
   ],
   "source": [
    "dfz.head()"
   ]
  },
  {
   "cell_type": "code",
   "execution_count": 73,
   "id": "3c1fa985",
   "metadata": {},
   "outputs": [
    {
     "data": {
      "text/html": [
       "<div>\n",
       "<style scoped>\n",
       "    .dataframe tbody tr th:only-of-type {\n",
       "        vertical-align: middle;\n",
       "    }\n",
       "\n",
       "    .dataframe tbody tr th {\n",
       "        vertical-align: top;\n",
       "    }\n",
       "\n",
       "    .dataframe thead th {\n",
       "        text-align: right;\n",
       "    }\n",
       "</style>\n",
       "<table border=\"1\" class=\"dataframe\">\n",
       "  <thead>\n",
       "    <tr style=\"text-align: right;\">\n",
       "      <th></th>\n",
       "      <th>Employee</th>\n",
       "      <th>YearsExperience</th>\n",
       "      <th>Salary</th>\n",
       "      <th>Age</th>\n",
       "      <th>Gender</th>\n",
       "      <th>RemoteStatus</th>\n",
       "      <th>Region</th>\n",
       "      <th>CompanyCar</th>\n",
       "      <th>Shift</th>\n",
       "      <th>PerformanceReviewScore</th>\n",
       "      <th>zscore_Salary</th>\n",
       "    </tr>\n",
       "  </thead>\n",
       "  <tbody>\n",
       "    <tr>\n",
       "      <th>24</th>\n",
       "      <td>Matthew</td>\n",
       "      <td>6.0</td>\n",
       "      <td>93940</td>\n",
       "      <td>33</td>\n",
       "      <td>Male</td>\n",
       "      <td>0</td>\n",
       "      <td>Central</td>\n",
       "      <td>Y</td>\n",
       "      <td>1</td>\n",
       "      <td>104.9</td>\n",
       "      <td>0.257347</td>\n",
       "    </tr>\n",
       "    <tr>\n",
       "      <th>25</th>\n",
       "      <td>Smith</td>\n",
       "      <td>9.0</td>\n",
       "      <td>105582</td>\n",
       "      <td>28</td>\n",
       "      <td>Female</td>\n",
       "      <td>0</td>\n",
       "      <td>Central</td>\n",
       "      <td>N</td>\n",
       "      <td>3</td>\n",
       "      <td>133.4</td>\n",
       "      <td>0.252134</td>\n",
       "    </tr>\n",
       "    <tr>\n",
       "      <th>26</th>\n",
       "      <td>Alex</td>\n",
       "      <td>2.0</td>\n",
       "      <td>43525</td>\n",
       "      <td>34</td>\n",
       "      <td>Male</td>\n",
       "      <td>0</td>\n",
       "      <td>East</td>\n",
       "      <td>Y</td>\n",
       "      <td>3</td>\n",
       "      <td>65.2</td>\n",
       "      <td>0.279920</td>\n",
       "    </tr>\n",
       "    <tr>\n",
       "      <th>27</th>\n",
       "      <td>Richard</td>\n",
       "      <td>4.9</td>\n",
       "      <td>67938</td>\n",
       "      <td>40</td>\n",
       "      <td>Female</td>\n",
       "      <td>0</td>\n",
       "      <td>East</td>\n",
       "      <td>Y</td>\n",
       "      <td>3</td>\n",
       "      <td>96.0</td>\n",
       "      <td>0.268989</td>\n",
       "    </tr>\n",
       "    <tr>\n",
       "      <th>29</th>\n",
       "      <td>James</td>\n",
       "      <td>4.0</td>\n",
       "      <td>56957</td>\n",
       "      <td>45</td>\n",
       "      <td>Male</td>\n",
       "      <td>1</td>\n",
       "      <td>West</td>\n",
       "      <td>N</td>\n",
       "      <td>2</td>\n",
       "      <td>88.5</td>\n",
       "      <td>0.273906</td>\n",
       "    </tr>\n",
       "  </tbody>\n",
       "</table>\n",
       "</div>"
      ],
      "text/plain": [
       "   Employee  YearsExperience  Salary  Age  Gender  RemoteStatus   Region  \\\n",
       "24  Matthew              6.0   93940   33    Male             0  Central   \n",
       "25    Smith              9.0  105582   28  Female             0  Central   \n",
       "26     Alex              2.0   43525   34    Male             0     East   \n",
       "27  Richard              4.9   67938   40  Female             0     East   \n",
       "29    James              4.0   56957   45    Male             1     West   \n",
       "\n",
       "   CompanyCar  Shift  PerformanceReviewScore  zscore_Salary  \n",
       "24          Y      1                   104.9       0.257347  \n",
       "25          N      3                   133.4       0.252134  \n",
       "26          Y      3                    65.2       0.279920  \n",
       "27          Y      3                    96.0       0.268989  \n",
       "29          N      2                    88.5       0.273906  "
      ]
     },
     "execution_count": 73,
     "metadata": {},
     "output_type": "execute_result"
    }
   ],
   "source": [
    "dfz.tail()"
   ]
  },
  {
   "cell_type": "markdown",
   "id": "93017c0c",
   "metadata": {},
   "source": [
    "## Method 2 : Using the Interquartile Range (IQR) to detect and remove outliers\n",
    "\n",
    "The <font color=salmon><b>Interquartile Range (IQR)</b></font> is the difference between the first and third quartile in a set of data. The IQR can be considered where the bulk of the data values rest. IQR is calculated by the following equation: <B>IQR = Q3 - Q1</B>\n",
    "<img src=\"IQR.png\">\n",
    "_____________________\n",
    "\n",
    "The IQR can be used to create \"fences\" or cut-off values that determine which values fall outside of the acceptable data range. For example, we can calculate a lower-limit -- all values falling below this limit will be considered an outlier. The <b>1.5 Rule</b> is a commonly used method for determining the upper and lower cut-off limits. According to this rule, a value is considered an outlier if it falls:\n",
    "\n",
    "* ... below Q1 - (1.5 x IQR)\n",
    "\n",
    "* ... above Q3 + (1.5 x IQR)\n",
    "_____________________\n",
    "\n",
    "#### 1.5 Rule Example:\n",
    "\n",
    "A professor is tracking the number of absences for each of their students. They have compiled a list of the number of absences: \n",
    "\n",
    "    1, 3, [4], 6, 7, [7], 8, 8, [9], 22, 37 \n",
    "\n",
    "In this list of data, we can find the following values:\n",
    "\n",
    "* Q1 = 4\n",
    "* Q2 (median) = 7\n",
    "* Q3 = 9\n",
    "\n",
    "With these values, you can easily calculate the IQR:\n",
    "\n",
    "* <B>IQR</B> = Q3(9) - Q1(4)\n",
    "* <B>IQR</B> = 5\n",
    "\n",
    "Once you have the IQR, you can calculate the upper and lower limits for detecting outliers:\n",
    "\n",
    "* Upper Limit = Q3(9) + [1.5 * IQR(5)] = <b> 16.5 </b>\n",
    "* Lower Limit = Q1(4) - [1.5 * IQR(5)] = <b> -3.5 </b>\n",
    "\n",
    "Values that fall above the upper limit are outliers; values that fall below the lower limit are outliers\n",
    "_______________________ \n",
    "\n",
    "#### Steps for Detecting and Removing Outliers with IQR\n",
    "\n",
    "* Calculate quartiles\n",
    "* Calculate IQR\n",
    "* Determine upper and lower limits\n",
    "* Drop values less than the lower and/or greater than the upper"
   ]
  },
  {
   "cell_type": "code",
   "execution_count": 33,
   "id": "8694f11b",
   "metadata": {},
   "outputs": [
    {
     "data": {
      "text/plain": [
       "(30, 10)"
      ]
     },
     "execution_count": 33,
     "metadata": {},
     "output_type": "execute_result"
    }
   ],
   "source": [
    "## Create a copy of original dataset\n",
    "dfq = df.copy()\n",
    "\n",
    "## Check original shape of the dataset\n",
    "dfq.shape"
   ]
  },
  {
   "cell_type": "code",
   "execution_count": 34,
   "id": "e84c2fe4",
   "metadata": {},
   "outputs": [
    {
     "name": "stdout",
     "output_type": "stream",
     "text": [
      "Q1: 48265.0\n",
      "Q3: 104512.0\n"
     ]
    }
   ],
   "source": [
    "## Calculate quartiles\n",
    "q1 = dfq[\"Salary\"].quantile(.25)\n",
    "q3 = dfq[\"Salary\"].quantile(.75)\n",
    "\n",
    "print(\"Q1:\", q1)\n",
    "print(\"Q3:\", q3)"
   ]
  },
  {
   "cell_type": "code",
   "execution_count": 35,
   "id": "9b36fb73",
   "metadata": {},
   "outputs": [
    {
     "name": "stdout",
     "output_type": "stream",
     "text": [
      "IQR: 56247.0\n"
     ]
    }
   ],
   "source": [
    "## Calculate the IQR\n",
    "iqr = q3 - q1\n",
    "\n",
    "print(\"IQR:\", iqr)"
   ]
  },
  {
   "cell_type": "code",
   "execution_count": 36,
   "id": "50fabd5f",
   "metadata": {},
   "outputs": [
    {
     "name": "stdout",
     "output_type": "stream",
     "text": [
      "Upper Limit: 188882.5\n",
      "Lower Limit: -36105.5\n"
     ]
    }
   ],
   "source": [
    "## Determine outlier fences \n",
    "top = q3 + (iqr * 1.5)\n",
    "bottom = q1 - (iqr * 1.5)\n",
    "\n",
    "\n",
    "print(\"Upper Limit:\", top)\n",
    "print(\"Lower Limit:\", bottom)"
   ]
  },
  {
   "cell_type": "code",
   "execution_count": 37,
   "id": "3040926b",
   "metadata": {},
   "outputs": [
    {
     "name": "stdout",
     "output_type": "stream",
     "text": [
      "INDEX VALUES: Int64Index([1, 12, 28], dtype='int64')\n"
     ]
    }
   ],
   "source": [
    "## Determine the index locations for rows that fall outside of outlier fences\n",
    "\n",
    "iqr_outliers = dfq.loc[(dfq['Salary'] > top) | (dfq['Salary'] < bottom)].index\n",
    "\n",
    "print(\"INDEX VALUES:\", iqr_outliers)"
   ]
  },
  {
   "cell_type": "code",
   "execution_count": 38,
   "id": "49d819df",
   "metadata": {},
   "outputs": [
    {
     "data": {
      "text/html": [
       "<div>\n",
       "<style scoped>\n",
       "    .dataframe tbody tr th:only-of-type {\n",
       "        vertical-align: middle;\n",
       "    }\n",
       "\n",
       "    .dataframe tbody tr th {\n",
       "        vertical-align: top;\n",
       "    }\n",
       "\n",
       "    .dataframe thead th {\n",
       "        text-align: right;\n",
       "    }\n",
       "</style>\n",
       "<table border=\"1\" class=\"dataframe\">\n",
       "  <thead>\n",
       "    <tr style=\"text-align: right;\">\n",
       "      <th></th>\n",
       "      <th>Employee</th>\n",
       "      <th>YearsExperience</th>\n",
       "      <th>Salary</th>\n",
       "      <th>Age</th>\n",
       "      <th>Gender</th>\n",
       "      <th>RemoteStatus</th>\n",
       "      <th>Region</th>\n",
       "      <th>CompanyCar</th>\n",
       "      <th>Shift</th>\n",
       "      <th>PerformanceReviewScore</th>\n",
       "    </tr>\n",
       "  </thead>\n",
       "  <tbody>\n",
       "    <tr>\n",
       "      <th>1</th>\n",
       "      <td>Nick</td>\n",
       "      <td>5.9</td>\n",
       "      <td>8136300</td>\n",
       "      <td>39</td>\n",
       "      <td>Female</td>\n",
       "      <td>0</td>\n",
       "      <td>Central</td>\n",
       "      <td>Y</td>\n",
       "      <td>3</td>\n",
       "      <td>105.7</td>\n",
       "    </tr>\n",
       "    <tr>\n",
       "      <th>12</th>\n",
       "      <td>Thomas</td>\n",
       "      <td>1.5</td>\n",
       "      <td>377310</td>\n",
       "      <td>46</td>\n",
       "      <td>Male</td>\n",
       "      <td>1</td>\n",
       "      <td>Central</td>\n",
       "      <td>Y</td>\n",
       "      <td>1</td>\n",
       "      <td>63.8</td>\n",
       "    </tr>\n",
       "    <tr>\n",
       "      <th>28</th>\n",
       "      <td>Bill</td>\n",
       "      <td>7.1</td>\n",
       "      <td>9827300</td>\n",
       "      <td>36</td>\n",
       "      <td>Female</td>\n",
       "      <td>0</td>\n",
       "      <td>East</td>\n",
       "      <td>Y</td>\n",
       "      <td>3</td>\n",
       "      <td>116.8</td>\n",
       "    </tr>\n",
       "  </tbody>\n",
       "</table>\n",
       "</div>"
      ],
      "text/plain": [
       "   Employee  YearsExperience   Salary  Age  Gender  RemoteStatus   Region  \\\n",
       "1      Nick              5.9  8136300   39  Female             0  Central   \n",
       "12   Thomas              1.5   377310   46    Male             1  Central   \n",
       "28     Bill              7.1  9827300   36  Female             0     East   \n",
       "\n",
       "   CompanyCar  Shift  PerformanceReviewScore  \n",
       "1           Y      3                   105.7  \n",
       "12          Y      1                    63.8  \n",
       "28          Y      3                   116.8  "
      ]
     },
     "execution_count": 38,
     "metadata": {},
     "output_type": "execute_result"
    }
   ],
   "source": [
    "## what values can we find at these index locations?\n",
    "\n",
    "dfq.iloc[[1, 12, 28]]"
   ]
  },
  {
   "cell_type": "code",
   "execution_count": 39,
   "id": "23df0d4a",
   "metadata": {},
   "outputs": [
    {
     "name": "stdout",
     "output_type": "stream",
     "text": [
      "(27, 10)\n"
     ]
    }
   ],
   "source": [
    "## Drop rows with above index values\n",
    "dfq = dfq.drop(iqr_outliers)\n",
    "\n",
    "## Re-check the shape of the dataframe, how many rows were dropped?\n",
    "print(dfq.shape)"
   ]
  },
  {
   "cell_type": "code",
   "execution_count": 40,
   "id": "ebd0ef0b",
   "metadata": {},
   "outputs": [
    {
     "data": {
      "text/html": [
       "<div>\n",
       "<style scoped>\n",
       "    .dataframe tbody tr th:only-of-type {\n",
       "        vertical-align: middle;\n",
       "    }\n",
       "\n",
       "    .dataframe tbody tr th {\n",
       "        vertical-align: top;\n",
       "    }\n",
       "\n",
       "    .dataframe thead th {\n",
       "        text-align: right;\n",
       "    }\n",
       "</style>\n",
       "<table border=\"1\" class=\"dataframe\">\n",
       "  <thead>\n",
       "    <tr style=\"text-align: right;\">\n",
       "      <th></th>\n",
       "      <th>Employee</th>\n",
       "      <th>YearsExperience</th>\n",
       "      <th>Salary</th>\n",
       "      <th>Age</th>\n",
       "      <th>Gender</th>\n",
       "      <th>RemoteStatus</th>\n",
       "      <th>Region</th>\n",
       "      <th>CompanyCar</th>\n",
       "      <th>Shift</th>\n",
       "      <th>PerformanceReviewScore</th>\n",
       "    </tr>\n",
       "  </thead>\n",
       "  <tbody>\n",
       "    <tr>\n",
       "      <th>0</th>\n",
       "      <td>Richard</td>\n",
       "      <td>5.1</td>\n",
       "      <td>66029</td>\n",
       "      <td>41</td>\n",
       "      <td>Female</td>\n",
       "      <td>0</td>\n",
       "      <td>Central</td>\n",
       "      <td>Y</td>\n",
       "      <td>2</td>\n",
       "      <td>98.3</td>\n",
       "    </tr>\n",
       "    <tr>\n",
       "      <th>2</th>\n",
       "      <td>Morgan</td>\n",
       "      <td>9.5</td>\n",
       "      <td>116969</td>\n",
       "      <td>50</td>\n",
       "      <td>Female</td>\n",
       "      <td>1</td>\n",
       "      <td>Central</td>\n",
       "      <td>N</td>\n",
       "      <td>1</td>\n",
       "      <td>145.0</td>\n",
       "    </tr>\n",
       "    <tr>\n",
       "      <th>3</th>\n",
       "      <td>Susan</td>\n",
       "      <td>3.2</td>\n",
       "      <td>64445</td>\n",
       "      <td>27</td>\n",
       "      <td>Male</td>\n",
       "      <td>0</td>\n",
       "      <td>Central</td>\n",
       "      <td>Y</td>\n",
       "      <td>3</td>\n",
       "      <td>75.1</td>\n",
       "    </tr>\n",
       "    <tr>\n",
       "      <th>4</th>\n",
       "      <td>Matthew</td>\n",
       "      <td>8.2</td>\n",
       "      <td>113812</td>\n",
       "      <td>47</td>\n",
       "      <td>Female</td>\n",
       "      <td>1</td>\n",
       "      <td>Central</td>\n",
       "      <td>N</td>\n",
       "      <td>2</td>\n",
       "      <td>131.1</td>\n",
       "    </tr>\n",
       "    <tr>\n",
       "      <th>5</th>\n",
       "      <td>Richard</td>\n",
       "      <td>10.3</td>\n",
       "      <td>160</td>\n",
       "      <td>47</td>\n",
       "      <td>Male</td>\n",
       "      <td>1</td>\n",
       "      <td>Central</td>\n",
       "      <td>N</td>\n",
       "      <td>3</td>\n",
       "      <td>152.1</td>\n",
       "    </tr>\n",
       "  </tbody>\n",
       "</table>\n",
       "</div>"
      ],
      "text/plain": [
       "  Employee  YearsExperience  Salary  Age  Gender  RemoteStatus   Region  \\\n",
       "0  Richard              5.1   66029   41  Female             0  Central   \n",
       "2   Morgan              9.5  116969   50  Female             1  Central   \n",
       "3    Susan              3.2   64445   27    Male             0  Central   \n",
       "4  Matthew              8.2  113812   47  Female             1  Central   \n",
       "5  Richard             10.3     160   47    Male             1  Central   \n",
       "\n",
       "  CompanyCar  Shift  PerformanceReviewScore  \n",
       "0          Y      2                    98.3  \n",
       "2          N      1                   145.0  \n",
       "3          Y      3                    75.1  \n",
       "4          N      2                   131.1  \n",
       "5          N      3                   152.1  "
      ]
     },
     "execution_count": 40,
     "metadata": {},
     "output_type": "execute_result"
    }
   ],
   "source": [
    "dfq.head()"
   ]
  },
  {
   "cell_type": "code",
   "execution_count": 76,
   "id": "776e9ee8",
   "metadata": {},
   "outputs": [
    {
     "data": {
      "text/html": [
       "<div>\n",
       "<style scoped>\n",
       "    .dataframe tbody tr th:only-of-type {\n",
       "        vertical-align: middle;\n",
       "    }\n",
       "\n",
       "    .dataframe tbody tr th {\n",
       "        vertical-align: top;\n",
       "    }\n",
       "\n",
       "    .dataframe thead th {\n",
       "        text-align: right;\n",
       "    }\n",
       "</style>\n",
       "<table border=\"1\" class=\"dataframe\">\n",
       "  <thead>\n",
       "    <tr style=\"text-align: right;\">\n",
       "      <th></th>\n",
       "      <th>Employee</th>\n",
       "      <th>YearsExperience</th>\n",
       "      <th>Salary</th>\n",
       "      <th>Age</th>\n",
       "      <th>Gender</th>\n",
       "      <th>RemoteStatus</th>\n",
       "      <th>Region</th>\n",
       "      <th>CompanyCar</th>\n",
       "      <th>Shift</th>\n",
       "      <th>PerformanceReviewScore</th>\n",
       "    </tr>\n",
       "  </thead>\n",
       "  <tbody>\n",
       "    <tr>\n",
       "      <th>24</th>\n",
       "      <td>Matthew</td>\n",
       "      <td>6.0</td>\n",
       "      <td>93940</td>\n",
       "      <td>33</td>\n",
       "      <td>Male</td>\n",
       "      <td>0</td>\n",
       "      <td>Central</td>\n",
       "      <td>Y</td>\n",
       "      <td>1</td>\n",
       "      <td>104.9</td>\n",
       "    </tr>\n",
       "    <tr>\n",
       "      <th>25</th>\n",
       "      <td>Smith</td>\n",
       "      <td>9.0</td>\n",
       "      <td>105582</td>\n",
       "      <td>28</td>\n",
       "      <td>Female</td>\n",
       "      <td>0</td>\n",
       "      <td>Central</td>\n",
       "      <td>N</td>\n",
       "      <td>3</td>\n",
       "      <td>133.4</td>\n",
       "    </tr>\n",
       "    <tr>\n",
       "      <th>26</th>\n",
       "      <td>Alex</td>\n",
       "      <td>2.0</td>\n",
       "      <td>43525</td>\n",
       "      <td>34</td>\n",
       "      <td>Male</td>\n",
       "      <td>0</td>\n",
       "      <td>East</td>\n",
       "      <td>Y</td>\n",
       "      <td>3</td>\n",
       "      <td>65.2</td>\n",
       "    </tr>\n",
       "    <tr>\n",
       "      <th>27</th>\n",
       "      <td>Richard</td>\n",
       "      <td>4.9</td>\n",
       "      <td>67938</td>\n",
       "      <td>40</td>\n",
       "      <td>Female</td>\n",
       "      <td>0</td>\n",
       "      <td>East</td>\n",
       "      <td>Y</td>\n",
       "      <td>3</td>\n",
       "      <td>96.0</td>\n",
       "    </tr>\n",
       "    <tr>\n",
       "      <th>29</th>\n",
       "      <td>James</td>\n",
       "      <td>4.0</td>\n",
       "      <td>56957</td>\n",
       "      <td>45</td>\n",
       "      <td>Male</td>\n",
       "      <td>1</td>\n",
       "      <td>West</td>\n",
       "      <td>N</td>\n",
       "      <td>2</td>\n",
       "      <td>88.5</td>\n",
       "    </tr>\n",
       "  </tbody>\n",
       "</table>\n",
       "</div>"
      ],
      "text/plain": [
       "   Employee  YearsExperience  Salary  Age  Gender  RemoteStatus   Region  \\\n",
       "24  Matthew              6.0   93940   33    Male             0  Central   \n",
       "25    Smith              9.0  105582   28  Female             0  Central   \n",
       "26     Alex              2.0   43525   34    Male             0     East   \n",
       "27  Richard              4.9   67938   40  Female             0     East   \n",
       "29    James              4.0   56957   45    Male             1     West   \n",
       "\n",
       "   CompanyCar  Shift  PerformanceReviewScore  \n",
       "24          Y      1                   104.9  \n",
       "25          N      3                   133.4  \n",
       "26          Y      3                    65.2  \n",
       "27          Y      3                    96.0  \n",
       "29          N      2                    88.5  "
      ]
     },
     "execution_count": 76,
     "metadata": {},
     "output_type": "execute_result"
    }
   ],
   "source": [
    "dfq.tail()"
   ]
  },
  {
   "cell_type": "markdown",
   "id": "6e148156",
   "metadata": {},
   "source": [
    "# { Module 10 Homework }"
   ]
  },
  {
   "cell_type": "markdown",
   "id": "736faa7d",
   "metadata": {},
   "source": [
    "1. Import the \"babies.xlsx\" dataset. See below for information on the columns:\n",
    "\n",
    "    * bwt - birth weight of newborn baby\n",
    "    * gestation\t- gestation length (weeks)\n",
    "    * parity - previously pregnant (0 = no; 1 = yes)\n",
    "    * age - age of mother\n",
    "    * height - height of mother (inches)\t\n",
    "    * weight - weight of mother (pounds)\n",
    "    * smoke - smoking status of mother (0 = nonsmoker; 1 = smoker)"
   ]
  },
  {
   "cell_type": "code",
   "execution_count": 87,
   "id": "ac6ef2f4",
   "metadata": {},
   "outputs": [
    {
     "data": {
      "text/html": [
       "<div>\n",
       "<style scoped>\n",
       "    .dataframe tbody tr th:only-of-type {\n",
       "        vertical-align: middle;\n",
       "    }\n",
       "\n",
       "    .dataframe tbody tr th {\n",
       "        vertical-align: top;\n",
       "    }\n",
       "\n",
       "    .dataframe thead th {\n",
       "        text-align: right;\n",
       "    }\n",
       "</style>\n",
       "<table border=\"1\" class=\"dataframe\">\n",
       "  <thead>\n",
       "    <tr style=\"text-align: right;\">\n",
       "      <th></th>\n",
       "      <th>bwt</th>\n",
       "      <th>gestation</th>\n",
       "      <th>parity</th>\n",
       "      <th>age</th>\n",
       "      <th>height</th>\n",
       "      <th>weight</th>\n",
       "      <th>smoke</th>\n",
       "    </tr>\n",
       "  </thead>\n",
       "  <tbody>\n",
       "    <tr>\n",
       "      <th>0</th>\n",
       "      <td>120</td>\n",
       "      <td>284.0</td>\n",
       "      <td>0</td>\n",
       "      <td>27.0</td>\n",
       "      <td>62.0</td>\n",
       "      <td>100.0</td>\n",
       "      <td>0.0</td>\n",
       "    </tr>\n",
       "    <tr>\n",
       "      <th>1</th>\n",
       "      <td>113</td>\n",
       "      <td>282.0</td>\n",
       "      <td>0</td>\n",
       "      <td>33.0</td>\n",
       "      <td>64.0</td>\n",
       "      <td>135.0</td>\n",
       "      <td>0.0</td>\n",
       "    </tr>\n",
       "    <tr>\n",
       "      <th>2</th>\n",
       "      <td>128</td>\n",
       "      <td>279.0</td>\n",
       "      <td>0</td>\n",
       "      <td>28.0</td>\n",
       "      <td>64.0</td>\n",
       "      <td>77.0</td>\n",
       "      <td>1.0</td>\n",
       "    </tr>\n",
       "    <tr>\n",
       "      <th>3</th>\n",
       "      <td>123</td>\n",
       "      <td>NaN</td>\n",
       "      <td>0</td>\n",
       "      <td>36.0</td>\n",
       "      <td>69.0</td>\n",
       "      <td>190.0</td>\n",
       "      <td>0.0</td>\n",
       "    </tr>\n",
       "    <tr>\n",
       "      <th>4</th>\n",
       "      <td>108</td>\n",
       "      <td>282.0</td>\n",
       "      <td>0</td>\n",
       "      <td>23.0</td>\n",
       "      <td>67.0</td>\n",
       "      <td>125.0</td>\n",
       "      <td>1.0</td>\n",
       "    </tr>\n",
       "    <tr>\n",
       "      <th>...</th>\n",
       "      <td>...</td>\n",
       "      <td>...</td>\n",
       "      <td>...</td>\n",
       "      <td>...</td>\n",
       "      <td>...</td>\n",
       "      <td>...</td>\n",
       "      <td>...</td>\n",
       "    </tr>\n",
       "    <tr>\n",
       "      <th>1231</th>\n",
       "      <td>113</td>\n",
       "      <td>275.0</td>\n",
       "      <td>1</td>\n",
       "      <td>27.0</td>\n",
       "      <td>60.0</td>\n",
       "      <td>100.0</td>\n",
       "      <td>0.0</td>\n",
       "    </tr>\n",
       "    <tr>\n",
       "      <th>1232</th>\n",
       "      <td>128</td>\n",
       "      <td>265.0</td>\n",
       "      <td>0</td>\n",
       "      <td>24.0</td>\n",
       "      <td>67.0</td>\n",
       "      <td>120.0</td>\n",
       "      <td>0.0</td>\n",
       "    </tr>\n",
       "    <tr>\n",
       "      <th>1233</th>\n",
       "      <td>130</td>\n",
       "      <td>291.0</td>\n",
       "      <td>0</td>\n",
       "      <td>30.0</td>\n",
       "      <td>65.0</td>\n",
       "      <td>67.0</td>\n",
       "      <td>1.0</td>\n",
       "    </tr>\n",
       "    <tr>\n",
       "      <th>1234</th>\n",
       "      <td>125</td>\n",
       "      <td>281.0</td>\n",
       "      <td>1</td>\n",
       "      <td>21.0</td>\n",
       "      <td>65.0</td>\n",
       "      <td>110.0</td>\n",
       "      <td>0.0</td>\n",
       "    </tr>\n",
       "    <tr>\n",
       "      <th>1235</th>\n",
       "      <td>117</td>\n",
       "      <td>297.0</td>\n",
       "      <td>0</td>\n",
       "      <td>38.0</td>\n",
       "      <td>65.0</td>\n",
       "      <td>129.0</td>\n",
       "      <td>0.0</td>\n",
       "    </tr>\n",
       "  </tbody>\n",
       "</table>\n",
       "<p>1236 rows × 7 columns</p>\n",
       "</div>"
      ],
      "text/plain": [
       "      bwt  gestation  parity   age  height  weight  smoke\n",
       "0     120      284.0       0  27.0    62.0   100.0    0.0\n",
       "1     113      282.0       0  33.0    64.0   135.0    0.0\n",
       "2     128      279.0       0  28.0    64.0    77.0    1.0\n",
       "3     123        NaN       0  36.0    69.0   190.0    0.0\n",
       "4     108      282.0       0  23.0    67.0   125.0    1.0\n",
       "...   ...        ...     ...   ...     ...     ...    ...\n",
       "1231  113      275.0       1  27.0    60.0   100.0    0.0\n",
       "1232  128      265.0       0  24.0    67.0   120.0    0.0\n",
       "1233  130      291.0       0  30.0    65.0    67.0    1.0\n",
       "1234  125      281.0       1  21.0    65.0   110.0    0.0\n",
       "1235  117      297.0       0  38.0    65.0   129.0    0.0\n",
       "\n",
       "[1236 rows x 7 columns]"
      ]
     },
     "execution_count": 87,
     "metadata": {},
     "output_type": "execute_result"
    }
   ],
   "source": [
    "df = pd.read_excel(\"babies.xlsx\")\n",
    "\n",
    "df"
   ]
  },
  {
   "cell_type": "markdown",
   "id": "e04bfa22",
   "metadata": {},
   "source": [
    "2. Preview the first few rows of the dataset. Complete the following checks for your dataset:\n",
    "\n",
    "    * output the summary information for the dataset, what types of variables make up this dataset?\n",
    "    * is there any missing data in this dataset?"
   ]
  },
  {
   "cell_type": "code",
   "execution_count": 88,
   "id": "d86263ee",
   "metadata": {},
   "outputs": [
    {
     "name": "stdout",
     "output_type": "stream",
     "text": [
      "<class 'pandas.core.frame.DataFrame'>\n",
      "RangeIndex: 1236 entries, 0 to 1235\n",
      "Data columns (total 7 columns):\n",
      " #   Column     Non-Null Count  Dtype  \n",
      "---  ------     --------------  -----  \n",
      " 0   bwt        1236 non-null   int64  \n",
      " 1   gestation  1223 non-null   float64\n",
      " 2   parity     1236 non-null   int64  \n",
      " 3   age        1234 non-null   float64\n",
      " 4   height     1214 non-null   float64\n",
      " 5   weight     1200 non-null   float64\n",
      " 6   smoke      1226 non-null   float64\n",
      "dtypes: float64(5), int64(2)\n",
      "memory usage: 67.7 KB\n"
     ]
    }
   ],
   "source": [
    "df.info()"
   ]
  },
  {
   "cell_type": "markdown",
   "id": "f2a9f160",
   "metadata": {},
   "source": [
    "3. Handle the missing data in the dataset -- there isn't much, so we can drop all the rows that have at least one missing value. How many rows were dropped from the dataset?"
   ]
  },
  {
   "cell_type": "code",
   "execution_count": 89,
   "id": "9b362c54",
   "metadata": {},
   "outputs": [
    {
     "data": {
      "text/plain": [
       "bwt           0\n",
       "gestation    13\n",
       "parity        0\n",
       "age           2\n",
       "height       22\n",
       "weight       36\n",
       "smoke        10\n",
       "dtype: int64"
      ]
     },
     "execution_count": 89,
     "metadata": {},
     "output_type": "execute_result"
    }
   ],
   "source": [
    "df.isnull().sum()"
   ]
  },
  {
   "cell_type": "code",
   "execution_count": 90,
   "id": "8e2d5be1",
   "metadata": {},
   "outputs": [
    {
     "data": {
      "text/html": [
       "<div>\n",
       "<style scoped>\n",
       "    .dataframe tbody tr th:only-of-type {\n",
       "        vertical-align: middle;\n",
       "    }\n",
       "\n",
       "    .dataframe tbody tr th {\n",
       "        vertical-align: top;\n",
       "    }\n",
       "\n",
       "    .dataframe thead th {\n",
       "        text-align: right;\n",
       "    }\n",
       "</style>\n",
       "<table border=\"1\" class=\"dataframe\">\n",
       "  <thead>\n",
       "    <tr style=\"text-align: right;\">\n",
       "      <th></th>\n",
       "      <th>bwt</th>\n",
       "      <th>gestation</th>\n",
       "      <th>parity</th>\n",
       "      <th>age</th>\n",
       "      <th>height</th>\n",
       "      <th>weight</th>\n",
       "      <th>smoke</th>\n",
       "    </tr>\n",
       "  </thead>\n",
       "  <tbody>\n",
       "    <tr>\n",
       "      <th>0</th>\n",
       "      <td>120</td>\n",
       "      <td>284.0</td>\n",
       "      <td>0</td>\n",
       "      <td>27.0</td>\n",
       "      <td>62.0</td>\n",
       "      <td>100.0</td>\n",
       "      <td>0.0</td>\n",
       "    </tr>\n",
       "    <tr>\n",
       "      <th>1</th>\n",
       "      <td>113</td>\n",
       "      <td>282.0</td>\n",
       "      <td>0</td>\n",
       "      <td>33.0</td>\n",
       "      <td>64.0</td>\n",
       "      <td>135.0</td>\n",
       "      <td>0.0</td>\n",
       "    </tr>\n",
       "    <tr>\n",
       "      <th>2</th>\n",
       "      <td>128</td>\n",
       "      <td>279.0</td>\n",
       "      <td>0</td>\n",
       "      <td>28.0</td>\n",
       "      <td>64.0</td>\n",
       "      <td>77.0</td>\n",
       "      <td>1.0</td>\n",
       "    </tr>\n",
       "    <tr>\n",
       "      <th>4</th>\n",
       "      <td>108</td>\n",
       "      <td>282.0</td>\n",
       "      <td>0</td>\n",
       "      <td>23.0</td>\n",
       "      <td>67.0</td>\n",
       "      <td>125.0</td>\n",
       "      <td>1.0</td>\n",
       "    </tr>\n",
       "    <tr>\n",
       "      <th>5</th>\n",
       "      <td>136</td>\n",
       "      <td>286.0</td>\n",
       "      <td>0</td>\n",
       "      <td>25.0</td>\n",
       "      <td>62.0</td>\n",
       "      <td>93.0</td>\n",
       "      <td>0.0</td>\n",
       "    </tr>\n",
       "  </tbody>\n",
       "</table>\n",
       "</div>"
      ],
      "text/plain": [
       "   bwt  gestation  parity   age  height  weight  smoke\n",
       "0  120      284.0       0  27.0    62.0   100.0    0.0\n",
       "1  113      282.0       0  33.0    64.0   135.0    0.0\n",
       "2  128      279.0       0  28.0    64.0    77.0    1.0\n",
       "4  108      282.0       0  23.0    67.0   125.0    1.0\n",
       "5  136      286.0       0  25.0    62.0    93.0    0.0"
      ]
     },
     "execution_count": 90,
     "metadata": {},
     "output_type": "execute_result"
    }
   ],
   "source": [
    "df.dropna(inplace = True)\n",
    "\n",
    "df.head()"
   ]
  },
  {
   "cell_type": "code",
   "execution_count": 91,
   "id": "d81970cb",
   "metadata": {},
   "outputs": [
    {
     "data": {
      "text/plain": [
       "bwt          0\n",
       "gestation    0\n",
       "parity       0\n",
       "age          0\n",
       "height       0\n",
       "weight       0\n",
       "smoke        0\n",
       "dtype: int64"
      ]
     },
     "execution_count": 91,
     "metadata": {},
     "output_type": "execute_result"
    }
   ],
   "source": [
    "df.isnull().sum()"
   ]
  },
  {
   "cell_type": "markdown",
   "id": "562e6e31",
   "metadata": {},
   "source": [
    "4. There are two qualitative variables in this dataset. What are they? How do you know they are qualitative variables?"
   ]
  },
  {
   "cell_type": "code",
   "execution_count": 92,
   "id": "d52b1b11",
   "metadata": {},
   "outputs": [
    {
     "data": {
      "text/html": [
       "<div>\n",
       "<style scoped>\n",
       "    .dataframe tbody tr th:only-of-type {\n",
       "        vertical-align: middle;\n",
       "    }\n",
       "\n",
       "    .dataframe tbody tr th {\n",
       "        vertical-align: top;\n",
       "    }\n",
       "\n",
       "    .dataframe thead th {\n",
       "        text-align: right;\n",
       "    }\n",
       "</style>\n",
       "<table border=\"1\" class=\"dataframe\">\n",
       "  <thead>\n",
       "    <tr style=\"text-align: right;\">\n",
       "      <th></th>\n",
       "      <th>bwt</th>\n",
       "      <th>gestation</th>\n",
       "      <th>parity</th>\n",
       "      <th>age</th>\n",
       "      <th>height</th>\n",
       "      <th>weight</th>\n",
       "      <th>smoke</th>\n",
       "    </tr>\n",
       "  </thead>\n",
       "  <tbody>\n",
       "    <tr>\n",
       "      <th>count</th>\n",
       "      <td>1174.000000</td>\n",
       "      <td>1174.000000</td>\n",
       "      <td>1174.000000</td>\n",
       "      <td>1174.000000</td>\n",
       "      <td>1174.000000</td>\n",
       "      <td>1174.000000</td>\n",
       "      <td>1174.000000</td>\n",
       "    </tr>\n",
       "    <tr>\n",
       "      <th>mean</th>\n",
       "      <td>119.462521</td>\n",
       "      <td>279.101363</td>\n",
       "      <td>0.262351</td>\n",
       "      <td>27.228279</td>\n",
       "      <td>64.049404</td>\n",
       "      <td>131.326235</td>\n",
       "      <td>0.390971</td>\n",
       "    </tr>\n",
       "    <tr>\n",
       "      <th>std</th>\n",
       "      <td>18.328671</td>\n",
       "      <td>16.010305</td>\n",
       "      <td>0.440100</td>\n",
       "      <td>5.817839</td>\n",
       "      <td>2.526102</td>\n",
       "      <td>54.103828</td>\n",
       "      <td>0.488176</td>\n",
       "    </tr>\n",
       "    <tr>\n",
       "      <th>min</th>\n",
       "      <td>55.000000</td>\n",
       "      <td>148.000000</td>\n",
       "      <td>0.000000</td>\n",
       "      <td>15.000000</td>\n",
       "      <td>53.000000</td>\n",
       "      <td>27.000000</td>\n",
       "      <td>0.000000</td>\n",
       "    </tr>\n",
       "    <tr>\n",
       "      <th>25%</th>\n",
       "      <td>108.000000</td>\n",
       "      <td>272.000000</td>\n",
       "      <td>0.000000</td>\n",
       "      <td>23.000000</td>\n",
       "      <td>62.000000</td>\n",
       "      <td>114.000000</td>\n",
       "      <td>0.000000</td>\n",
       "    </tr>\n",
       "    <tr>\n",
       "      <th>50%</th>\n",
       "      <td>120.000000</td>\n",
       "      <td>280.000000</td>\n",
       "      <td>0.000000</td>\n",
       "      <td>26.000000</td>\n",
       "      <td>64.000000</td>\n",
       "      <td>125.000000</td>\n",
       "      <td>0.000000</td>\n",
       "    </tr>\n",
       "    <tr>\n",
       "      <th>75%</th>\n",
       "      <td>131.000000</td>\n",
       "      <td>288.000000</td>\n",
       "      <td>1.000000</td>\n",
       "      <td>31.000000</td>\n",
       "      <td>66.000000</td>\n",
       "      <td>139.750000</td>\n",
       "      <td>1.000000</td>\n",
       "    </tr>\n",
       "    <tr>\n",
       "      <th>max</th>\n",
       "      <td>176.000000</td>\n",
       "      <td>353.000000</td>\n",
       "      <td>1.000000</td>\n",
       "      <td>45.000000</td>\n",
       "      <td>72.000000</td>\n",
       "      <td>1500.000000</td>\n",
       "      <td>1.000000</td>\n",
       "    </tr>\n",
       "  </tbody>\n",
       "</table>\n",
       "</div>"
      ],
      "text/plain": [
       "               bwt    gestation       parity          age       height  \\\n",
       "count  1174.000000  1174.000000  1174.000000  1174.000000  1174.000000   \n",
       "mean    119.462521   279.101363     0.262351    27.228279    64.049404   \n",
       "std      18.328671    16.010305     0.440100     5.817839     2.526102   \n",
       "min      55.000000   148.000000     0.000000    15.000000    53.000000   \n",
       "25%     108.000000   272.000000     0.000000    23.000000    62.000000   \n",
       "50%     120.000000   280.000000     0.000000    26.000000    64.000000   \n",
       "75%     131.000000   288.000000     1.000000    31.000000    66.000000   \n",
       "max     176.000000   353.000000     1.000000    45.000000    72.000000   \n",
       "\n",
       "            weight        smoke  \n",
       "count  1174.000000  1174.000000  \n",
       "mean    131.326235     0.390971  \n",
       "std      54.103828     0.488176  \n",
       "min      27.000000     0.000000  \n",
       "25%     114.000000     0.000000  \n",
       "50%     125.000000     0.000000  \n",
       "75%     139.750000     1.000000  \n",
       "max    1500.000000     1.000000  "
      ]
     },
     "execution_count": 92,
     "metadata": {},
     "output_type": "execute_result"
    }
   ],
   "source": [
    "df.describe()\n",
    "##Two Qualitative variables parity and smoke i.e 1 or o means yes no as non-numeric type"
   ]
  },
  {
   "cell_type": "markdown",
   "id": "eaee4ec8",
   "metadata": {},
   "source": [
    "5. Replace the values in the qualitative variables with meaningful labels that describe the different groups. Use any method you've learned in previous modules to complete this task. "
   ]
  },
  {
   "cell_type": "code",
   "execution_count": 93,
   "id": "3e8abc37",
   "metadata": {},
   "outputs": [
    {
     "data": {
      "text/html": [
       "<div>\n",
       "<style scoped>\n",
       "    .dataframe tbody tr th:only-of-type {\n",
       "        vertical-align: middle;\n",
       "    }\n",
       "\n",
       "    .dataframe tbody tr th {\n",
       "        vertical-align: top;\n",
       "    }\n",
       "\n",
       "    .dataframe thead th {\n",
       "        text-align: right;\n",
       "    }\n",
       "</style>\n",
       "<table border=\"1\" class=\"dataframe\">\n",
       "  <thead>\n",
       "    <tr style=\"text-align: right;\">\n",
       "      <th></th>\n",
       "      <th>bwt</th>\n",
       "      <th>gestation</th>\n",
       "      <th>parity</th>\n",
       "      <th>age</th>\n",
       "      <th>height</th>\n",
       "      <th>weight</th>\n",
       "      <th>smoke</th>\n",
       "    </tr>\n",
       "  </thead>\n",
       "  <tbody>\n",
       "    <tr>\n",
       "      <th>0</th>\n",
       "      <td>120</td>\n",
       "      <td>284.0</td>\n",
       "      <td>No</td>\n",
       "      <td>27.0</td>\n",
       "      <td>62.0</td>\n",
       "      <td>100.0</td>\n",
       "      <td>No</td>\n",
       "    </tr>\n",
       "    <tr>\n",
       "      <th>1</th>\n",
       "      <td>113</td>\n",
       "      <td>282.0</td>\n",
       "      <td>No</td>\n",
       "      <td>33.0</td>\n",
       "      <td>64.0</td>\n",
       "      <td>135.0</td>\n",
       "      <td>No</td>\n",
       "    </tr>\n",
       "    <tr>\n",
       "      <th>2</th>\n",
       "      <td>128</td>\n",
       "      <td>279.0</td>\n",
       "      <td>No</td>\n",
       "      <td>28.0</td>\n",
       "      <td>64.0</td>\n",
       "      <td>77.0</td>\n",
       "      <td>Yes</td>\n",
       "    </tr>\n",
       "    <tr>\n",
       "      <th>4</th>\n",
       "      <td>108</td>\n",
       "      <td>282.0</td>\n",
       "      <td>No</td>\n",
       "      <td>23.0</td>\n",
       "      <td>67.0</td>\n",
       "      <td>125.0</td>\n",
       "      <td>Yes</td>\n",
       "    </tr>\n",
       "    <tr>\n",
       "      <th>5</th>\n",
       "      <td>136</td>\n",
       "      <td>286.0</td>\n",
       "      <td>No</td>\n",
       "      <td>25.0</td>\n",
       "      <td>62.0</td>\n",
       "      <td>93.0</td>\n",
       "      <td>No</td>\n",
       "    </tr>\n",
       "    <tr>\n",
       "      <th>...</th>\n",
       "      <td>...</td>\n",
       "      <td>...</td>\n",
       "      <td>...</td>\n",
       "      <td>...</td>\n",
       "      <td>...</td>\n",
       "      <td>...</td>\n",
       "      <td>...</td>\n",
       "    </tr>\n",
       "    <tr>\n",
       "      <th>1231</th>\n",
       "      <td>113</td>\n",
       "      <td>275.0</td>\n",
       "      <td>Yes</td>\n",
       "      <td>27.0</td>\n",
       "      <td>60.0</td>\n",
       "      <td>100.0</td>\n",
       "      <td>No</td>\n",
       "    </tr>\n",
       "    <tr>\n",
       "      <th>1232</th>\n",
       "      <td>128</td>\n",
       "      <td>265.0</td>\n",
       "      <td>No</td>\n",
       "      <td>24.0</td>\n",
       "      <td>67.0</td>\n",
       "      <td>120.0</td>\n",
       "      <td>No</td>\n",
       "    </tr>\n",
       "    <tr>\n",
       "      <th>1233</th>\n",
       "      <td>130</td>\n",
       "      <td>291.0</td>\n",
       "      <td>No</td>\n",
       "      <td>30.0</td>\n",
       "      <td>65.0</td>\n",
       "      <td>67.0</td>\n",
       "      <td>Yes</td>\n",
       "    </tr>\n",
       "    <tr>\n",
       "      <th>1234</th>\n",
       "      <td>125</td>\n",
       "      <td>281.0</td>\n",
       "      <td>Yes</td>\n",
       "      <td>21.0</td>\n",
       "      <td>65.0</td>\n",
       "      <td>110.0</td>\n",
       "      <td>No</td>\n",
       "    </tr>\n",
       "    <tr>\n",
       "      <th>1235</th>\n",
       "      <td>117</td>\n",
       "      <td>297.0</td>\n",
       "      <td>No</td>\n",
       "      <td>38.0</td>\n",
       "      <td>65.0</td>\n",
       "      <td>129.0</td>\n",
       "      <td>No</td>\n",
       "    </tr>\n",
       "  </tbody>\n",
       "</table>\n",
       "<p>1174 rows × 7 columns</p>\n",
       "</div>"
      ],
      "text/plain": [
       "      bwt  gestation parity   age  height  weight smoke\n",
       "0     120      284.0     No  27.0    62.0   100.0    No\n",
       "1     113      282.0     No  33.0    64.0   135.0    No\n",
       "2     128      279.0     No  28.0    64.0    77.0   Yes\n",
       "4     108      282.0     No  23.0    67.0   125.0   Yes\n",
       "5     136      286.0     No  25.0    62.0    93.0    No\n",
       "...   ...        ...    ...   ...     ...     ...   ...\n",
       "1231  113      275.0    Yes  27.0    60.0   100.0    No\n",
       "1232  128      265.0     No  24.0    67.0   120.0    No\n",
       "1233  130      291.0     No  30.0    65.0    67.0   Yes\n",
       "1234  125      281.0    Yes  21.0    65.0   110.0    No\n",
       "1235  117      297.0     No  38.0    65.0   129.0    No\n",
       "\n",
       "[1174 rows x 7 columns]"
      ]
     },
     "execution_count": 93,
     "metadata": {},
     "output_type": "execute_result"
    }
   ],
   "source": [
    "df[\"parity\"].replace([0, 1],[\"No\",\"Yes\"], inplace=True)\n",
    "df[\"smoke\"].replace([0, 1],[\"No\",\"Yes\"], inplace=True)\n",
    "df"
   ]
  },
  {
   "cell_type": "markdown",
   "id": "6974eb82",
   "metadata": {},
   "source": [
    "6. Before we move forward with any statistics, let's identify and remove any outliers from the dataset. Using the IQR method, search for outliers in the 5 numeric variables. This will take some time and organization, be careful with your code! Make sure you keep track of how many rows/outliers are removed. "
   ]
  },
  {
   "cell_type": "code",
   "execution_count": 136,
   "id": "3070de25",
   "metadata": {},
   "outputs": [],
   "source": [
    "df2 = df.copy()"
   ]
  },
  {
   "cell_type": "code",
   "execution_count": 137,
   "id": "ec75b1d1",
   "metadata": {},
   "outputs": [
    {
     "data": {
      "text/plain": [
       "(1174, 7)"
      ]
     },
     "execution_count": 137,
     "metadata": {},
     "output_type": "execute_result"
    }
   ],
   "source": [
    "df2.shape"
   ]
  },
  {
   "cell_type": "code",
   "execution_count": 138,
   "id": "48ed2c52",
   "metadata": {},
   "outputs": [
    {
     "name": "stdout",
     "output_type": "stream",
     "text": [
      "(1174, 7)\n"
     ]
    }
   ],
   "source": [
    "print(df2.shape)"
   ]
  },
  {
   "cell_type": "code",
   "execution_count": 139,
   "id": "77608af7",
   "metadata": {},
   "outputs": [
    {
     "name": "stdout",
     "output_type": "stream",
     "text": [
      "Q1: 108.0\n",
      "Q3: 131.0\n"
     ]
    }
   ],
   "source": [
    "## Calculate quartiles\n",
    "q1 = df2[\"bwt\"].quantile(.25)\n",
    "q3 = df2[\"bwt\"].quantile(.75)\n",
    "\n",
    "print(\"Q1:\", q1)\n",
    "print(\"Q3:\", q3)"
   ]
  },
  {
   "cell_type": "code",
   "execution_count": 140,
   "id": "f6a676af",
   "metadata": {},
   "outputs": [
    {
     "name": "stdout",
     "output_type": "stream",
     "text": [
      "IQR: 23.0\n"
     ]
    }
   ],
   "source": [
    "## Calculate the IQR\n",
    "iqr = q3 - q1\n",
    "\n",
    "print(\"IQR:\", iqr)"
   ]
  },
  {
   "cell_type": "code",
   "execution_count": 141,
   "id": "a142f5e3",
   "metadata": {},
   "outputs": [
    {
     "name": "stdout",
     "output_type": "stream",
     "text": [
      "Upper Limit: 165.5\n",
      "Lower Limit: 73.5\n"
     ]
    }
   ],
   "source": [
    "## Determine outlier fences \n",
    "top = q3 + (iqr * 1.5)\n",
    "bottom = q1 - (iqr * 1.5)\n",
    "\n",
    "\n",
    "print(\"Upper Limit:\", top)\n",
    "print(\"Lower Limit:\", bottom)"
   ]
  },
  {
   "cell_type": "code",
   "execution_count": 142,
   "id": "3235f946",
   "metadata": {},
   "outputs": [
    {
     "name": "stdout",
     "output_type": "stream",
     "text": [
      "INDEX VALUES: Int64Index([ 239,  309,  361,  462,  500,  529,  556,  594,  632,  709,  738,\n",
      "             747,  829,  904,  912,  978, 1021, 1035, 1063, 1065, 1099, 1139,\n",
      "            1148, 1169],\n",
      "           dtype='int64')\n"
     ]
    }
   ],
   "source": [
    "## Determine the index locations for rows that fall outside of outlier fences\n",
    "\n",
    "iqr_outliers = df2.loc[(df2['bwt'] > top) | (df2['bwt'] < bottom)].index\n",
    "\n",
    "print(\"INDEX VALUES:\", iqr_outliers)"
   ]
  },
  {
   "cell_type": "code",
   "execution_count": 110,
   "id": "05e7741e",
   "metadata": {},
   "outputs": [
    {
     "data": {
      "text/html": [
       "<div>\n",
       "<style scoped>\n",
       "    .dataframe tbody tr th:only-of-type {\n",
       "        vertical-align: middle;\n",
       "    }\n",
       "\n",
       "    .dataframe tbody tr th {\n",
       "        vertical-align: top;\n",
       "    }\n",
       "\n",
       "    .dataframe thead th {\n",
       "        text-align: right;\n",
       "    }\n",
       "</style>\n",
       "<table border=\"1\" class=\"dataframe\">\n",
       "  <thead>\n",
       "    <tr style=\"text-align: right;\">\n",
       "      <th></th>\n",
       "      <th>bwt</th>\n",
       "      <th>gestation</th>\n",
       "      <th>parity</th>\n",
       "      <th>age</th>\n",
       "      <th>height</th>\n",
       "      <th>weight</th>\n",
       "      <th>smoke</th>\n",
       "    </tr>\n",
       "  </thead>\n",
       "  <tbody>\n",
       "    <tr>\n",
       "      <th>261</th>\n",
       "      <td>81</td>\n",
       "      <td>256.0</td>\n",
       "      <td>No</td>\n",
       "      <td>30.0</td>\n",
       "      <td>64.0</td>\n",
       "      <td>148.0</td>\n",
       "      <td>Yes</td>\n",
       "    </tr>\n",
       "    <tr>\n",
       "      <th>332</th>\n",
       "      <td>103</td>\n",
       "      <td>273.0</td>\n",
       "      <td>Yes</td>\n",
       "      <td>22.0</td>\n",
       "      <td>64.0</td>\n",
       "      <td>110.0</td>\n",
       "      <td>Yes</td>\n",
       "    </tr>\n",
       "    <tr>\n",
       "      <th>388</th>\n",
       "      <td>98</td>\n",
       "      <td>275.0</td>\n",
       "      <td>No</td>\n",
       "      <td>25.0</td>\n",
       "      <td>65.0</td>\n",
       "      <td>112.0</td>\n",
       "      <td>Yes</td>\n",
       "    </tr>\n",
       "    <tr>\n",
       "      <th>497</th>\n",
       "      <td>101</td>\n",
       "      <td>289.0</td>\n",
       "      <td>Yes</td>\n",
       "      <td>31.0</td>\n",
       "      <td>60.0</td>\n",
       "      <td>125.0</td>\n",
       "      <td>No</td>\n",
       "    </tr>\n",
       "    <tr>\n",
       "      <th>537</th>\n",
       "      <td>147</td>\n",
       "      <td>277.0</td>\n",
       "      <td>No</td>\n",
       "      <td>30.0</td>\n",
       "      <td>68.0</td>\n",
       "      <td>160.0</td>\n",
       "      <td>No</td>\n",
       "    </tr>\n",
       "    <tr>\n",
       "      <th>566</th>\n",
       "      <td>133</td>\n",
       "      <td>280.0</td>\n",
       "      <td>Yes</td>\n",
       "      <td>25.0</td>\n",
       "      <td>61.0</td>\n",
       "      <td>130.0</td>\n",
       "      <td>No</td>\n",
       "    </tr>\n",
       "    <tr>\n",
       "      <th>593</th>\n",
       "      <td>118</td>\n",
       "      <td>297.0</td>\n",
       "      <td>No</td>\n",
       "      <td>35.0</td>\n",
       "      <td>68.0</td>\n",
       "      <td>140.0</td>\n",
       "      <td>Yes</td>\n",
       "    </tr>\n",
       "    <tr>\n",
       "      <th>632</th>\n",
       "      <td>176</td>\n",
       "      <td>293.0</td>\n",
       "      <td>Yes</td>\n",
       "      <td>19.0</td>\n",
       "      <td>68.0</td>\n",
       "      <td>180.0</td>\n",
       "      <td>No</td>\n",
       "    </tr>\n",
       "    <tr>\n",
       "      <th>676</th>\n",
       "      <td>100</td>\n",
       "      <td>275.0</td>\n",
       "      <td>No</td>\n",
       "      <td>26.0</td>\n",
       "      <td>60.0</td>\n",
       "      <td>115.0</td>\n",
       "      <td>No</td>\n",
       "    </tr>\n",
       "    <tr>\n",
       "      <th>757</th>\n",
       "      <td>155</td>\n",
       "      <td>279.0</td>\n",
       "      <td>No</td>\n",
       "      <td>33.0</td>\n",
       "      <td>61.0</td>\n",
       "      <td>125.0</td>\n",
       "      <td>No</td>\n",
       "    </tr>\n",
       "    <tr>\n",
       "      <th>787</th>\n",
       "      <td>125</td>\n",
       "      <td>272.0</td>\n",
       "      <td>No</td>\n",
       "      <td>30.0</td>\n",
       "      <td>60.0</td>\n",
       "      <td>96.0</td>\n",
       "      <td>No</td>\n",
       "    </tr>\n",
       "    <tr>\n",
       "      <th>796</th>\n",
       "      <td>152</td>\n",
       "      <td>286.0</td>\n",
       "      <td>Yes</td>\n",
       "      <td>19.0</td>\n",
       "      <td>67.0</td>\n",
       "      <td>135.0</td>\n",
       "      <td>No</td>\n",
       "    </tr>\n",
       "    <tr>\n",
       "      <th>881</th>\n",
       "      <td>128</td>\n",
       "      <td>272.0</td>\n",
       "      <td>Yes</td>\n",
       "      <td>18.0</td>\n",
       "      <td>67.0</td>\n",
       "      <td>109.0</td>\n",
       "      <td>No</td>\n",
       "    </tr>\n",
       "    <tr>\n",
       "      <th>958</th>\n",
       "      <td>133</td>\n",
       "      <td>290.0</td>\n",
       "      <td>No</td>\n",
       "      <td>21.0</td>\n",
       "      <td>64.0</td>\n",
       "      <td>145.0</td>\n",
       "      <td>No</td>\n",
       "    </tr>\n",
       "    <tr>\n",
       "      <th>967</th>\n",
       "      <td>119</td>\n",
       "      <td>273.0</td>\n",
       "      <td>No</td>\n",
       "      <td>35.0</td>\n",
       "      <td>65.0</td>\n",
       "      <td>125.0</td>\n",
       "      <td>Yes</td>\n",
       "    </tr>\n",
       "    <tr>\n",
       "      <th>1035</th>\n",
       "      <td>65</td>\n",
       "      <td>237.0</td>\n",
       "      <td>No</td>\n",
       "      <td>31.0</td>\n",
       "      <td>67.0</td>\n",
       "      <td>130.0</td>\n",
       "      <td>No</td>\n",
       "    </tr>\n",
       "    <tr>\n",
       "      <th>1079</th>\n",
       "      <td>119</td>\n",
       "      <td>286.0</td>\n",
       "      <td>Yes</td>\n",
       "      <td>33.0</td>\n",
       "      <td>67.0</td>\n",
       "      <td>137.0</td>\n",
       "      <td>No</td>\n",
       "    </tr>\n",
       "    <tr>\n",
       "      <th>1093</th>\n",
       "      <td>108</td>\n",
       "      <td>256.0</td>\n",
       "      <td>Yes</td>\n",
       "      <td>26.0</td>\n",
       "      <td>67.0</td>\n",
       "      <td>130.0</td>\n",
       "      <td>No</td>\n",
       "    </tr>\n",
       "    <tr>\n",
       "      <th>1121</th>\n",
       "      <td>128</td>\n",
       "      <td>277.0</td>\n",
       "      <td>No</td>\n",
       "      <td>39.0</td>\n",
       "      <td>61.0</td>\n",
       "      <td>120.0</td>\n",
       "      <td>No</td>\n",
       "    </tr>\n",
       "    <tr>\n",
       "      <th>1123</th>\n",
       "      <td>133</td>\n",
       "      <td>289.0</td>\n",
       "      <td>No</td>\n",
       "      <td>22.0</td>\n",
       "      <td>65.0</td>\n",
       "      <td>123.0</td>\n",
       "      <td>Yes</td>\n",
       "    </tr>\n",
       "    <tr>\n",
       "      <th>1157</th>\n",
       "      <td>141</td>\n",
       "      <td>293.0</td>\n",
       "      <td>No</td>\n",
       "      <td>28.0</td>\n",
       "      <td>61.0</td>\n",
       "      <td>125.0</td>\n",
       "      <td>No</td>\n",
       "    </tr>\n",
       "    <tr>\n",
       "      <th>1200</th>\n",
       "      <td>97</td>\n",
       "      <td>255.0</td>\n",
       "      <td>Yes</td>\n",
       "      <td>22.0</td>\n",
       "      <td>63.0</td>\n",
       "      <td>107.0</td>\n",
       "      <td>Yes</td>\n",
       "    </tr>\n",
       "    <tr>\n",
       "      <th>1209</th>\n",
       "      <td>144</td>\n",
       "      <td>283.0</td>\n",
       "      <td>Yes</td>\n",
       "      <td>25.0</td>\n",
       "      <td>66.0</td>\n",
       "      <td>140.0</td>\n",
       "      <td>No</td>\n",
       "    </tr>\n",
       "    <tr>\n",
       "      <th>1231</th>\n",
       "      <td>113</td>\n",
       "      <td>275.0</td>\n",
       "      <td>Yes</td>\n",
       "      <td>27.0</td>\n",
       "      <td>60.0</td>\n",
       "      <td>100.0</td>\n",
       "      <td>No</td>\n",
       "    </tr>\n",
       "  </tbody>\n",
       "</table>\n",
       "</div>"
      ],
      "text/plain": [
       "      bwt  gestation parity   age  height  weight smoke\n",
       "261    81      256.0     No  30.0    64.0   148.0   Yes\n",
       "332   103      273.0    Yes  22.0    64.0   110.0   Yes\n",
       "388    98      275.0     No  25.0    65.0   112.0   Yes\n",
       "497   101      289.0    Yes  31.0    60.0   125.0    No\n",
       "537   147      277.0     No  30.0    68.0   160.0    No\n",
       "566   133      280.0    Yes  25.0    61.0   130.0    No\n",
       "593   118      297.0     No  35.0    68.0   140.0   Yes\n",
       "632   176      293.0    Yes  19.0    68.0   180.0    No\n",
       "676   100      275.0     No  26.0    60.0   115.0    No\n",
       "757   155      279.0     No  33.0    61.0   125.0    No\n",
       "787   125      272.0     No  30.0    60.0    96.0    No\n",
       "796   152      286.0    Yes  19.0    67.0   135.0    No\n",
       "881   128      272.0    Yes  18.0    67.0   109.0    No\n",
       "958   133      290.0     No  21.0    64.0   145.0    No\n",
       "967   119      273.0     No  35.0    65.0   125.0   Yes\n",
       "1035   65      237.0     No  31.0    67.0   130.0    No\n",
       "1079  119      286.0    Yes  33.0    67.0   137.0    No\n",
       "1093  108      256.0    Yes  26.0    67.0   130.0    No\n",
       "1121  128      277.0     No  39.0    61.0   120.0    No\n",
       "1123  133      289.0     No  22.0    65.0   123.0   Yes\n",
       "1157  141      293.0     No  28.0    61.0   125.0    No\n",
       "1200   97      255.0    Yes  22.0    63.0   107.0   Yes\n",
       "1209  144      283.0    Yes  25.0    66.0   140.0    No\n",
       "1231  113      275.0    Yes  27.0    60.0   100.0    No"
      ]
     },
     "execution_count": 110,
     "metadata": {},
     "output_type": "execute_result"
    }
   ],
   "source": [
    "## what values can we find at these index locations?\n",
    "\n",
    "df2.iloc[[239,  309,  361,  462,  500,  529,  556,  594,  632,  709,  738,\n",
    "             747,  829,  904,  912,  978, 1021, 1035, 1063, 1065, 1099, 1139,\n",
    "            1148, 1169]]"
   ]
  },
  {
   "cell_type": "code",
   "execution_count": 143,
   "id": "b925bf04",
   "metadata": {},
   "outputs": [],
   "source": [
    "df2 = df2.reset_index(drop = True)"
   ]
  },
  {
   "cell_type": "code",
   "execution_count": 144,
   "id": "c674bfa7",
   "metadata": {},
   "outputs": [
    {
     "name": "stdout",
     "output_type": "stream",
     "text": [
      "INDEX VALUES: Int64Index([ 220,  287,  335,  430,  465,  492,  519,  557,  594,  663,  692,\n",
      "             700,  780,  851,  859,  922,  964,  978, 1005, 1007, 1041, 1081,\n",
      "            1090, 1111],\n",
      "           dtype='int64')\n"
     ]
    }
   ],
   "source": [
    "## Determine the index locations for rows that fall outside of outlier fences\n",
    "\n",
    "iqr_outliers = df2.loc[(df2['bwt'] > top) | (df2['bwt'] < bottom)].index\n",
    "\n",
    "print(\"INDEX VALUES:\", iqr_outliers)"
   ]
  },
  {
   "cell_type": "code",
   "execution_count": 145,
   "id": "aa8b58e6",
   "metadata": {},
   "outputs": [
    {
     "data": {
      "text/html": [
       "<div>\n",
       "<style scoped>\n",
       "    .dataframe tbody tr th:only-of-type {\n",
       "        vertical-align: middle;\n",
       "    }\n",
       "\n",
       "    .dataframe tbody tr th {\n",
       "        vertical-align: top;\n",
       "    }\n",
       "\n",
       "    .dataframe thead th {\n",
       "        text-align: right;\n",
       "    }\n",
       "</style>\n",
       "<table border=\"1\" class=\"dataframe\">\n",
       "  <thead>\n",
       "    <tr style=\"text-align: right;\">\n",
       "      <th></th>\n",
       "      <th>bwt</th>\n",
       "      <th>gestation</th>\n",
       "      <th>parity</th>\n",
       "      <th>age</th>\n",
       "      <th>height</th>\n",
       "      <th>weight</th>\n",
       "      <th>smoke</th>\n",
       "    </tr>\n",
       "  </thead>\n",
       "  <tbody>\n",
       "    <tr>\n",
       "      <th>220</th>\n",
       "      <td>173</td>\n",
       "      <td>293.0</td>\n",
       "      <td>No</td>\n",
       "      <td>30.0</td>\n",
       "      <td>63.0</td>\n",
       "      <td>110.0</td>\n",
       "      <td>No</td>\n",
       "    </tr>\n",
       "    <tr>\n",
       "      <th>287</th>\n",
       "      <td>71</td>\n",
       "      <td>281.0</td>\n",
       "      <td>No</td>\n",
       "      <td>32.0</td>\n",
       "      <td>60.0</td>\n",
       "      <td>117.0</td>\n",
       "      <td>Yes</td>\n",
       "    </tr>\n",
       "    <tr>\n",
       "      <th>335</th>\n",
       "      <td>71</td>\n",
       "      <td>234.0</td>\n",
       "      <td>No</td>\n",
       "      <td>32.0</td>\n",
       "      <td>64.0</td>\n",
       "      <td>110.0</td>\n",
       "      <td>Yes</td>\n",
       "    </tr>\n",
       "    <tr>\n",
       "      <th>430</th>\n",
       "      <td>68</td>\n",
       "      <td>223.0</td>\n",
       "      <td>No</td>\n",
       "      <td>32.0</td>\n",
       "      <td>66.0</td>\n",
       "      <td>149.0</td>\n",
       "      <td>Yes</td>\n",
       "    </tr>\n",
       "    <tr>\n",
       "      <th>465</th>\n",
       "      <td>69</td>\n",
       "      <td>232.0</td>\n",
       "      <td>No</td>\n",
       "      <td>31.0</td>\n",
       "      <td>59.0</td>\n",
       "      <td>103.0</td>\n",
       "      <td>Yes</td>\n",
       "    </tr>\n",
       "    <tr>\n",
       "      <th>492</th>\n",
       "      <td>71</td>\n",
       "      <td>277.0</td>\n",
       "      <td>No</td>\n",
       "      <td>40.0</td>\n",
       "      <td>69.0</td>\n",
       "      <td>135.0</td>\n",
       "      <td>No</td>\n",
       "    </tr>\n",
       "    <tr>\n",
       "      <th>519</th>\n",
       "      <td>174</td>\n",
       "      <td>281.0</td>\n",
       "      <td>No</td>\n",
       "      <td>37.0</td>\n",
       "      <td>67.0</td>\n",
       "      <td>155.0</td>\n",
       "      <td>No</td>\n",
       "    </tr>\n",
       "    <tr>\n",
       "      <th>557</th>\n",
       "      <td>170</td>\n",
       "      <td>303.0</td>\n",
       "      <td>Yes</td>\n",
       "      <td>21.0</td>\n",
       "      <td>64.0</td>\n",
       "      <td>129.0</td>\n",
       "      <td>No</td>\n",
       "    </tr>\n",
       "    <tr>\n",
       "      <th>594</th>\n",
       "      <td>176</td>\n",
       "      <td>293.0</td>\n",
       "      <td>Yes</td>\n",
       "      <td>19.0</td>\n",
       "      <td>68.0</td>\n",
       "      <td>180.0</td>\n",
       "      <td>No</td>\n",
       "    </tr>\n",
       "    <tr>\n",
       "      <th>663</th>\n",
       "      <td>166</td>\n",
       "      <td>299.0</td>\n",
       "      <td>No</td>\n",
       "      <td>26.0</td>\n",
       "      <td>68.0</td>\n",
       "      <td>140.0</td>\n",
       "      <td>No</td>\n",
       "    </tr>\n",
       "    <tr>\n",
       "      <th>692</th>\n",
       "      <td>167</td>\n",
       "      <td>288.0</td>\n",
       "      <td>Yes</td>\n",
       "      <td>19.0</td>\n",
       "      <td>63.0</td>\n",
       "      <td>117.0</td>\n",
       "      <td>No</td>\n",
       "    </tr>\n",
       "    <tr>\n",
       "      <th>700</th>\n",
       "      <td>174</td>\n",
       "      <td>288.0</td>\n",
       "      <td>No</td>\n",
       "      <td>25.0</td>\n",
       "      <td>61.0</td>\n",
       "      <td>182.0</td>\n",
       "      <td>No</td>\n",
       "    </tr>\n",
       "    <tr>\n",
       "      <th>780</th>\n",
       "      <td>62</td>\n",
       "      <td>228.0</td>\n",
       "      <td>No</td>\n",
       "      <td>24.0</td>\n",
       "      <td>61.0</td>\n",
       "      <td>107.0</td>\n",
       "      <td>No</td>\n",
       "    </tr>\n",
       "    <tr>\n",
       "      <th>851</th>\n",
       "      <td>72</td>\n",
       "      <td>271.0</td>\n",
       "      <td>No</td>\n",
       "      <td>39.0</td>\n",
       "      <td>61.0</td>\n",
       "      <td>136.0</td>\n",
       "      <td>No</td>\n",
       "    </tr>\n",
       "    <tr>\n",
       "      <th>859</th>\n",
       "      <td>58</td>\n",
       "      <td>245.0</td>\n",
       "      <td>No</td>\n",
       "      <td>34.0</td>\n",
       "      <td>64.0</td>\n",
       "      <td>156.0</td>\n",
       "      <td>Yes</td>\n",
       "    </tr>\n",
       "    <tr>\n",
       "      <th>922</th>\n",
       "      <td>55</td>\n",
       "      <td>204.0</td>\n",
       "      <td>No</td>\n",
       "      <td>35.0</td>\n",
       "      <td>65.0</td>\n",
       "      <td>140.0</td>\n",
       "      <td>No</td>\n",
       "    </tr>\n",
       "    <tr>\n",
       "      <th>964</th>\n",
       "      <td>169</td>\n",
       "      <td>296.0</td>\n",
       "      <td>No</td>\n",
       "      <td>33.0</td>\n",
       "      <td>67.0</td>\n",
       "      <td>185.0</td>\n",
       "      <td>No</td>\n",
       "    </tr>\n",
       "    <tr>\n",
       "      <th>978</th>\n",
       "      <td>65</td>\n",
       "      <td>237.0</td>\n",
       "      <td>No</td>\n",
       "      <td>31.0</td>\n",
       "      <td>67.0</td>\n",
       "      <td>130.0</td>\n",
       "      <td>No</td>\n",
       "    </tr>\n",
       "    <tr>\n",
       "      <th>1005</th>\n",
       "      <td>73</td>\n",
       "      <td>277.0</td>\n",
       "      <td>No</td>\n",
       "      <td>29.0</td>\n",
       "      <td>65.0</td>\n",
       "      <td>145.0</td>\n",
       "      <td>No</td>\n",
       "    </tr>\n",
       "    <tr>\n",
       "      <th>1007</th>\n",
       "      <td>65</td>\n",
       "      <td>232.0</td>\n",
       "      <td>No</td>\n",
       "      <td>24.0</td>\n",
       "      <td>66.0</td>\n",
       "      <td>125.0</td>\n",
       "      <td>Yes</td>\n",
       "    </tr>\n",
       "    <tr>\n",
       "      <th>1041</th>\n",
       "      <td>174</td>\n",
       "      <td>284.0</td>\n",
       "      <td>No</td>\n",
       "      <td>39.0</td>\n",
       "      <td>65.0</td>\n",
       "      <td>163.0</td>\n",
       "      <td>No</td>\n",
       "    </tr>\n",
       "    <tr>\n",
       "      <th>1081</th>\n",
       "      <td>63</td>\n",
       "      <td>236.0</td>\n",
       "      <td>Yes</td>\n",
       "      <td>24.0</td>\n",
       "      <td>58.0</td>\n",
       "      <td>99.0</td>\n",
       "      <td>No</td>\n",
       "    </tr>\n",
       "    <tr>\n",
       "      <th>1090</th>\n",
       "      <td>72</td>\n",
       "      <td>266.0</td>\n",
       "      <td>Yes</td>\n",
       "      <td>25.0</td>\n",
       "      <td>66.0</td>\n",
       "      <td>200.0</td>\n",
       "      <td>Yes</td>\n",
       "    </tr>\n",
       "    <tr>\n",
       "      <th>1111</th>\n",
       "      <td>71</td>\n",
       "      <td>254.0</td>\n",
       "      <td>No</td>\n",
       "      <td>19.0</td>\n",
       "      <td>61.0</td>\n",
       "      <td>145.0</td>\n",
       "      <td>Yes</td>\n",
       "    </tr>\n",
       "  </tbody>\n",
       "</table>\n",
       "</div>"
      ],
      "text/plain": [
       "      bwt  gestation parity   age  height  weight smoke\n",
       "220   173      293.0     No  30.0    63.0   110.0    No\n",
       "287    71      281.0     No  32.0    60.0   117.0   Yes\n",
       "335    71      234.0     No  32.0    64.0   110.0   Yes\n",
       "430    68      223.0     No  32.0    66.0   149.0   Yes\n",
       "465    69      232.0     No  31.0    59.0   103.0   Yes\n",
       "492    71      277.0     No  40.0    69.0   135.0    No\n",
       "519   174      281.0     No  37.0    67.0   155.0    No\n",
       "557   170      303.0    Yes  21.0    64.0   129.0    No\n",
       "594   176      293.0    Yes  19.0    68.0   180.0    No\n",
       "663   166      299.0     No  26.0    68.0   140.0    No\n",
       "692   167      288.0    Yes  19.0    63.0   117.0    No\n",
       "700   174      288.0     No  25.0    61.0   182.0    No\n",
       "780    62      228.0     No  24.0    61.0   107.0    No\n",
       "851    72      271.0     No  39.0    61.0   136.0    No\n",
       "859    58      245.0     No  34.0    64.0   156.0   Yes\n",
       "922    55      204.0     No  35.0    65.0   140.0    No\n",
       "964   169      296.0     No  33.0    67.0   185.0    No\n",
       "978    65      237.0     No  31.0    67.0   130.0    No\n",
       "1005   73      277.0     No  29.0    65.0   145.0    No\n",
       "1007   65      232.0     No  24.0    66.0   125.0   Yes\n",
       "1041  174      284.0     No  39.0    65.0   163.0    No\n",
       "1081   63      236.0    Yes  24.0    58.0    99.0    No\n",
       "1090   72      266.0    Yes  25.0    66.0   200.0   Yes\n",
       "1111   71      254.0     No  19.0    61.0   145.0   Yes"
      ]
     },
     "execution_count": 145,
     "metadata": {},
     "output_type": "execute_result"
    }
   ],
   "source": [
    "## what values can we find at these index locations?\n",
    "\n",
    "df2.iloc[[220,  287,  335,  430,  465,  492,  519,  557,  594,  663,  692,\n",
    "             700,  780,  851,  859,  922,  964,  978, 1005, 1007, 1041, 1081,\n",
    "            1090, 1111]]"
   ]
  },
  {
   "cell_type": "code",
   "execution_count": 146,
   "id": "4db07bff",
   "metadata": {},
   "outputs": [
    {
     "name": "stdout",
     "output_type": "stream",
     "text": [
      "(1150, 7)\n"
     ]
    }
   ],
   "source": [
    "## Drop rows with above index values\n",
    "df2 = df2.drop(iqr_outliers)\n",
    "\n",
    "## Re-check the shape of the dataframe, how many rows were dropped?\n",
    "print(df2.shape)"
   ]
  },
  {
   "cell_type": "code",
   "execution_count": 147,
   "id": "ed7f5135",
   "metadata": {},
   "outputs": [
    {
     "name": "stdout",
     "output_type": "stream",
     "text": [
      "Q1: 272.0\n",
      "Q3: 288.0\n"
     ]
    }
   ],
   "source": [
    "## Calculate quartiles\n",
    "q1 = df2[\"gestation\"].quantile(.25)\n",
    "q3 = df2[\"gestation\"].quantile(.75)\n",
    "\n",
    "print(\"Q1:\", q1)\n",
    "print(\"Q3:\", q3)"
   ]
  },
  {
   "cell_type": "code",
   "execution_count": 148,
   "id": "28ede113",
   "metadata": {},
   "outputs": [
    {
     "name": "stdout",
     "output_type": "stream",
     "text": [
      "IQR: 16.0\n"
     ]
    }
   ],
   "source": [
    "## Calculate the IQR\n",
    "iqr = q3 - q1\n",
    "\n",
    "print(\"IQR:\", iqr)"
   ]
  },
  {
   "cell_type": "code",
   "execution_count": 149,
   "id": "d153a6b3",
   "metadata": {},
   "outputs": [
    {
     "name": "stdout",
     "output_type": "stream",
     "text": [
      "Upper Limit: 312.0\n",
      "Lower Limit: 248.0\n"
     ]
    }
   ],
   "source": [
    "## Determine outlier fences \n",
    "top = q3 + (iqr * 1.5)\n",
    "bottom = q1 - (iqr * 1.5)\n",
    "\n",
    "\n",
    "print(\"Upper Limit:\", top)\n",
    "print(\"Lower Limit:\", bottom)"
   ]
  },
  {
   "cell_type": "code",
   "execution_count": 153,
   "id": "abfd0b98",
   "metadata": {},
   "outputs": [],
   "source": [
    "df2 = df2.reset_index(drop = True)"
   ]
  },
  {
   "cell_type": "code",
   "execution_count": 154,
   "id": "d9026f4e",
   "metadata": {},
   "outputs": [
    {
     "name": "stdout",
     "output_type": "stream",
     "text": [
      "INDEX VALUES: Int64Index([   5,    6,    9,   56,   60,   63,  109,  119,  143,  173,  177,\n",
      "             182,  193,  198,  200,  215,  220,  232,  237,  256,  319,  343,\n",
      "             364,  406,  425,  445,  470,  482,  584,  632,  645,  654,  670,\n",
      "             688,  701,  708,  717,  723,  767,  768,  771,  806,  858,  883,\n",
      "             899,  930,  947,  952,  996, 1055, 1060, 1062, 1066, 1071, 1090,\n",
      "            1095, 1114, 1121, 1122, 1131, 1133, 1140],\n",
      "           dtype='int64')\n"
     ]
    }
   ],
   "source": [
    "## Determine the index locations for rows that fall outside of outlier fences\n",
    "\n",
    "iqr_outliers = df2.loc[(df2['gestation'] > top) | (df2['gestation'] < bottom)].index\n",
    "\n",
    "print(\"INDEX VALUES:\", iqr_outliers)"
   ]
  },
  {
   "cell_type": "code",
   "execution_count": 156,
   "id": "b7c055a2",
   "metadata": {},
   "outputs": [
    {
     "data": {
      "text/html": [
       "<div>\n",
       "<style scoped>\n",
       "    .dataframe tbody tr th:only-of-type {\n",
       "        vertical-align: middle;\n",
       "    }\n",
       "\n",
       "    .dataframe tbody tr th {\n",
       "        vertical-align: top;\n",
       "    }\n",
       "\n",
       "    .dataframe thead th {\n",
       "        text-align: right;\n",
       "    }\n",
       "</style>\n",
       "<table border=\"1\" class=\"dataframe\">\n",
       "  <thead>\n",
       "    <tr style=\"text-align: right;\">\n",
       "      <th></th>\n",
       "      <th>bwt</th>\n",
       "      <th>gestation</th>\n",
       "      <th>parity</th>\n",
       "      <th>age</th>\n",
       "      <th>height</th>\n",
       "      <th>weight</th>\n",
       "      <th>smoke</th>\n",
       "    </tr>\n",
       "  </thead>\n",
       "  <tbody>\n",
       "    <tr>\n",
       "      <th>5</th>\n",
       "      <td>138</td>\n",
       "      <td>244.0</td>\n",
       "      <td>No</td>\n",
       "      <td>33.0</td>\n",
       "      <td>62.0</td>\n",
       "      <td>178.0</td>\n",
       "      <td>No</td>\n",
       "    </tr>\n",
       "    <tr>\n",
       "      <th>5</th>\n",
       "      <td>138</td>\n",
       "      <td>244.0</td>\n",
       "      <td>No</td>\n",
       "      <td>33.0</td>\n",
       "      <td>62.0</td>\n",
       "      <td>178.0</td>\n",
       "      <td>No</td>\n",
       "    </tr>\n",
       "    <tr>\n",
       "      <th>6</th>\n",
       "      <td>132</td>\n",
       "      <td>245.0</td>\n",
       "      <td>No</td>\n",
       "      <td>23.0</td>\n",
       "      <td>65.0</td>\n",
       "      <td>140.0</td>\n",
       "      <td>No</td>\n",
       "    </tr>\n",
       "    <tr>\n",
       "      <th>9</th>\n",
       "      <td>140</td>\n",
       "      <td>351.0</td>\n",
       "      <td>No</td>\n",
       "      <td>27.0</td>\n",
       "      <td>68.0</td>\n",
       "      <td>120.0</td>\n",
       "      <td>No</td>\n",
       "    </tr>\n",
       "    <tr>\n",
       "      <th>56</th>\n",
       "      <td>75</td>\n",
       "      <td>232.0</td>\n",
       "      <td>No</td>\n",
       "      <td>33.0</td>\n",
       "      <td>61.0</td>\n",
       "      <td>110.0</td>\n",
       "      <td>No</td>\n",
       "    </tr>\n",
       "    <tr>\n",
       "      <th>...</th>\n",
       "      <td>...</td>\n",
       "      <td>...</td>\n",
       "      <td>...</td>\n",
       "      <td>...</td>\n",
       "      <td>...</td>\n",
       "      <td>...</td>\n",
       "      <td>...</td>\n",
       "    </tr>\n",
       "    <tr>\n",
       "      <th>1121</th>\n",
       "      <td>127</td>\n",
       "      <td>242.0</td>\n",
       "      <td>No</td>\n",
       "      <td>17.0</td>\n",
       "      <td>61.0</td>\n",
       "      <td>135.0</td>\n",
       "      <td>Yes</td>\n",
       "    </tr>\n",
       "    <tr>\n",
       "      <th>1122</th>\n",
       "      <td>87</td>\n",
       "      <td>247.0</td>\n",
       "      <td>Yes</td>\n",
       "      <td>18.0</td>\n",
       "      <td>66.0</td>\n",
       "      <td>125.0</td>\n",
       "      <td>Yes</td>\n",
       "    </tr>\n",
       "    <tr>\n",
       "      <th>1131</th>\n",
       "      <td>146</td>\n",
       "      <td>319.0</td>\n",
       "      <td>No</td>\n",
       "      <td>28.0</td>\n",
       "      <td>66.0</td>\n",
       "      <td>145.0</td>\n",
       "      <td>No</td>\n",
       "    </tr>\n",
       "    <tr>\n",
       "      <th>1133</th>\n",
       "      <td>110</td>\n",
       "      <td>321.0</td>\n",
       "      <td>No</td>\n",
       "      <td>28.0</td>\n",
       "      <td>66.0</td>\n",
       "      <td>180.0</td>\n",
       "      <td>No</td>\n",
       "    </tr>\n",
       "    <tr>\n",
       "      <th>1140</th>\n",
       "      <td>109</td>\n",
       "      <td>244.0</td>\n",
       "      <td>Yes</td>\n",
       "      <td>21.0</td>\n",
       "      <td>63.0</td>\n",
       "      <td>102.0</td>\n",
       "      <td>Yes</td>\n",
       "    </tr>\n",
       "  </tbody>\n",
       "</table>\n",
       "<p>63 rows × 7 columns</p>\n",
       "</div>"
      ],
      "text/plain": [
       "      bwt  gestation parity   age  height  weight smoke\n",
       "5     138      244.0     No  33.0    62.0   178.0    No\n",
       "5     138      244.0     No  33.0    62.0   178.0    No\n",
       "6     132      245.0     No  23.0    65.0   140.0    No\n",
       "9     140      351.0     No  27.0    68.0   120.0    No\n",
       "56     75      232.0     No  33.0    61.0   110.0    No\n",
       "...   ...        ...    ...   ...     ...     ...   ...\n",
       "1121  127      242.0     No  17.0    61.0   135.0   Yes\n",
       "1122   87      247.0    Yes  18.0    66.0   125.0   Yes\n",
       "1131  146      319.0     No  28.0    66.0   145.0    No\n",
       "1133  110      321.0     No  28.0    66.0   180.0    No\n",
       "1140  109      244.0    Yes  21.0    63.0   102.0   Yes\n",
       "\n",
       "[63 rows x 7 columns]"
      ]
     },
     "execution_count": 156,
     "metadata": {},
     "output_type": "execute_result"
    }
   ],
   "source": [
    "## what values can we find at these index locations?\n",
    "\n",
    "df2.iloc[[5, 5,    6,    9,   56,   60,   63,  109,  119,  143,  173,  177,\n",
    "             182,  193,  198,  200,  215,  220,  232,  237,  256,  319,  343,\n",
    "             364,  406,  425,  445,  470,  482,  584,  632,  645,  654,  670,\n",
    "             688,  701,  708,  717,  723,  767,  768,  771,  806,  858,  883,\n",
    "             899,  930,  947,  952,  996, 1055, 1060, 1062, 1066, 1071, 1090,\n",
    "            1095, 1114, 1121, 1122, 1131, 1133, 1140]]"
   ]
  },
  {
   "cell_type": "code",
   "execution_count": 157,
   "id": "7b94db80",
   "metadata": {},
   "outputs": [
    {
     "name": "stdout",
     "output_type": "stream",
     "text": [
      "(1088, 7)\n"
     ]
    }
   ],
   "source": [
    "## Drop rows with above index values\n",
    "df2 = df2.drop(iqr_outliers)\n",
    "\n",
    "## Re-check the shape of the dataframe, how many rows were dropped?\n",
    "print(df2.shape)"
   ]
  },
  {
   "cell_type": "code",
   "execution_count": 158,
   "id": "743432f9",
   "metadata": {},
   "outputs": [
    {
     "name": "stdout",
     "output_type": "stream",
     "text": [
      "Q1: 23.0\n",
      "Q3: 31.0\n"
     ]
    }
   ],
   "source": [
    "## Calculate quartiles\n",
    "q1 = df2[\"age\"].quantile(.25)\n",
    "q3 = df2[\"age\"].quantile(.75)\n",
    "\n",
    "print(\"Q1:\", q1)\n",
    "print(\"Q3:\", q3)"
   ]
  },
  {
   "cell_type": "code",
   "execution_count": 159,
   "id": "b28c6b15",
   "metadata": {},
   "outputs": [
    {
     "name": "stdout",
     "output_type": "stream",
     "text": [
      "IQR: 8.0\n"
     ]
    }
   ],
   "source": [
    "## Calculate the IQR\n",
    "iqr = q3 - q1\n",
    "\n",
    "print(\"IQR:\", iqr)"
   ]
  },
  {
   "cell_type": "code",
   "execution_count": 160,
   "id": "131271ac",
   "metadata": {},
   "outputs": [
    {
     "name": "stdout",
     "output_type": "stream",
     "text": [
      "Upper Limit: 43.0\n",
      "Lower Limit: 11.0\n"
     ]
    }
   ],
   "source": [
    "## Determine outlier fences \n",
    "top = q3 + (iqr * 1.5)\n",
    "bottom = q1 - (iqr * 1.5)\n",
    "\n",
    "\n",
    "print(\"Upper Limit:\", top)\n",
    "print(\"Lower Limit:\", bottom)"
   ]
  },
  {
   "cell_type": "code",
   "execution_count": 161,
   "id": "8af9e66a",
   "metadata": {},
   "outputs": [],
   "source": [
    "df2 = df2.reset_index(drop = True)"
   ]
  },
  {
   "cell_type": "code",
   "execution_count": 162,
   "id": "1c41383e",
   "metadata": {},
   "outputs": [
    {
     "name": "stdout",
     "output_type": "stream",
     "text": [
      "INDEX VALUES: Int64Index([557, 944], dtype='int64')\n"
     ]
    }
   ],
   "source": [
    "## Determine the index locations for rows that fall outside of outlier fences\n",
    "\n",
    "iqr_outliers = df2.loc[(df2['age'] > top) | (df2['age'] < bottom)].index\n",
    "\n",
    "print(\"INDEX VALUES:\", iqr_outliers)"
   ]
  },
  {
   "cell_type": "code",
   "execution_count": 163,
   "id": "7a34e891",
   "metadata": {},
   "outputs": [
    {
     "data": {
      "text/html": [
       "<div>\n",
       "<style scoped>\n",
       "    .dataframe tbody tr th:only-of-type {\n",
       "        vertical-align: middle;\n",
       "    }\n",
       "\n",
       "    .dataframe tbody tr th {\n",
       "        vertical-align: top;\n",
       "    }\n",
       "\n",
       "    .dataframe thead th {\n",
       "        text-align: right;\n",
       "    }\n",
       "</style>\n",
       "<table border=\"1\" class=\"dataframe\">\n",
       "  <thead>\n",
       "    <tr style=\"text-align: right;\">\n",
       "      <th></th>\n",
       "      <th>bwt</th>\n",
       "      <th>gestation</th>\n",
       "      <th>parity</th>\n",
       "      <th>age</th>\n",
       "      <th>height</th>\n",
       "      <th>weight</th>\n",
       "      <th>smoke</th>\n",
       "    </tr>\n",
       "  </thead>\n",
       "  <tbody>\n",
       "    <tr>\n",
       "      <th>557</th>\n",
       "      <td>143</td>\n",
       "      <td>294.0</td>\n",
       "      <td>No</td>\n",
       "      <td>44.0</td>\n",
       "      <td>65.0</td>\n",
       "      <td>145.0</td>\n",
       "      <td>No</td>\n",
       "    </tr>\n",
       "    <tr>\n",
       "      <th>944</th>\n",
       "      <td>122</td>\n",
       "      <td>280.0</td>\n",
       "      <td>Yes</td>\n",
       "      <td>45.0</td>\n",
       "      <td>62.0</td>\n",
       "      <td>128.0</td>\n",
       "      <td>No</td>\n",
       "    </tr>\n",
       "  </tbody>\n",
       "</table>\n",
       "</div>"
      ],
      "text/plain": [
       "     bwt  gestation parity   age  height  weight smoke\n",
       "557  143      294.0     No  44.0    65.0   145.0    No\n",
       "944  122      280.0    Yes  45.0    62.0   128.0    No"
      ]
     },
     "execution_count": 163,
     "metadata": {},
     "output_type": "execute_result"
    }
   ],
   "source": [
    "## what values can we find at these index locations?\n",
    "\n",
    "df2.iloc[[557, 944]]"
   ]
  },
  {
   "cell_type": "code",
   "execution_count": 164,
   "id": "51c20267",
   "metadata": {},
   "outputs": [
    {
     "name": "stdout",
     "output_type": "stream",
     "text": [
      "(1086, 7)\n"
     ]
    }
   ],
   "source": [
    "## Drop rows with above index values\n",
    "df2 = df2.drop(iqr_outliers)\n",
    "\n",
    "## Re-check the shape of the dataframe, how many rows were dropped?\n",
    "print(df2.shape)"
   ]
  },
  {
   "cell_type": "code",
   "execution_count": 165,
   "id": "3204caef",
   "metadata": {},
   "outputs": [
    {
     "name": "stdout",
     "output_type": "stream",
     "text": [
      "Q1: 62.0\n",
      "Q3: 66.0\n"
     ]
    }
   ],
   "source": [
    "## Calculate quartiles\n",
    "q1 = df2[\"height\"].quantile(.25)\n",
    "q3 = df2[\"height\"].quantile(.75)\n",
    "\n",
    "print(\"Q1:\", q1)\n",
    "print(\"Q3:\", q3)"
   ]
  },
  {
   "cell_type": "code",
   "execution_count": 166,
   "id": "cd30065a",
   "metadata": {},
   "outputs": [
    {
     "name": "stdout",
     "output_type": "stream",
     "text": [
      "IQR: 4.0\n"
     ]
    }
   ],
   "source": [
    "## Calculate the IQR\n",
    "iqr = q3 - q1\n",
    "\n",
    "print(\"IQR:\", iqr)"
   ]
  },
  {
   "cell_type": "code",
   "execution_count": 167,
   "id": "a1c71461",
   "metadata": {},
   "outputs": [
    {
     "name": "stdout",
     "output_type": "stream",
     "text": [
      "Upper Limit: 72.0\n",
      "Lower Limit: 56.0\n"
     ]
    }
   ],
   "source": [
    "## Determine outlier fences \n",
    "top = q3 + (iqr * 1.5)\n",
    "bottom = q1 - (iqr * 1.5)\n",
    "\n",
    "\n",
    "print(\"Upper Limit:\", top)\n",
    "print(\"Lower Limit:\", bottom)"
   ]
  },
  {
   "cell_type": "code",
   "execution_count": 168,
   "id": "1593d9cc",
   "metadata": {},
   "outputs": [],
   "source": [
    "df2 = df2.reset_index(drop = True)"
   ]
  },
  {
   "cell_type": "code",
   "execution_count": 169,
   "id": "e4289674",
   "metadata": {},
   "outputs": [
    {
     "name": "stdout",
     "output_type": "stream",
     "text": [
      "INDEX VALUES: Int64Index([378, 1062], dtype='int64')\n"
     ]
    }
   ],
   "source": [
    "## Determine the index locations for rows that fall outside of outlier fences\n",
    "\n",
    "iqr_outliers = df2.loc[(df2['height'] > top) | (df2['height'] < bottom)].index\n",
    "\n",
    "print(\"INDEX VALUES:\", iqr_outliers)"
   ]
  },
  {
   "cell_type": "code",
   "execution_count": 170,
   "id": "e04bafa2",
   "metadata": {},
   "outputs": [
    {
     "data": {
      "text/html": [
       "<div>\n",
       "<style scoped>\n",
       "    .dataframe tbody tr th:only-of-type {\n",
       "        vertical-align: middle;\n",
       "    }\n",
       "\n",
       "    .dataframe tbody tr th {\n",
       "        vertical-align: top;\n",
       "    }\n",
       "\n",
       "    .dataframe thead th {\n",
       "        text-align: right;\n",
       "    }\n",
       "</style>\n",
       "<table border=\"1\" class=\"dataframe\">\n",
       "  <thead>\n",
       "    <tr style=\"text-align: right;\">\n",
       "      <th></th>\n",
       "      <th>bwt</th>\n",
       "      <th>gestation</th>\n",
       "      <th>parity</th>\n",
       "      <th>age</th>\n",
       "      <th>height</th>\n",
       "      <th>weight</th>\n",
       "      <th>smoke</th>\n",
       "    </tr>\n",
       "  </thead>\n",
       "  <tbody>\n",
       "    <tr>\n",
       "      <th>378</th>\n",
       "      <td>146</td>\n",
       "      <td>263.0</td>\n",
       "      <td>No</td>\n",
       "      <td>39.0</td>\n",
       "      <td>53.0</td>\n",
       "      <td>110.0</td>\n",
       "      <td>Yes</td>\n",
       "    </tr>\n",
       "    <tr>\n",
       "      <th>1062</th>\n",
       "      <td>141</td>\n",
       "      <td>281.0</td>\n",
       "      <td>No</td>\n",
       "      <td>29.0</td>\n",
       "      <td>54.0</td>\n",
       "      <td>156.0</td>\n",
       "      <td>Yes</td>\n",
       "    </tr>\n",
       "  </tbody>\n",
       "</table>\n",
       "</div>"
      ],
      "text/plain": [
       "      bwt  gestation parity   age  height  weight smoke\n",
       "378   146      263.0     No  39.0    53.0   110.0   Yes\n",
       "1062  141      281.0     No  29.0    54.0   156.0   Yes"
      ]
     },
     "execution_count": 170,
     "metadata": {},
     "output_type": "execute_result"
    }
   ],
   "source": [
    "## what values can we find at these index locations?\n",
    "\n",
    "df2.iloc[[378, 1062]]"
   ]
  },
  {
   "cell_type": "code",
   "execution_count": 171,
   "id": "e3818b75",
   "metadata": {},
   "outputs": [
    {
     "name": "stdout",
     "output_type": "stream",
     "text": [
      "(1084, 7)\n"
     ]
    }
   ],
   "source": [
    "## Drop rows with above index values\n",
    "df2 = df2.drop(iqr_outliers)\n",
    "\n",
    "## Re-check the shape of the dataframe, how many rows were dropped?\n",
    "print(df2.shape)"
   ]
  },
  {
   "cell_type": "code",
   "execution_count": 172,
   "id": "4d3a0744",
   "metadata": {},
   "outputs": [
    {
     "name": "stdout",
     "output_type": "stream",
     "text": [
      "Q1: 114.0\n",
      "Q3: 137.0\n"
     ]
    }
   ],
   "source": [
    "## Calculate quartiles\n",
    "q1 = df2[\"weight\"].quantile(.25)\n",
    "q3 = df2[\"weight\"].quantile(.75)\n",
    "\n",
    "print(\"Q1:\", q1)\n",
    "print(\"Q3:\", q3)"
   ]
  },
  {
   "cell_type": "code",
   "execution_count": 173,
   "id": "8f8ef6c7",
   "metadata": {},
   "outputs": [
    {
     "name": "stdout",
     "output_type": "stream",
     "text": [
      "IQR: 23.0\n"
     ]
    }
   ],
   "source": [
    "## Calculate the IQR\n",
    "iqr = q3 - q1\n",
    "\n",
    "print(\"IQR:\", iqr)"
   ]
  },
  {
   "cell_type": "code",
   "execution_count": 174,
   "id": "4cf2807c",
   "metadata": {},
   "outputs": [
    {
     "name": "stdout",
     "output_type": "stream",
     "text": [
      "Upper Limit: 171.5\n",
      "Lower Limit: 79.5\n"
     ]
    }
   ],
   "source": [
    "## Determine outlier fences \n",
    "top = q3 + (iqr * 1.5)\n",
    "bottom = q1 - (iqr * 1.5)\n",
    "\n",
    "\n",
    "print(\"Upper Limit:\", top)\n",
    "print(\"Lower Limit:\", bottom)"
   ]
  },
  {
   "cell_type": "code",
   "execution_count": 175,
   "id": "37c7cd32",
   "metadata": {},
   "outputs": [],
   "source": [
    "df2 = df2.reset_index(drop = True)"
   ]
  },
  {
   "cell_type": "code",
   "execution_count": 176,
   "id": "6dc74bad",
   "metadata": {},
   "outputs": [
    {
     "name": "stdout",
     "output_type": "stream",
     "text": [
      "INDEX VALUES: Int64Index([   2,   10,   17,   19,   23,   36,   78,  101,  108,  129,  131,\n",
      "             140,  157,  158,  160,  189,  244,  266,  269,  298,  357,  372,\n",
      "             398,  441,  443,  453,  457,  490,  521,  533,  547,  610,  611,\n",
      "             633,  642,  743,  752,  753,  759,  778,  800,  811,  821,  888,\n",
      "            1016, 1029, 1064, 1081],\n",
      "           dtype='int64')\n"
     ]
    }
   ],
   "source": [
    "## Determine the index locations for rows that fall outside of outlier fences\n",
    "\n",
    "iqr_outliers = df2.loc[(df2['weight'] > top) | (df2['weight'] < bottom)].index\n",
    "\n",
    "print(\"INDEX VALUES:\", iqr_outliers)"
   ]
  },
  {
   "cell_type": "code",
   "execution_count": 177,
   "id": "dce67707",
   "metadata": {},
   "outputs": [
    {
     "data": {
      "text/html": [
       "<div>\n",
       "<style scoped>\n",
       "    .dataframe tbody tr th:only-of-type {\n",
       "        vertical-align: middle;\n",
       "    }\n",
       "\n",
       "    .dataframe tbody tr th {\n",
       "        vertical-align: top;\n",
       "    }\n",
       "\n",
       "    .dataframe thead th {\n",
       "        text-align: right;\n",
       "    }\n",
       "</style>\n",
       "<table border=\"1\" class=\"dataframe\">\n",
       "  <thead>\n",
       "    <tr style=\"text-align: right;\">\n",
       "      <th></th>\n",
       "      <th>bwt</th>\n",
       "      <th>gestation</th>\n",
       "      <th>parity</th>\n",
       "      <th>age</th>\n",
       "      <th>height</th>\n",
       "      <th>weight</th>\n",
       "      <th>smoke</th>\n",
       "    </tr>\n",
       "  </thead>\n",
       "  <tbody>\n",
       "    <tr>\n",
       "      <th>2</th>\n",
       "      <td>128</td>\n",
       "      <td>279.0</td>\n",
       "      <td>No</td>\n",
       "      <td>28.0</td>\n",
       "      <td>64.0</td>\n",
       "      <td>77.0</td>\n",
       "      <td>Yes</td>\n",
       "    </tr>\n",
       "    <tr>\n",
       "      <th>10</th>\n",
       "      <td>114</td>\n",
       "      <td>273.0</td>\n",
       "      <td>No</td>\n",
       "      <td>30.0</td>\n",
       "      <td>63.0</td>\n",
       "      <td>498.0</td>\n",
       "      <td>No</td>\n",
       "    </tr>\n",
       "    <tr>\n",
       "      <th>17</th>\n",
       "      <td>115</td>\n",
       "      <td>274.0</td>\n",
       "      <td>No</td>\n",
       "      <td>27.0</td>\n",
       "      <td>67.0</td>\n",
       "      <td>175.0</td>\n",
       "      <td>Yes</td>\n",
       "    </tr>\n",
       "    <tr>\n",
       "      <th>19</th>\n",
       "      <td>122</td>\n",
       "      <td>276.0</td>\n",
       "      <td>No</td>\n",
       "      <td>30.0</td>\n",
       "      <td>68.0</td>\n",
       "      <td>182.0</td>\n",
       "      <td>No</td>\n",
       "    </tr>\n",
       "    <tr>\n",
       "      <th>23</th>\n",
       "      <td>114</td>\n",
       "      <td>266.0</td>\n",
       "      <td>No</td>\n",
       "      <td>20.0</td>\n",
       "      <td>65.0</td>\n",
       "      <td>175.0</td>\n",
       "      <td>Yes</td>\n",
       "    </tr>\n",
       "    <tr>\n",
       "      <th>36</th>\n",
       "      <td>110</td>\n",
       "      <td>278.0</td>\n",
       "      <td>No</td>\n",
       "      <td>23.0</td>\n",
       "      <td>63.0</td>\n",
       "      <td>177.0</td>\n",
       "      <td>No</td>\n",
       "    </tr>\n",
       "    <tr>\n",
       "      <th>78</th>\n",
       "      <td>125</td>\n",
       "      <td>305.0</td>\n",
       "      <td>No</td>\n",
       "      <td>22.0</td>\n",
       "      <td>70.0</td>\n",
       "      <td>196.0</td>\n",
       "      <td>Yes</td>\n",
       "    </tr>\n",
       "    <tr>\n",
       "      <th>101</th>\n",
       "      <td>131</td>\n",
       "      <td>283.0</td>\n",
       "      <td>No</td>\n",
       "      <td>25.0</td>\n",
       "      <td>67.0</td>\n",
       "      <td>215.0</td>\n",
       "      <td>No</td>\n",
       "    </tr>\n",
       "    <tr>\n",
       "      <th>108</th>\n",
       "      <td>115</td>\n",
       "      <td>283.0</td>\n",
       "      <td>No</td>\n",
       "      <td>25.0</td>\n",
       "      <td>61.0</td>\n",
       "      <td>1500.0</td>\n",
       "      <td>Yes</td>\n",
       "    </tr>\n",
       "    <tr>\n",
       "      <th>129</th>\n",
       "      <td>160</td>\n",
       "      <td>300.0</td>\n",
       "      <td>No</td>\n",
       "      <td>29.0</td>\n",
       "      <td>71.0</td>\n",
       "      <td>175.0</td>\n",
       "      <td>Yes</td>\n",
       "    </tr>\n",
       "    <tr>\n",
       "      <th>131</th>\n",
       "      <td>126</td>\n",
       "      <td>282.0</td>\n",
       "      <td>No</td>\n",
       "      <td>38.0</td>\n",
       "      <td>66.0</td>\n",
       "      <td>250.0</td>\n",
       "      <td>No</td>\n",
       "    </tr>\n",
       "    <tr>\n",
       "      <th>140</th>\n",
       "      <td>125</td>\n",
       "      <td>262.0</td>\n",
       "      <td>No</td>\n",
       "      <td>36.0</td>\n",
       "      <td>66.0</td>\n",
       "      <td>190.0</td>\n",
       "      <td>No</td>\n",
       "    </tr>\n",
       "    <tr>\n",
       "      <th>157</th>\n",
       "      <td>136</td>\n",
       "      <td>285.0</td>\n",
       "      <td>No</td>\n",
       "      <td>23.0</td>\n",
       "      <td>62.0</td>\n",
       "      <td>175.0</td>\n",
       "      <td>No</td>\n",
       "    </tr>\n",
       "    <tr>\n",
       "      <th>158</th>\n",
       "      <td>113</td>\n",
       "      <td>277.0</td>\n",
       "      <td>No</td>\n",
       "      <td>23.0</td>\n",
       "      <td>65.0</td>\n",
       "      <td>192.0</td>\n",
       "      <td>Yes</td>\n",
       "    </tr>\n",
       "    <tr>\n",
       "      <th>160</th>\n",
       "      <td>124</td>\n",
       "      <td>277.0</td>\n",
       "      <td>No</td>\n",
       "      <td>29.0</td>\n",
       "      <td>63.0</td>\n",
       "      <td>220.0</td>\n",
       "      <td>No</td>\n",
       "    </tr>\n",
       "    <tr>\n",
       "      <th>189</th>\n",
       "      <td>119</td>\n",
       "      <td>286.0</td>\n",
       "      <td>No</td>\n",
       "      <td>20.0</td>\n",
       "      <td>64.0</td>\n",
       "      <td>180.0</td>\n",
       "      <td>No</td>\n",
       "    </tr>\n",
       "    <tr>\n",
       "      <th>244</th>\n",
       "      <td>148</td>\n",
       "      <td>279.0</td>\n",
       "      <td>No</td>\n",
       "      <td>27.0</td>\n",
       "      <td>71.0</td>\n",
       "      <td>189.0</td>\n",
       "      <td>No</td>\n",
       "    </tr>\n",
       "    <tr>\n",
       "      <th>266</th>\n",
       "      <td>124</td>\n",
       "      <td>292.0</td>\n",
       "      <td>No</td>\n",
       "      <td>29.0</td>\n",
       "      <td>68.0</td>\n",
       "      <td>176.0</td>\n",
       "      <td>Yes</td>\n",
       "    </tr>\n",
       "    <tr>\n",
       "      <th>269</th>\n",
       "      <td>100</td>\n",
       "      <td>277.0</td>\n",
       "      <td>No</td>\n",
       "      <td>31.0</td>\n",
       "      <td>62.0</td>\n",
       "      <td>355.0</td>\n",
       "      <td>Yes</td>\n",
       "    </tr>\n",
       "    <tr>\n",
       "      <th>298</th>\n",
       "      <td>105</td>\n",
       "      <td>276.0</td>\n",
       "      <td>No</td>\n",
       "      <td>22.0</td>\n",
       "      <td>67.0</td>\n",
       "      <td>845.0</td>\n",
       "      <td>No</td>\n",
       "    </tr>\n",
       "    <tr>\n",
       "      <th>357</th>\n",
       "      <td>116</td>\n",
       "      <td>276.0</td>\n",
       "      <td>No</td>\n",
       "      <td>33.0</td>\n",
       "      <td>61.0</td>\n",
       "      <td>180.0</td>\n",
       "      <td>No</td>\n",
       "    </tr>\n",
       "    <tr>\n",
       "      <th>372</th>\n",
       "      <td>140</td>\n",
       "      <td>251.0</td>\n",
       "      <td>No</td>\n",
       "      <td>28.0</td>\n",
       "      <td>63.0</td>\n",
       "      <td>210.0</td>\n",
       "      <td>No</td>\n",
       "    </tr>\n",
       "    <tr>\n",
       "      <th>398</th>\n",
       "      <td>85</td>\n",
       "      <td>258.0</td>\n",
       "      <td>No</td>\n",
       "      <td>41.0</td>\n",
       "      <td>67.0</td>\n",
       "      <td>399.0</td>\n",
       "      <td>No</td>\n",
       "    </tr>\n",
       "    <tr>\n",
       "      <th>441</th>\n",
       "      <td>119</td>\n",
       "      <td>271.0</td>\n",
       "      <td>No</td>\n",
       "      <td>28.0</td>\n",
       "      <td>64.0</td>\n",
       "      <td>175.0</td>\n",
       "      <td>Yes</td>\n",
       "    </tr>\n",
       "    <tr>\n",
       "      <th>443</th>\n",
       "      <td>131</td>\n",
       "      <td>263.0</td>\n",
       "      <td>No</td>\n",
       "      <td>29.0</td>\n",
       "      <td>64.0</td>\n",
       "      <td>180.0</td>\n",
       "      <td>Yes</td>\n",
       "    </tr>\n",
       "    <tr>\n",
       "      <th>453</th>\n",
       "      <td>132</td>\n",
       "      <td>282.0</td>\n",
       "      <td>No</td>\n",
       "      <td>28.0</td>\n",
       "      <td>67.0</td>\n",
       "      <td>200.0</td>\n",
       "      <td>Yes</td>\n",
       "    </tr>\n",
       "    <tr>\n",
       "      <th>457</th>\n",
       "      <td>114</td>\n",
       "      <td>293.0</td>\n",
       "      <td>Yes</td>\n",
       "      <td>20.0</td>\n",
       "      <td>66.0</td>\n",
       "      <td>180.0</td>\n",
       "      <td>Yes</td>\n",
       "    </tr>\n",
       "    <tr>\n",
       "      <th>490</th>\n",
       "      <td>105</td>\n",
       "      <td>260.0</td>\n",
       "      <td>No</td>\n",
       "      <td>23.0</td>\n",
       "      <td>64.0</td>\n",
       "      <td>197.0</td>\n",
       "      <td>No</td>\n",
       "    </tr>\n",
       "    <tr>\n",
       "      <th>521</th>\n",
       "      <td>104</td>\n",
       "      <td>270.0</td>\n",
       "      <td>No</td>\n",
       "      <td>25.0</td>\n",
       "      <td>61.0</td>\n",
       "      <td>511.0</td>\n",
       "      <td>No</td>\n",
       "    </tr>\n",
       "    <tr>\n",
       "      <th>533</th>\n",
       "      <td>115</td>\n",
       "      <td>273.0</td>\n",
       "      <td>Yes</td>\n",
       "      <td>23.0</td>\n",
       "      <td>67.0</td>\n",
       "      <td>215.0</td>\n",
       "      <td>Yes</td>\n",
       "    </tr>\n",
       "    <tr>\n",
       "      <th>547</th>\n",
       "      <td>91</td>\n",
       "      <td>248.0</td>\n",
       "      <td>No</td>\n",
       "      <td>33.0</td>\n",
       "      <td>63.0</td>\n",
       "      <td>202.0</td>\n",
       "      <td>No</td>\n",
       "    </tr>\n",
       "    <tr>\n",
       "      <th>610</th>\n",
       "      <td>150</td>\n",
       "      <td>286.0</td>\n",
       "      <td>No</td>\n",
       "      <td>38.0</td>\n",
       "      <td>67.0</td>\n",
       "      <td>175.0</td>\n",
       "      <td>No</td>\n",
       "    </tr>\n",
       "    <tr>\n",
       "      <th>611</th>\n",
       "      <td>86</td>\n",
       "      <td>284.0</td>\n",
       "      <td>No</td>\n",
       "      <td>39.0</td>\n",
       "      <td>65.0</td>\n",
       "      <td>174.0</td>\n",
       "      <td>Yes</td>\n",
       "    </tr>\n",
       "    <tr>\n",
       "      <th>633</th>\n",
       "      <td>116</td>\n",
       "      <td>280.0</td>\n",
       "      <td>No</td>\n",
       "      <td>34.0</td>\n",
       "      <td>68.0</td>\n",
       "      <td>198.0</td>\n",
       "      <td>No</td>\n",
       "    </tr>\n",
       "    <tr>\n",
       "      <th>642</th>\n",
       "      <td>84</td>\n",
       "      <td>279.0</td>\n",
       "      <td>No</td>\n",
       "      <td>34.0</td>\n",
       "      <td>63.0</td>\n",
       "      <td>190.0</td>\n",
       "      <td>No</td>\n",
       "    </tr>\n",
       "    <tr>\n",
       "      <th>743</th>\n",
       "      <td>160</td>\n",
       "      <td>271.0</td>\n",
       "      <td>No</td>\n",
       "      <td>32.0</td>\n",
       "      <td>67.0</td>\n",
       "      <td>215.0</td>\n",
       "      <td>No</td>\n",
       "    </tr>\n",
       "    <tr>\n",
       "      <th>752</th>\n",
       "      <td>136</td>\n",
       "      <td>291.0</td>\n",
       "      <td>No</td>\n",
       "      <td>41.0</td>\n",
       "      <td>66.0</td>\n",
       "      <td>191.0</td>\n",
       "      <td>No</td>\n",
       "    </tr>\n",
       "    <tr>\n",
       "      <th>753</th>\n",
       "      <td>119</td>\n",
       "      <td>286.0</td>\n",
       "      <td>No</td>\n",
       "      <td>22.0</td>\n",
       "      <td>63.0</td>\n",
       "      <td>185.0</td>\n",
       "      <td>Yes</td>\n",
       "    </tr>\n",
       "    <tr>\n",
       "      <th>759</th>\n",
       "      <td>122</td>\n",
       "      <td>273.0</td>\n",
       "      <td>No</td>\n",
       "      <td>26.0</td>\n",
       "      <td>66.0</td>\n",
       "      <td>210.0</td>\n",
       "      <td>No</td>\n",
       "    </tr>\n",
       "    <tr>\n",
       "      <th>778</th>\n",
       "      <td>125</td>\n",
       "      <td>301.0</td>\n",
       "      <td>Yes</td>\n",
       "      <td>35.0</td>\n",
       "      <td>68.0</td>\n",
       "      <td>181.0</td>\n",
       "      <td>No</td>\n",
       "    </tr>\n",
       "    <tr>\n",
       "      <th>800</th>\n",
       "      <td>138</td>\n",
       "      <td>280.0</td>\n",
       "      <td>Yes</td>\n",
       "      <td>30.0</td>\n",
       "      <td>65.0</td>\n",
       "      <td>478.0</td>\n",
       "      <td>No</td>\n",
       "    </tr>\n",
       "    <tr>\n",
       "      <th>811</th>\n",
       "      <td>136</td>\n",
       "      <td>288.0</td>\n",
       "      <td>No</td>\n",
       "      <td>23.0</td>\n",
       "      <td>62.0</td>\n",
       "      <td>217.0</td>\n",
       "      <td>No</td>\n",
       "    </tr>\n",
       "    <tr>\n",
       "      <th>821</th>\n",
       "      <td>97</td>\n",
       "      <td>279.0</td>\n",
       "      <td>No</td>\n",
       "      <td>29.0</td>\n",
       "      <td>68.0</td>\n",
       "      <td>178.0</td>\n",
       "      <td>Yes</td>\n",
       "    </tr>\n",
       "    <tr>\n",
       "      <th>888</th>\n",
       "      <td>143</td>\n",
       "      <td>285.0</td>\n",
       "      <td>No</td>\n",
       "      <td>27.0</td>\n",
       "      <td>68.0</td>\n",
       "      <td>185.0</td>\n",
       "      <td>No</td>\n",
       "    </tr>\n",
       "    <tr>\n",
       "      <th>1016</th>\n",
       "      <td>117</td>\n",
       "      <td>284.0</td>\n",
       "      <td>No</td>\n",
       "      <td>25.0</td>\n",
       "      <td>66.0</td>\n",
       "      <td>177.0</td>\n",
       "      <td>Yes</td>\n",
       "    </tr>\n",
       "    <tr>\n",
       "      <th>1029</th>\n",
       "      <td>104</td>\n",
       "      <td>267.0</td>\n",
       "      <td>No</td>\n",
       "      <td>30.0</td>\n",
       "      <td>63.0</td>\n",
       "      <td>180.0</td>\n",
       "      <td>No</td>\n",
       "    </tr>\n",
       "    <tr>\n",
       "      <th>1064</th>\n",
       "      <td>138</td>\n",
       "      <td>286.0</td>\n",
       "      <td>Yes</td>\n",
       "      <td>28.0</td>\n",
       "      <td>68.0</td>\n",
       "      <td>27.0</td>\n",
       "      <td>No</td>\n",
       "    </tr>\n",
       "    <tr>\n",
       "      <th>1081</th>\n",
       "      <td>130</td>\n",
       "      <td>291.0</td>\n",
       "      <td>No</td>\n",
       "      <td>30.0</td>\n",
       "      <td>65.0</td>\n",
       "      <td>67.0</td>\n",
       "      <td>Yes</td>\n",
       "    </tr>\n",
       "  </tbody>\n",
       "</table>\n",
       "</div>"
      ],
      "text/plain": [
       "      bwt  gestation parity   age  height  weight smoke\n",
       "2     128      279.0     No  28.0    64.0    77.0   Yes\n",
       "10    114      273.0     No  30.0    63.0   498.0    No\n",
       "17    115      274.0     No  27.0    67.0   175.0   Yes\n",
       "19    122      276.0     No  30.0    68.0   182.0    No\n",
       "23    114      266.0     No  20.0    65.0   175.0   Yes\n",
       "36    110      278.0     No  23.0    63.0   177.0    No\n",
       "78    125      305.0     No  22.0    70.0   196.0   Yes\n",
       "101   131      283.0     No  25.0    67.0   215.0    No\n",
       "108   115      283.0     No  25.0    61.0  1500.0   Yes\n",
       "129   160      300.0     No  29.0    71.0   175.0   Yes\n",
       "131   126      282.0     No  38.0    66.0   250.0    No\n",
       "140   125      262.0     No  36.0    66.0   190.0    No\n",
       "157   136      285.0     No  23.0    62.0   175.0    No\n",
       "158   113      277.0     No  23.0    65.0   192.0   Yes\n",
       "160   124      277.0     No  29.0    63.0   220.0    No\n",
       "189   119      286.0     No  20.0    64.0   180.0    No\n",
       "244   148      279.0     No  27.0    71.0   189.0    No\n",
       "266   124      292.0     No  29.0    68.0   176.0   Yes\n",
       "269   100      277.0     No  31.0    62.0   355.0   Yes\n",
       "298   105      276.0     No  22.0    67.0   845.0    No\n",
       "357   116      276.0     No  33.0    61.0   180.0    No\n",
       "372   140      251.0     No  28.0    63.0   210.0    No\n",
       "398    85      258.0     No  41.0    67.0   399.0    No\n",
       "441   119      271.0     No  28.0    64.0   175.0   Yes\n",
       "443   131      263.0     No  29.0    64.0   180.0   Yes\n",
       "453   132      282.0     No  28.0    67.0   200.0   Yes\n",
       "457   114      293.0    Yes  20.0    66.0   180.0   Yes\n",
       "490   105      260.0     No  23.0    64.0   197.0    No\n",
       "521   104      270.0     No  25.0    61.0   511.0    No\n",
       "533   115      273.0    Yes  23.0    67.0   215.0   Yes\n",
       "547    91      248.0     No  33.0    63.0   202.0    No\n",
       "610   150      286.0     No  38.0    67.0   175.0    No\n",
       "611    86      284.0     No  39.0    65.0   174.0   Yes\n",
       "633   116      280.0     No  34.0    68.0   198.0    No\n",
       "642    84      279.0     No  34.0    63.0   190.0    No\n",
       "743   160      271.0     No  32.0    67.0   215.0    No\n",
       "752   136      291.0     No  41.0    66.0   191.0    No\n",
       "753   119      286.0     No  22.0    63.0   185.0   Yes\n",
       "759   122      273.0     No  26.0    66.0   210.0    No\n",
       "778   125      301.0    Yes  35.0    68.0   181.0    No\n",
       "800   138      280.0    Yes  30.0    65.0   478.0    No\n",
       "811   136      288.0     No  23.0    62.0   217.0    No\n",
       "821    97      279.0     No  29.0    68.0   178.0   Yes\n",
       "888   143      285.0     No  27.0    68.0   185.0    No\n",
       "1016  117      284.0     No  25.0    66.0   177.0   Yes\n",
       "1029  104      267.0     No  30.0    63.0   180.0    No\n",
       "1064  138      286.0    Yes  28.0    68.0    27.0    No\n",
       "1081  130      291.0     No  30.0    65.0    67.0   Yes"
      ]
     },
     "execution_count": 177,
     "metadata": {},
     "output_type": "execute_result"
    }
   ],
   "source": [
    "## what values can we find at these index locations?\n",
    "\n",
    "df2.iloc[[2,   10,   17,   19,   23,   36,   78,  101,  108,  129,  131,\n",
    "             140,  157,  158,  160,  189,  244,  266,  269,  298,  357,  372,\n",
    "             398,  441,  443,  453,  457,  490,  521,  533,  547,  610,  611,\n",
    "             633,  642,  743,  752,  753,  759,  778,  800,  811,  821,  888,\n",
    "            1016, 1029, 1064, 1081]]"
   ]
  },
  {
   "cell_type": "code",
   "execution_count": 178,
   "id": "72e34984",
   "metadata": {},
   "outputs": [
    {
     "name": "stdout",
     "output_type": "stream",
     "text": [
      "(1036, 7)\n"
     ]
    }
   ],
   "source": [
    "## Drop rows with above index values\n",
    "df2 = df2.drop(iqr_outliers)\n",
    "\n",
    "## Re-check the shape of the dataframe, how many rows were dropped?\n",
    "print(df2.shape)"
   ]
  },
  {
   "cell_type": "code",
   "execution_count": 179,
   "id": "8b92ed82",
   "metadata": {},
   "outputs": [
    {
     "name": "stdout",
     "output_type": "stream",
     "text": [
      "<class 'pandas.core.frame.DataFrame'>\n",
      "Int64Index: 1036 entries, 0 to 1083\n",
      "Data columns (total 7 columns):\n",
      " #   Column     Non-Null Count  Dtype  \n",
      "---  ------     --------------  -----  \n",
      " 0   bwt        1036 non-null   int64  \n",
      " 1   gestation  1036 non-null   float64\n",
      " 2   parity     1036 non-null   object \n",
      " 3   age        1036 non-null   float64\n",
      " 4   height     1036 non-null   float64\n",
      " 5   weight     1036 non-null   float64\n",
      " 6   smoke      1036 non-null   object \n",
      "dtypes: float64(4), int64(1), object(2)\n",
      "memory usage: 64.8+ KB\n"
     ]
    }
   ],
   "source": [
    "df2.info()"
   ]
  },
  {
   "cell_type": "code",
   "execution_count": 180,
   "id": "8438a1d8",
   "metadata": {},
   "outputs": [
    {
     "data": {
      "text/html": [
       "<div>\n",
       "<style scoped>\n",
       "    .dataframe tbody tr th:only-of-type {\n",
       "        vertical-align: middle;\n",
       "    }\n",
       "\n",
       "    .dataframe tbody tr th {\n",
       "        vertical-align: top;\n",
       "    }\n",
       "\n",
       "    .dataframe thead th {\n",
       "        text-align: right;\n",
       "    }\n",
       "</style>\n",
       "<table border=\"1\" class=\"dataframe\">\n",
       "  <thead>\n",
       "    <tr style=\"text-align: right;\">\n",
       "      <th></th>\n",
       "      <th>bwt</th>\n",
       "      <th>gestation</th>\n",
       "      <th>age</th>\n",
       "      <th>height</th>\n",
       "      <th>weight</th>\n",
       "    </tr>\n",
       "  </thead>\n",
       "  <tbody>\n",
       "    <tr>\n",
       "      <th>count</th>\n",
       "      <td>1036.000000</td>\n",
       "      <td>1036.000000</td>\n",
       "      <td>1036.000000</td>\n",
       "      <td>1036.000000</td>\n",
       "      <td>1036.000000</td>\n",
       "    </tr>\n",
       "    <tr>\n",
       "      <th>mean</th>\n",
       "      <td>120.175676</td>\n",
       "      <td>279.984556</td>\n",
       "      <td>27.159266</td>\n",
       "      <td>64.009653</td>\n",
       "      <td>125.656371</td>\n",
       "    </tr>\n",
       "    <tr>\n",
       "      <th>std</th>\n",
       "      <td>16.404372</td>\n",
       "      <td>11.396404</td>\n",
       "      <td>5.723814</td>\n",
       "      <td>2.481215</td>\n",
       "      <td>16.581046</td>\n",
       "    </tr>\n",
       "    <tr>\n",
       "      <th>min</th>\n",
       "      <td>75.000000</td>\n",
       "      <td>248.000000</td>\n",
       "      <td>15.000000</td>\n",
       "      <td>56.000000</td>\n",
       "      <td>81.000000</td>\n",
       "    </tr>\n",
       "    <tr>\n",
       "      <th>25%</th>\n",
       "      <td>109.750000</td>\n",
       "      <td>273.000000</td>\n",
       "      <td>23.000000</td>\n",
       "      <td>62.000000</td>\n",
       "      <td>113.000000</td>\n",
       "    </tr>\n",
       "    <tr>\n",
       "      <th>50%</th>\n",
       "      <td>120.000000</td>\n",
       "      <td>280.000000</td>\n",
       "      <td>26.000000</td>\n",
       "      <td>64.000000</td>\n",
       "      <td>125.000000</td>\n",
       "    </tr>\n",
       "    <tr>\n",
       "      <th>75%</th>\n",
       "      <td>131.000000</td>\n",
       "      <td>288.000000</td>\n",
       "      <td>31.000000</td>\n",
       "      <td>66.000000</td>\n",
       "      <td>135.000000</td>\n",
       "    </tr>\n",
       "    <tr>\n",
       "      <th>max</th>\n",
       "      <td>165.000000</td>\n",
       "      <td>312.000000</td>\n",
       "      <td>43.000000</td>\n",
       "      <td>72.000000</td>\n",
       "      <td>171.000000</td>\n",
       "    </tr>\n",
       "  </tbody>\n",
       "</table>\n",
       "</div>"
      ],
      "text/plain": [
       "               bwt    gestation          age       height       weight\n",
       "count  1036.000000  1036.000000  1036.000000  1036.000000  1036.000000\n",
       "mean    120.175676   279.984556    27.159266    64.009653   125.656371\n",
       "std      16.404372    11.396404     5.723814     2.481215    16.581046\n",
       "min      75.000000   248.000000    15.000000    56.000000    81.000000\n",
       "25%     109.750000   273.000000    23.000000    62.000000   113.000000\n",
       "50%     120.000000   280.000000    26.000000    64.000000   125.000000\n",
       "75%     131.000000   288.000000    31.000000    66.000000   135.000000\n",
       "max     165.000000   312.000000    43.000000    72.000000   171.000000"
      ]
     },
     "execution_count": 180,
     "metadata": {},
     "output_type": "execute_result"
    }
   ],
   "source": [
    "df2.describe()"
   ]
  },
  {
   "cell_type": "markdown",
   "id": "92b59a17",
   "metadata": {},
   "source": [
    "7. Describe the characteristics of your qualitative variables by doing the following:\n",
    "\n",
    "    * Determine the frequencies of each group within each categorical variable. Which groups have the highest frequency?\n",
    "    * Determine the relative frequencies of each group within each categorical variable. Which groups have the highest relative frequencies?\n",
    "    * Create a crosstab table using both the categorical variables in your dataset. How many mothers are smokers who have been pregnant before?"
   ]
  },
  {
   "cell_type": "code",
   "execution_count": 191,
   "id": "7eb04c0b",
   "metadata": {},
   "outputs": [
    {
     "data": {
      "text/plain": [
       "117    31\n",
       "120    30\n",
       "115    30\n",
       "129    30\n",
       "125    26\n",
       "       ..\n",
       "151     1\n",
       "89      1\n",
       "159     1\n",
       "157     1\n",
       "79      1\n",
       "Name: bwt, Length: 89, dtype: int64"
      ]
     },
     "execution_count": 191,
     "metadata": {},
     "output_type": "execute_result"
    }
   ],
   "source": [
    "## Frequencies \n",
    "\n",
    "df2[\"bwt\"].value_counts()"
   ]
  },
  {
   "cell_type": "code",
   "execution_count": 192,
   "id": "371d5497",
   "metadata": {},
   "outputs": [
    {
     "data": {
      "text/plain": [
       "282.0    45\n",
       "278.0    41\n",
       "275.0    38\n",
       "280.0    37\n",
       "281.0    37\n",
       "         ..\n",
       "312.0     2\n",
       "263.0     1\n",
       "309.0     1\n",
       "253.0     1\n",
       "311.0     1\n",
       "Name: gestation, Length: 64, dtype: int64"
      ]
     },
     "execution_count": 192,
     "metadata": {},
     "output_type": "execute_result"
    }
   ],
   "source": [
    "## Frequencies \n",
    "\n",
    "df2[\"gestation\"].value_counts()"
   ]
  },
  {
   "cell_type": "code",
   "execution_count": 188,
   "id": "0c065588",
   "metadata": {},
   "outputs": [
    {
     "data": {
      "text/plain": [
       "23.0    90\n",
       "24.0    83\n",
       "26.0    82\n",
       "27.0    80\n",
       "22.0    77\n",
       "25.0    75\n",
       "21.0    65\n",
       "28.0    64\n",
       "29.0    61\n",
       "30.0    61\n",
       "20.0    57\n",
       "19.0    49\n",
       "33.0    42\n",
       "31.0    41\n",
       "32.0    36\n",
       "34.0    31\n",
       "35.0    29\n",
       "37.0    27\n",
       "36.0    24\n",
       "39.0    22\n",
       "38.0    18\n",
       "18.0    15\n",
       "41.0    14\n",
       "40.0    11\n",
       "17.0     7\n",
       "43.0     6\n",
       "42.0     4\n",
       "15.0     1\n",
       "44.0     1\n",
       "45.0     1\n",
       "Name: age, dtype: int64"
      ]
     },
     "execution_count": 188,
     "metadata": {},
     "output_type": "execute_result"
    }
   ],
   "source": [
    "## Frequencies \n",
    "\n",
    "df[\"age\"].value_counts()"
   ]
  },
  {
   "cell_type": "code",
   "execution_count": 193,
   "id": "9cd037cb",
   "metadata": {},
   "outputs": [
    {
     "data": {
      "text/plain": [
       "65.0    159\n",
       "64.0    157\n",
       "63.0    141\n",
       "66.0    132\n",
       "62.0    116\n",
       "61.0     87\n",
       "67.0     85\n",
       "60.0     53\n",
       "68.0     40\n",
       "59.0     22\n",
       "69.0     18\n",
       "70.0     12\n",
       "58.0      8\n",
       "71.0      3\n",
       "56.0      1\n",
       "72.0      1\n",
       "57.0      1\n",
       "Name: height, dtype: int64"
      ]
     },
     "execution_count": 193,
     "metadata": {},
     "output_type": "execute_result"
    }
   ],
   "source": [
    "## Frequencies \n",
    "### height group/column has highest frequencies\n",
    "\n",
    "df2[\"height\"].value_counts()"
   ]
  },
  {
   "cell_type": "code",
   "execution_count": 194,
   "id": "bb90d928",
   "metadata": {},
   "outputs": [
    {
     "data": {
      "text/plain": [
       "130.0    69\n",
       "125.0    64\n",
       "110.0    53\n",
       "135.0    53\n",
       "120.0    51\n",
       "         ..\n",
       "164.0     1\n",
       "92.0      1\n",
       "152.0     1\n",
       "168.0     1\n",
       "87.0      1\n",
       "Name: weight, Length: 81, dtype: int64"
      ]
     },
     "execution_count": 194,
     "metadata": {},
     "output_type": "execute_result"
    }
   ],
   "source": [
    "## Frequencies \n",
    "\n",
    "df2[\"weight\"].value_counts()"
   ]
  },
  {
   "cell_type": "code",
   "execution_count": 195,
   "id": "58f8babc",
   "metadata": {},
   "outputs": [
    {
     "data": {
      "text/plain": [
       "117    0.029923\n",
       "120    0.028958\n",
       "115    0.028958\n",
       "129    0.028958\n",
       "125    0.025097\n",
       "         ...   \n",
       "151    0.000965\n",
       "89     0.000965\n",
       "159    0.000965\n",
       "157    0.000965\n",
       "79     0.000965\n",
       "Name: bwt, Length: 89, dtype: float64"
      ]
     },
     "execution_count": 195,
     "metadata": {},
     "output_type": "execute_result"
    }
   ],
   "source": [
    "## Relative Frequencies \n",
    "\n",
    "df2[\"bwt\"].value_counts(normalize=True)"
   ]
  },
  {
   "cell_type": "code",
   "execution_count": 196,
   "id": "6d9144af",
   "metadata": {},
   "outputs": [
    {
     "data": {
      "text/plain": [
       "282.0    0.040034\n",
       "278.0    0.035775\n",
       "277.0    0.034923\n",
       "280.0    0.034072\n",
       "281.0    0.034072\n",
       "           ...   \n",
       "233.0    0.000852\n",
       "320.0    0.000852\n",
       "239.0    0.000852\n",
       "243.0    0.000852\n",
       "321.0    0.000852\n",
       "Name: gestation, Length: 104, dtype: float64"
      ]
     },
     "execution_count": 196,
     "metadata": {},
     "output_type": "execute_result"
    }
   ],
   "source": [
    "## Relative Frequencies \n",
    "\n",
    "df[\"gestation\"].value_counts(normalize=True)"
   ]
  },
  {
   "cell_type": "code",
   "execution_count": 197,
   "id": "0a27fc3a",
   "metadata": {},
   "outputs": [
    {
     "data": {
      "text/plain": [
       "23.0    0.076661\n",
       "24.0    0.070698\n",
       "26.0    0.069847\n",
       "27.0    0.068143\n",
       "22.0    0.065588\n",
       "25.0    0.063884\n",
       "21.0    0.055366\n",
       "28.0    0.054514\n",
       "29.0    0.051959\n",
       "30.0    0.051959\n",
       "20.0    0.048552\n",
       "19.0    0.041738\n",
       "33.0    0.035775\n",
       "31.0    0.034923\n",
       "32.0    0.030664\n",
       "34.0    0.026405\n",
       "35.0    0.024702\n",
       "37.0    0.022998\n",
       "36.0    0.020443\n",
       "39.0    0.018739\n",
       "38.0    0.015332\n",
       "18.0    0.012777\n",
       "41.0    0.011925\n",
       "40.0    0.009370\n",
       "17.0    0.005963\n",
       "43.0    0.005111\n",
       "42.0    0.003407\n",
       "15.0    0.000852\n",
       "44.0    0.000852\n",
       "45.0    0.000852\n",
       "Name: age, dtype: float64"
      ]
     },
     "execution_count": 197,
     "metadata": {},
     "output_type": "execute_result"
    }
   ],
   "source": [
    "## Relative Frequencies \n",
    "\n",
    "df[\"age\"].value_counts(normalize=True)"
   ]
  },
  {
   "cell_type": "code",
   "execution_count": 198,
   "id": "cb482077",
   "metadata": {},
   "outputs": [
    {
     "data": {
      "text/plain": [
       "64.0    0.152470\n",
       "65.0    0.149915\n",
       "63.0    0.137138\n",
       "66.0    0.126065\n",
       "62.0    0.108177\n",
       "67.0    0.086882\n",
       "61.0    0.084327\n",
       "60.0    0.045997\n",
       "68.0    0.044293\n",
       "59.0    0.020443\n",
       "69.0    0.016184\n",
       "70.0    0.011073\n",
       "58.0    0.008518\n",
       "71.0    0.004259\n",
       "53.0    0.000852\n",
       "57.0    0.000852\n",
       "56.0    0.000852\n",
       "72.0    0.000852\n",
       "54.0    0.000852\n",
       "Name: height, dtype: float64"
      ]
     },
     "execution_count": 198,
     "metadata": {},
     "output_type": "execute_result"
    }
   ],
   "source": [
    "## Relative Frequencies \n",
    "### height group/column has highest relative frequencies\n",
    "df[\"height\"].value_counts(normalize=True)"
   ]
  },
  {
   "cell_type": "code",
   "execution_count": 199,
   "id": "09102eaa",
   "metadata": {},
   "outputs": [
    {
     "data": {
      "text/plain": [
       "130.0    0.064736\n",
       "125.0    0.057070\n",
       "110.0    0.051107\n",
       "135.0    0.050256\n",
       "120.0    0.045145\n",
       "           ...   \n",
       "845.0    0.000852\n",
       "399.0    0.000852\n",
       "197.0    0.000852\n",
       "171.0    0.000852\n",
       "67.0     0.000852\n",
       "Name: weight, Length: 115, dtype: float64"
      ]
     },
     "execution_count": 199,
     "metadata": {},
     "output_type": "execute_result"
    }
   ],
   "source": [
    "## Relative Frequencies \n",
    "\n",
    "df[\"weight\"].value_counts(normalize=True)"
   ]
  },
  {
   "cell_type": "code",
   "execution_count": 201,
   "id": "dccd0de3",
   "metadata": {},
   "outputs": [
    {
     "data": {
      "text/html": [
       "<div>\n",
       "<style scoped>\n",
       "    .dataframe tbody tr th:only-of-type {\n",
       "        vertical-align: middle;\n",
       "    }\n",
       "\n",
       "    .dataframe tbody tr th {\n",
       "        vertical-align: top;\n",
       "    }\n",
       "\n",
       "    .dataframe thead th {\n",
       "        text-align: right;\n",
       "    }\n",
       "</style>\n",
       "<table border=\"1\" class=\"dataframe\">\n",
       "  <thead>\n",
       "    <tr style=\"text-align: right;\">\n",
       "      <th>smoke</th>\n",
       "      <th>No</th>\n",
       "      <th>Yes</th>\n",
       "      <th>All</th>\n",
       "    </tr>\n",
       "    <tr>\n",
       "      <th>parity</th>\n",
       "      <th></th>\n",
       "      <th></th>\n",
       "      <th></th>\n",
       "    </tr>\n",
       "  </thead>\n",
       "  <tbody>\n",
       "    <tr>\n",
       "      <th>No</th>\n",
       "      <td>459</td>\n",
       "      <td>295</td>\n",
       "      <td>754</td>\n",
       "    </tr>\n",
       "    <tr>\n",
       "      <th>Yes</th>\n",
       "      <td>172</td>\n",
       "      <td>110</td>\n",
       "      <td>282</td>\n",
       "    </tr>\n",
       "    <tr>\n",
       "      <th>All</th>\n",
       "      <td>631</td>\n",
       "      <td>405</td>\n",
       "      <td>1036</td>\n",
       "    </tr>\n",
       "  </tbody>\n",
       "</table>\n",
       "</div>"
      ],
      "text/plain": [
       "smoke    No  Yes   All\n",
       "parity                \n",
       "No      459  295   754\n",
       "Yes     172  110   282\n",
       "All     631  405  1036"
      ]
     },
     "execution_count": 201,
     "metadata": {},
     "output_type": "execute_result"
    }
   ],
   "source": [
    "### 110 Mothers are smokers who have been pregnant before\n",
    "\n",
    "pd.crosstab(df2[\"parity\"], df2[\"smoke\"], margins = True, normalize = False)"
   ]
  },
  {
   "cell_type": "code",
   "execution_count": null,
   "id": "57e6ebfb",
   "metadata": {},
   "outputs": [],
   "source": []
  },
  {
   "cell_type": "markdown",
   "id": "dfac25c7",
   "metadata": {},
   "source": [
    "8. Describe the Measures of Central Tendency (mean, median, mode) of the numeric variables in the dataset. Calculate the mean, median, and mode for all 5 numeric variables. For each median and mode, describe the following:\n",
    "\n",
    "    * What does the median value tell you about the data?\n",
    "    * What does the mode value tell you about the data?"
   ]
  },
  {
   "cell_type": "code",
   "execution_count": 202,
   "id": "994afbbb",
   "metadata": {},
   "outputs": [
    {
     "data": {
      "text/plain": [
       "120.17567567567568"
      ]
     },
     "execution_count": 202,
     "metadata": {},
     "output_type": "execute_result"
    }
   ],
   "source": [
    "## Calculate the Mean of a column \n",
    "\n",
    "df2[\"bwt\"].mean()"
   ]
  },
  {
   "cell_type": "code",
   "execution_count": 203,
   "id": "aa03a550",
   "metadata": {},
   "outputs": [
    {
     "data": {
      "text/plain": [
       "120.0"
      ]
     },
     "execution_count": 203,
     "metadata": {},
     "output_type": "execute_result"
    }
   ],
   "source": [
    "## Calculate the median of a column \n",
    "### the median value is the middle value in an ordered data column\n",
    "\n",
    "df2[\"bwt\"].median()"
   ]
  },
  {
   "cell_type": "code",
   "execution_count": 204,
   "id": "93b44b46",
   "metadata": {},
   "outputs": [
    {
     "data": {
      "text/plain": [
       "0    117\n",
       "Name: bwt, dtype: int64"
      ]
     },
     "execution_count": 204,
     "metadata": {},
     "output_type": "execute_result"
    }
   ],
   "source": [
    "## Calculate the mode of a column \n",
    "### the mode value is the most frequent value in the data\n",
    "df2[\"bwt\"].mode()"
   ]
  },
  {
   "cell_type": "code",
   "execution_count": 205,
   "id": "9c007cf0",
   "metadata": {},
   "outputs": [
    {
     "data": {
      "text/plain": [
       "64.00965250965251"
      ]
     },
     "execution_count": 205,
     "metadata": {},
     "output_type": "execute_result"
    }
   ],
   "source": [
    "## Calculate the Mean of a column \n",
    "\n",
    "df2[\"height\"].mean()"
   ]
  },
  {
   "cell_type": "code",
   "execution_count": 206,
   "id": "05d99def",
   "metadata": {},
   "outputs": [
    {
     "data": {
      "text/plain": [
       "64.0"
      ]
     },
     "execution_count": 206,
     "metadata": {},
     "output_type": "execute_result"
    }
   ],
   "source": [
    "## Calculate the median of a column \n",
    "### the median value is the middle value in an ordered data column\n",
    "\n",
    "df2[\"height\"].median()"
   ]
  },
  {
   "cell_type": "code",
   "execution_count": 207,
   "id": "cf04a582",
   "metadata": {},
   "outputs": [
    {
     "data": {
      "text/plain": [
       "0    65.0\n",
       "Name: height, dtype: float64"
      ]
     },
     "execution_count": 207,
     "metadata": {},
     "output_type": "execute_result"
    }
   ],
   "source": [
    "## Calculate the mode of a column \n",
    "### the mode value is the most frequent value in the data\n",
    "df2[\"height\"].mode()"
   ]
  },
  {
   "cell_type": "code",
   "execution_count": null,
   "id": "cfb3d5c5",
   "metadata": {},
   "outputs": [],
   "source": []
  },
  {
   "cell_type": "markdown",
   "id": "6238626d",
   "metadata": {},
   "source": [
    "9. Describe the Measures of Variability of the numeric variables in the dataset. Calculate the range, standard deviation, and 85th percentile for all 5 numeric variables. Answer the following questions:\n",
    "\n",
    "    * Which column has the largest range? Which has the smallest? What does this mean?\n",
    "    * Which column has the largest standard deviation? Which has the smallest? What does this tell you about those variables?"
   ]
  },
  {
   "cell_type": "code",
   "execution_count": 208,
   "id": "6c06a803",
   "metadata": {},
   "outputs": [
    {
     "name": "stdout",
     "output_type": "stream",
     "text": [
      "90\n"
     ]
    }
   ],
   "source": [
    "## Calculate the range of values in a column\n",
    "\n",
    "hrs_range = df2['bwt'].max() - df2['bwt'].min()\n",
    "\n",
    "print(hrs_range)"
   ]
  },
  {
   "cell_type": "code",
   "execution_count": 212,
   "id": "9344830c",
   "metadata": {},
   "outputs": [
    {
     "name": "stdout",
     "output_type": "stream",
     "text": [
      "64.0\n"
     ]
    }
   ],
   "source": [
    "## Calculate the range of values in a column\n",
    "\n",
    "hrs_range = df2['gestation'].max() - df2['gestation'].min()\n",
    "\n",
    "print(hrs_range)"
   ]
  },
  {
   "cell_type": "code",
   "execution_count": 213,
   "id": "f4ec1581",
   "metadata": {},
   "outputs": [
    {
     "name": "stdout",
     "output_type": "stream",
     "text": [
      "28.0\n"
     ]
    }
   ],
   "source": [
    "## Calculate the range of values in a column\n",
    "\n",
    "hrs_range = df2['age'].max() - df2['age'].min()\n",
    "\n",
    "print(hrs_range)"
   ]
  },
  {
   "cell_type": "code",
   "execution_count": 209,
   "id": "e8fdeea7",
   "metadata": {},
   "outputs": [
    {
     "name": "stdout",
     "output_type": "stream",
     "text": [
      "16.0\n"
     ]
    }
   ],
   "source": [
    "## Calculate the range of values in a column\n",
    "### height has the smallest range\n",
    "\n",
    "hrs_range = df2['height'].max() - df2['height'].min()\n",
    "\n",
    "print(hrs_range)"
   ]
  },
  {
   "cell_type": "code",
   "execution_count": 214,
   "id": "fe3cd267",
   "metadata": {},
   "outputs": [
    {
     "name": "stdout",
     "output_type": "stream",
     "text": [
      "90.0\n"
     ]
    }
   ],
   "source": [
    "## Calculate the range of values in a column\n",
    "### weight and bwt have larger ranges of 90 meaning these values are largely distrbuted \n",
    "\n",
    "hrs_range = df2['weight'].max() - df2['weight'].min()\n",
    "\n",
    "print(hrs_range)"
   ]
  },
  {
   "cell_type": "code",
   "execution_count": 215,
   "id": "4e013e51",
   "metadata": {},
   "outputs": [
    {
     "name": "stdout",
     "output_type": "stream",
     "text": [
      "Mean bwt: 120.17567567567568\n"
     ]
    },
    {
     "data": {
      "text/plain": [
       "16.40437160501985"
      ]
     },
     "execution_count": 215,
     "metadata": {},
     "output_type": "execute_result"
    }
   ],
   "source": [
    "## Calculate the Standard Deviation of values in a column\n",
    "\n",
    "print(\"Mean bwt:\", df2[\"bwt\"].mean())\n",
    "\n",
    "df2[\"bwt\"].std()"
   ]
  },
  {
   "cell_type": "code",
   "execution_count": 216,
   "id": "f4afed71",
   "metadata": {},
   "outputs": [
    {
     "name": "stdout",
     "output_type": "stream",
     "text": [
      "Mean gestation: 279.984555984556\n"
     ]
    },
    {
     "data": {
      "text/plain": [
       "11.396403911826766"
      ]
     },
     "execution_count": 216,
     "metadata": {},
     "output_type": "execute_result"
    }
   ],
   "source": [
    "## Calculate the Standard Deviation of values in a column\n",
    "\n",
    "print(\"Mean gestation:\", df2[\"gestation\"].mean())\n",
    "\n",
    "df2[\"gestation\"].std()"
   ]
  },
  {
   "cell_type": "code",
   "execution_count": 217,
   "id": "2d7ba387",
   "metadata": {},
   "outputs": [
    {
     "name": "stdout",
     "output_type": "stream",
     "text": [
      "Mean age: 27.159266409266408\n"
     ]
    },
    {
     "data": {
      "text/plain": [
       "5.723814227977458"
      ]
     },
     "execution_count": 217,
     "metadata": {},
     "output_type": "execute_result"
    }
   ],
   "source": [
    "## Calculate the Standard Deviation of values in a column\n",
    "\n",
    "print(\"Mean age:\", df2[\"age\"].mean())\n",
    "\n",
    "df2[\"age\"].std()"
   ]
  },
  {
   "cell_type": "code",
   "execution_count": 211,
   "id": "5001ac61",
   "metadata": {},
   "outputs": [
    {
     "name": "stdout",
     "output_type": "stream",
     "text": [
      "Mean height: 64.00965250965251\n"
     ]
    },
    {
     "data": {
      "text/plain": [
       "2.481215121299967"
      ]
     },
     "execution_count": 211,
     "metadata": {},
     "output_type": "execute_result"
    }
   ],
   "source": [
    "## Calculate the Standard Deviation of values in a column\n",
    "### height column has smallest std value\n",
    "\n",
    "print(\"Mean height:\", df2[\"height\"].mean())\n",
    "\n",
    "df2[\"height\"].std()"
   ]
  },
  {
   "cell_type": "code",
   "execution_count": 219,
   "id": "54c5ef95",
   "metadata": {},
   "outputs": [
    {
     "name": "stdout",
     "output_type": "stream",
     "text": [
      "Mean weight: 125.65637065637065\n"
     ]
    },
    {
     "data": {
      "text/plain": [
       "16.581045809853826"
      ]
     },
     "execution_count": 219,
     "metadata": {},
     "output_type": "execute_result"
    }
   ],
   "source": [
    "## Calculate the Standard Deviation of values in a column\n",
    "### weight column has largest std value\n",
    "#### this tells about weight values are highly distributed or disbursed and height values are relatively condensed\n",
    "print(\"Mean weight:\", df2[\"weight\"].mean())\n",
    "\n",
    "df2[\"weight\"].std()"
   ]
  },
  {
   "cell_type": "code",
   "execution_count": null,
   "id": "39770570",
   "metadata": {},
   "outputs": [],
   "source": []
  }
 ],
 "metadata": {
  "kernelspec": {
   "display_name": "Python 3 (ipykernel)",
   "language": "python",
   "name": "python3"
  },
  "language_info": {
   "codemirror_mode": {
    "name": "ipython",
    "version": 3
   },
   "file_extension": ".py",
   "mimetype": "text/x-python",
   "name": "python",
   "nbconvert_exporter": "python",
   "pygments_lexer": "ipython3",
   "version": "3.9.13"
  }
 },
 "nbformat": 4,
 "nbformat_minor": 5
}
